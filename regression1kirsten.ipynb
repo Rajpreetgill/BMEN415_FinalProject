{
 "cells": [
  {
   "cell_type": "code",
   "execution_count": 8,
   "metadata": {},
   "outputs": [],
   "source": [
    "import matplotlib.pyplot as plt\n",
    "import pandas as pd\n",
    "import numpy as np\n",
    "from sklearn.model_selection import train_test_split\n",
    "from sklearn.tree import DecisionTreeRegressor\n",
    "from sklearn import tree"
   ]
  },
  {
   "cell_type": "code",
   "execution_count": 9,
   "metadata": {},
   "outputs": [],
   "source": [
    "dia = pd.read_csv('C:/Users/Kirsten Korsrud/Documents/diabetes data/diabetes-dataset.csv')"
   ]
  },
  {
   "cell_type": "code",
   "execution_count": 10,
   "metadata": {},
   "outputs": [],
   "source": [
    "# Change Insulin null (0) values to mean value\n",
    "dia.Insulin = dia.replace(0, dia.Insulin.mean())\n",
    "# Change Skin Thickness null (0) values to mean value\n",
    "dia.SkinThickness = dia.SkinThickness.replace(0, dia.SkinThickness.mean())\n",
    "# Change Glucose null (0) values to mean value\n",
    "dia.Glucose = dia.Glucose.replace(0, dia.Glucose.mean())\n",
    "# Change Glucose null (0) values to mean value\n",
    "dia.Glucose = dia.Glucose.replace(0, dia.Glucose.mean())\n",
    "# Change Skin Blood Pressure (0) values to mean value\n",
    "dia.BloodPressure = dia.BloodPressure.replace(0, dia.BloodPressure.mean())\n",
    "# Change BMI null (0) values to mean value\n",
    "dia.BMI = dia.BMI.replace(0, dia.BMI.mean())"
   ]
  },
  {
   "cell_type": "code",
   "execution_count": 11,
   "metadata": {},
   "outputs": [
    {
     "name": "stdout",
     "output_type": "stream",
     "text": [
      "   Age  BloodPressure  SkinThickness  Insulin   BMI  Pregnancies  \\\n",
      "0   47        62.0000         35.000    2.000  33.6            2   \n",
      "1   23        82.0000         31.000   80.254  38.2            0   \n",
      "2   31        69.1455         20.935   80.254  44.2            0   \n",
      "3   24        68.0000         42.000   80.254  42.3            0   \n",
      "4   21        62.0000         41.000    1.000  40.7            1   \n",
      "\n",
      "   DiabetesPedigreeFunction  \n",
      "0                     0.127  \n",
      "1                     0.233  \n",
      "2                     0.630  \n",
      "3                     0.365  \n",
      "4                     0.536  \n"
     ]
    }
   ],
   "source": [
    "X=dia[['Age', 'BloodPressure', 'SkinThickness', 'Insulin', 'BMI', 'Pregnancies', 'DiabetesPedigreeFunction']] # Features\n",
    "y=dia['Glucose'] \n",
    "print(X.head())\n"
   ]
  },
  {
   "cell_type": "code",
   "execution_count": 19,
   "metadata": {},
   "outputs": [],
   "source": [
    "import numpy as np\n",
    "from sklearn.tree import DecisionTreeRegressor\n",
    "import matplotlib.pyplot as plt\n",
    "\n",
    "\n",
    "# Fit regression model\n",
    "regr_1 = DecisionTreeRegressor(max_depth=2)\n",
    "regr_1.fit(X, y)\n",
    "\n",
    "# Predict\n",
    "X_train, X_test, y_train, y_test = train_test_split(X, y, test_size=(1/3))\n",
    "\n",
    "y_1 = regr_1.predict(X_test)\n"
   ]
  },
  {
   "cell_type": "code",
   "execution_count": 13,
   "metadata": {},
   "outputs": [],
   "source": [
    "# https://scikit-learn.org/stable/auto_examples/tree/plot_tree_regression.html#sphx-glr-auto-examples-tree-plot-tree-regression-py"
   ]
  },
  {
   "cell_type": "code",
   "execution_count": 14,
   "metadata": {},
   "outputs": [
    {
     "name": "stdout",
     "output_type": "stream",
     "text": [
      "R squared training set 0.13509401635137053\n",
      "R squared test set 0.3045676649918636\n"
     ]
    }
   ],
   "source": [
    "print('R squared training set', (regr_1.score(X_train, y_train)))\n",
    "print('R squared test set', (regr_2.score(X_test, y_test)))"
   ]
  },
  {
   "cell_type": "code",
   "execution_count": 15,
   "metadata": {},
   "outputs": [
    {
     "name": "stdout",
     "output_type": "stream",
     "text": [
      "MSE training set 811.97\n",
      "MSE test set 783.34\n"
     ]
    }
   ],
   "source": [
    "from sklearn.metrics import mean_squared_error\n",
    "\n",
    "# Training data\n",
    "pred_train1 = regr_1.predict(X_train)\n",
    "mse_train1 = mean_squared_error(y_train, pred_train1)\n",
    "print('MSE training set', round(mse_train1, 2))\n",
    "\n",
    "# Test data\n",
    "pred1 = regr_1.predict(X_test)\n",
    "mse_test1 =mean_squared_error(y_test, pred1)\n",
    "print('MSE test set', round(mse_test1, 2))"
   ]
  },
  {
   "cell_type": "code",
   "execution_count": null,
   "metadata": {},
   "outputs": [],
   "source": []
  }
 ],
 "metadata": {
  "kernelspec": {
   "display_name": "Python 3",
   "language": "python",
   "name": "python3"
  },
  "language_info": {
   "codemirror_mode": {
    "name": "ipython",
    "version": 3
   },
   "file_extension": ".py",
   "mimetype": "text/x-python",
   "name": "python",
   "nbconvert_exporter": "python",
   "pygments_lexer": "ipython3",
   "version": "3.8.5"
  }
 },
 "nbformat": 4,
 "nbformat_minor": 4
}
