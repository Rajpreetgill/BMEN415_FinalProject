{
 "cells": [
  {
   "cell_type": "code",
   "execution_count": 1,
   "metadata": {},
   "outputs": [
    {
     "name": "stdout",
     "output_type": "stream",
     "text": [
      "Requirement already satisfied: numpy in c:\\users\\rajpr\\anaconda3\\lib\\site-packages (1.19.2)\n",
      "Note: you may need to restart the kernel to use updated packages.\n"
     ]
    }
   ],
   "source": [
    "pip install numpy"
   ]
  },
  {
   "cell_type": "code",
   "execution_count": 2,
   "metadata": {},
   "outputs": [
    {
     "name": "stdout",
     "output_type": "stream",
     "text": [
      "Requirement already satisfied: pandas in c:\\users\\rajpr\\anaconda3\\lib\\site-packages (1.1.3)\n",
      "Requirement already satisfied: pytz>=2017.2 in c:\\users\\rajpr\\anaconda3\\lib\\site-packages (from pandas) (2020.1)\n",
      "Requirement already satisfied: python-dateutil>=2.7.3 in c:\\users\\rajpr\\anaconda3\\lib\\site-packages (from pandas) (2.8.1)\n",
      "Requirement already satisfied: numpy>=1.15.4 in c:\\users\\rajpr\\anaconda3\\lib\\site-packages (from pandas) (1.19.2)\n",
      "Requirement already satisfied: six>=1.5 in c:\\users\\rajpr\\anaconda3\\lib\\site-packages (from python-dateutil>=2.7.3->pandas) (1.15.0)\n",
      "Note: you may need to restart the kernel to use updated packages.\n"
     ]
    }
   ],
   "source": [
    "pip install pandas"
   ]
  },
  {
   "cell_type": "code",
   "execution_count": 3,
   "metadata": {},
   "outputs": [],
   "source": [
    "import numpy as np\n",
    "import matplotlib.pyplot as plt\n",
    "#import seaborn as sns\n",
    "from matplotlib.colors import ListedColormap\n",
    "from sklearn import neighbors, datasets\n",
    "import pandas as pd  # Importing Pandas library\n",
    "import os\n",
    "import numpy as np\n",
    "#import csv"
   ]
  },
  {
   "cell_type": "code",
   "execution_count": 4,
   "metadata": {},
   "outputs": [],
   "source": [
    "import pandas as pd\n",
    "import matplotlib.pyplot as plt\n",
    "data = pd.read_csv(r\"C:\\Users\\rajpr\\Downloads\\archive\\diabetes-dataset.csv\")\n",
    "\n",
    "#data.head()\n",
    "#turning panda data to numpy data if needed\n",
    "#data_np=data.to_numpy()\n",
    "#print('NUMPY data', data_np)\n",
    "#print(data_np.shape)\n",
    "#print(data_np[1:,1])"
   ]
  },
  {
   "cell_type": "code",
   "execution_count": 6,
   "metadata": {},
   "outputs": [
    {
     "data": {
      "text/plain": [
       "RandomForestRegressor(n_estimators=7, random_state=0)"
      ]
     },
     "execution_count": 6,
     "metadata": {},
     "output_type": "execute_result"
    }
   ],
   "source": [
    "#data preprocessing\n",
    "#x = data.iloc[1:,[2,3,4,7]].values #predictors\n",
    "#y = data.iloc[1:,1].values #outcome\n",
    "\n",
    "X = data[['Pregnancies','BloodPressure','SkinThickness','Insulin','BMI','DiabetesPedigreeFunction','Age']].values\n",
    "y = data['Glucose'].values\n",
    "\n",
    "#Fitting the Random forest regression to dataset\n",
    "from sklearn.ensemble import RandomForestRegressor\n",
    "regressor = RandomForestRegressor(n_estimators = 7, random_state = 0)\n",
    "regressor.fit(X,y)\n"
   ]
  },
  {
   "cell_type": "code",
   "execution_count": 7,
   "metadata": {},
   "outputs": [
    {
     "name": "stdout",
     "output_type": "stream",
     "text": [
      "Performance of the random forest model on training model (R^2) is:  0.9819568842977776\n",
      "Performance of the random forest model on testing model (R^2) is: 0.9818419293238141\n",
      "Training Data RMSE (accuracy for regression):  4.3131108695620535\n",
      "Testing Data RMSE (accuracy for regression):  4.301395122515484\n",
      "regressor predicted y for training:  [ 74. 180. 198. ... 100.  95. 154.]\n",
      "regressor predicted y for testing:  [113.7  90.  179.  141.  120.6 141.9 120.   90.  100.3 104.  186.7  96.\n",
      " 191.9 132.3 122.   97.1 147.4 117.  116.  122.  101.3 112.  147.  125.\n",
      " 141.2 122.  142.1  80.  119.8 135.2 125.6 114.  111.  147.   94.   88.\n",
      " 125.  170.   91.8  92.  113.   96.  129.   91.  158.1  92.8 130.  129.\n",
      " 100.  162.5 136.  165.8 122.4 171.7 109.4 120.  182.  153.5 112.  158.\n",
      " 138.  121.   81.  115.  148.  183.5 122.  113.9 155.  135.  138.1  90.\n",
      " 179.   88.9 128.  110.  173.  182.   81.  120.  146.  107.1 151.  110.\n",
      " 150.  173.  158.  126.  129.  153.7  81.  128.   81.  126.  141.  100.\n",
      " 117.1 161.  108.  171.   98.9 105.   95.  171.7 105.  168.7 112.  111.\n",
      " 174.   87.3 144.  140.8 132.3 125.  183.5 109.  167.6  94.   61.   61.\n",
      "  65.  179.3  91.   80.  116.  173.  115.   97.  126.  124.  129.3  94.6\n",
      " 153.  128.5 167.1 117.8 115.2 139.1 174.  135.  152.  161.  143.  131.\n",
      " 139.  122.  106.  141.2 120.8 162.  111.  132.   68.  114.  133.5 125.\n",
      "  91.1 119.  108.8 107.1 165.  146.7  93.9 127.6 129.  123.  102.  111.7\n",
      " 148.3 112.8 145.  112.8 105.  140.7 112.  148.  149.4 128.  161.6 184.9\n",
      " 162.  111.7 130.  105.7 115.  129.  111.  115.  106.  100.  124.   99.9\n",
      " 101.5 134.  103.4  74.  133.4 117.2 124.9 102.8  98.  105.   79.   93.1\n",
      " 138.  179.  143.  129.  181.   80.8 121.  141.  108.  109.1 125.  116.\n",
      "  62.3  92.8  97.  115.  120.  105.  179.3  93.  112.   86.  139.  155.1\n",
      " 139.5 153.7  78.  177.  102.   97.8 164.5  95.   81.4  83.  153.5 114.\n",
      " 140.   85.  121.6 140.  177.4 141.9 191.  122.2 152.  143.8 137.4 120.\n",
      "  90.  132.   96.  112.   81.4 112.   62.  144.  127.1  80.3  99.  126.\n",
      " 113.3 137.1 134.  100.  100.8  71.  184.4 102.3 166.  118.  154.  106.\n",
      " 108.2  80.   80.   89.1  93.9 115.  114.  134.5 108.  108.5 100.  183.\n",
      " 130.8 119.1 122.2 130.   97.1 191.  114.4  97.2 157.9 102.  140.  181.\n",
      " 105.3  62.  144.  111.   80.   93.  166.2 102.   97.   98.1  92.  110.6\n",
      "  77.   95.3 132.   99.   89.  157.8 142.1  89.  151.  173.  110.  115.\n",
      "  90.9 131.1  82.1  92.   99.  123.   97.8 120.4 134.  120.3  20.6 133.4\n",
      " 101.  161.5  88.8 140.2 126.5 167.   92.8 110.6  89.5 116.   96.5 155.\n",
      " 133.1  84.  179.   85.   92.  129.  132.  109.  115.  120.  177.  175.\n",
      " 135.   87.1 115.   85.   94.  137.   90.  119.8 103.3 132.7 145.  183.3\n",
      " 110.7 110.  178.  175.1 158.   98.  129.5 130.9 139.5 144.  102.   94.\n",
      " 106.5 122.  120.6  72.6 105.  137.   90.  123.  113.9 130.   77.  166.\n",
      " 120.  117.1 140.8 131.6 195.   91.1   0.  119.8 119.  125.6 129.   99.\n",
      "  95.  118.4 172.9 126.  123.  137.  139.  111.9 155.   98.  109.  122.\n",
      "  91.  167.1 138.   82.5 120.8 129.   99.  106.  172.7 110.   91.9 154.\n",
      " 125.  110.  100.  152.  187.9 163.   82.   91.  140.  153.5 106.6 138.\n",
      "  87.8 113.3 144.3 106.  115.  155.1 106.  139.4 145.  122.  105.8 133.\n",
      " 178.  162.9 114.   84.   96.  101.4 105.7  98.1 109.4 106.7 138.3 146.5\n",
      " 143.   71.  180.   71.  116.  160.  115.  139.   62.3 173.   72.6 143.\n",
      " 105.7 145.8 111.3 143.  162.   90.  183.3  80.  135.  105.  156.6 184.\n",
      " 176.   95.7 108.  121.  109.  197.  158.   90.   91.  151.8  75.5 134.\n",
      "  92.8  97.9 102.    8.9  99.  129.  102.  122.4 198.  100.   73.   82.\n",
      "  93.  122.4  83.  114.1 155.  118.   97.  114.  106.  133.5 109.5  97.4\n",
      " 140.  110.  178.  122.1  81.  127.6  99.   88.   83.  139.  124.   99.\n",
      " 139.4 162.  173.  101.3 152.7 126.9 135.5 125.  136.  106.   92.  164.2\n",
      " 106.  100.  141.2 139.2 128.  153.  144.  146.7  81.  157.6 112.  137.\n",
      " 119.  110.  160.  178.  146.5 129.3  95.4  86.   85.  184.9 115.  174.\n",
      " 176.6  80.  174.5 110.  144.  157.9 126.  109.2 102.8 123.   87.   95.9\n",
      " 124.  101.5 138.  158.  108.4  84.   99.  147.  166.  125.  175.  119.\n",
      " 124.  115.8 113.4 130.1 108.  135.9 113.6 111.1 160.5 134.  108.  173.\n",
      "  74.  136.  125.  100.  108.8 115.  129.1  87.8  91.9  81.   93.  111.\n",
      " 130.6 100.  126.3  89.  125.  119.1 106.6 106.   88.  120.  177.4  84.\n",
      " 134.9 111.   96.  195.  126.  149.7 102.  127.2  95.4 175.  150.8  80.8\n",
      " 156.1 115.  101.4 183.5  90.  108.4  95.   97.9 119.8  87.  112.2 100.1]\n"
     ]
    }
   ],
   "source": [
    "import pandas as pd\n",
    "import numpy as np\n",
    "import matplotlib.pyplot as plt\n",
    "\n",
    "from sklearn.metrics import r2_score\n",
    "import math\n",
    "from sklearn.metrics import mean_squared_error\n",
    "from sklearn.model_selection import train_test_split\n",
    "\n",
    "data = pd.read_csv(r\"C:\\Users\\rajpr\\Downloads\\archive\\diabetes-dataset.csv\")\n",
    "data.head()\n",
    " \n",
    "X = data[['Pregnancies','BloodPressure','SkinThickness','Insulin','BMI','DiabetesPedigreeFunction','Age']].values\n",
    "y = data['Glucose'].values\n",
    "\n",
    "x_train, x_test, y_train, y_test = train_test_split(X, y, test_size=0.33, random_state=42)\n",
    "\n",
    "#print(type(X))\n",
    "#print(X.shape)\n",
    "#print(y.shape)\n",
    "\n",
    "# for 10 trees\n",
    "from sklearn.ensemble import RandomForestRegressor\n",
    "regressor = RandomForestRegressor(n_estimators = 10, random_state = 0)\n",
    "regressor.fit(X,y)\n",
    " \n",
    "#y_pred=regressor.predict([[6, 1, 6, 6,9,5,7]])\n",
    "#y_pred\n",
    "\n",
    "#####\n",
    "regressorTrain_predictY = regressor.predict(x_train)\n",
    "regressorTest_predictY = regressor.predict(x_test)\n",
    "\n",
    "regressor_trainR2 = r2_score(y_train, regressorTrain_predictY)\n",
    "regressor_testR2 = r2_score(y_test, regressorTest_predictY)\n",
    "\n",
    "print(\"Performance of the random forest model on training model (R^2) is: \", regressor_trainR2)\n",
    "print(\"Performance of the random forest model on testing model (R^2) is:\", regressor_testR2)\n",
    "\n",
    "regressorTrain_RMSE = math.sqrt(mean_squared_error(y_train, regressorTrain_predictY))\n",
    "regressorTest_RMSE = math.sqrt(mean_squared_error(y_test, regressorTest_predictY))\n",
    "\n",
    "print(\"Training Data RMSE (accuracy for regression): \", regressorTrain_RMSE)\n",
    "print(\"Testing Data RMSE (accuracy for regression): \", regressorTest_RMSE)\n",
    "\n",
    "print(\"regressor predicted y for training: \", regressorTrain_predictY)\n",
    "print(\"regressor predicted y for testing: \", regressorTest_predictY)"
   ]
  },
  {
   "cell_type": "code",
   "execution_count": null,
   "metadata": {},
   "outputs": [],
   "source": []
  },
  {
   "cell_type": "code",
   "execution_count": null,
   "metadata": {},
   "outputs": [],
   "source": []
  }
 ],
 "metadata": {
  "kernelspec": {
   "display_name": "Python 3",
   "language": "python",
   "name": "python3"
  },
  "language_info": {
   "codemirror_mode": {
    "name": "ipython",
    "version": 3
   },
   "file_extension": ".py",
   "mimetype": "text/x-python",
   "name": "python",
   "nbconvert_exporter": "python",
   "pygments_lexer": "ipython3",
   "version": "3.8.5"
  }
 },
 "nbformat": 4,
 "nbformat_minor": 4
}
