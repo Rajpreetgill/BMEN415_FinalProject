{
 "cells": [
  {
   "cell_type": "code",
   "execution_count": 19,
   "metadata": {},
   "outputs": [],
   "source": [
    "import pandas as pd\n",
    "from sklearn.metrics import mean_squared_error\n",
    "from sklearn.ensemble import GradientBoostingRegressor\n",
    "from sklearn.ensemble import RandomForestRegressor\n",
    "from sklearn.linear_model import LinearRegression\n",
    "from sklearn.ensemble import VotingRegressor\n",
    "from sklearn.model_selection import train_test_split\n",
    "\n",
    "dia = pd.read_csv('C:/Users/Kirsten Korsrud/Documents/diabetes data/diabetes-dataset.csv')\n"
   ]
  },
  {
   "cell_type": "code",
   "execution_count": 20,
   "metadata": {},
   "outputs": [],
   "source": [
    "# Change Insulin null (0) values to mean value\n",
    "dia.Insulin = dia.replace(0, dia.Insulin.mean())\n",
    "# Change Skin Thickness null (0) values to mean value\n",
    "dia.SkinThickness = dia.SkinThickness.replace(0, dia.SkinThickness.mean())\n",
    "# Change Glucose null (0) values to mean value\n",
    "dia.Glucose = dia.Glucose.replace(0, dia.Glucose.mean())\n",
    "# Change Glucose null (0) values to mean value\n",
    "dia.Glucose = dia.Glucose.replace(0, dia.Glucose.mean())\n",
    "# Change Skin Blood Pressure (0) values to mean value\n",
    "dia.BloodPressure = dia.BloodPressure.replace(0, dia.BloodPressure.mean())\n",
    "# Change BMI null (0) values to mean value\n",
    "dia.BMI = dia.BMI.replace(0, dia.BMI.mean())"
   ]
  },
  {
   "cell_type": "code",
   "execution_count": 21,
   "metadata": {},
   "outputs": [],
   "source": [
    "X=dia[['Age', 'BloodPressure', 'SkinThickness', 'Insulin', 'BMI', 'Pregnancies', 'DiabetesPedigreeFunction']] # Features\n",
    "y=dia['Glucose']"
   ]
  },
  {
   "cell_type": "code",
   "execution_count": 22,
   "metadata": {},
   "outputs": [],
   "source": [
    "reg1 = GradientBoostingRegressor(random_state=1)\n",
    "reg2 = RandomForestRegressor(random_state=1)\n",
    "reg3 = LinearRegression()\n",
    "ereg = VotingRegressor(estimators=[('gb', reg1), ('rf', reg2), ('lr', reg3)])\n",
    "\n",
    "ereg = ereg.fit(X, y)"
   ]
  },
  {
   "cell_type": "code",
   "execution_count": 23,
   "metadata": {},
   "outputs": [
    {
     "name": "stdout",
     "output_type": "stream",
     "text": [
      "R squared training set 0.6802090262851571\n",
      "R squared test set 0.6867452448440432\n"
     ]
    }
   ],
   "source": [
    "X_train, X_test, y_train, y_test = train_test_split(X, y, test_size=(1/3))\n",
    "print('R squared training set', (ereg.score(X_train, y_train)))\n",
    "print('R squared test set', (ereg.score(X_test, y_test)))"
   ]
  },
  {
   "cell_type": "code",
   "execution_count": 25,
   "metadata": {},
   "outputs": [
    {
     "name": "stdout",
     "output_type": "stream",
     "text": [
      "MSE test set 298.28581523496894\n"
     ]
    }
   ],
   "source": [
    "pred4 = ereg.predict(X_test)\n",
    "\n",
    "mse_test =mean_squared_error(y_test, pred4)\n",
    "print('MSE test set', (mse_test))"
   ]
  }
 ],
 "metadata": {
  "kernelspec": {
   "display_name": "Python 3",
   "language": "python",
   "name": "python3"
  },
  "language_info": {
   "codemirror_mode": {
    "name": "ipython",
    "version": 3
   },
   "file_extension": ".py",
   "mimetype": "text/x-python",
   "name": "python",
   "nbconvert_exporter": "python",
   "pygments_lexer": "ipython3",
   "version": "3.8.5"
  }
 },
 "nbformat": 4,
 "nbformat_minor": 4
}
