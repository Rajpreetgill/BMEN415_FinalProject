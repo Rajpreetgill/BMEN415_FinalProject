{
 "cells": [
  {
   "cell_type": "markdown",
   "metadata": {},
   "source": [
    "\n",
    "# Stochastic Gradient Descent Regression Model\n"
   ]
  },
  {
   "cell_type": "code",
   "execution_count": 2,
   "metadata": {},
   "outputs": [],
   "source": [
    "# Import the necessary modules and libraries\n",
    "import numpy as np\n",
    "import pandas as pd\n",
    "import matplotlib.pyplot as plt"
   ]
  },
  {
   "cell_type": "markdown",
   "metadata": {},
   "source": [
    "\n",
    "## Data Preprocesing\n"
   ]
  },
  {
   "cell_type": "code",
   "execution_count": 3,
   "metadata": {},
   "outputs": [
    {
     "data": {
      "text/html": [
       "<div>\n",
       "<style scoped>\n",
       "    .dataframe tbody tr th:only-of-type {\n",
       "        vertical-align: middle;\n",
       "    }\n",
       "\n",
       "    .dataframe tbody tr th {\n",
       "        vertical-align: top;\n",
       "    }\n",
       "\n",
       "    .dataframe thead th {\n",
       "        text-align: right;\n",
       "    }\n",
       "</style>\n",
       "<table border=\"1\" class=\"dataframe\">\n",
       "  <thead>\n",
       "    <tr style=\"text-align: right;\">\n",
       "      <th></th>\n",
       "      <th>Pregnancies</th>\n",
       "      <th>Glucose</th>\n",
       "      <th>BloodPressure</th>\n",
       "      <th>SkinThickness</th>\n",
       "      <th>Insulin</th>\n",
       "      <th>BMI</th>\n",
       "      <th>DiabetesPedigreeFunction</th>\n",
       "      <th>Age</th>\n",
       "      <th>Outcome</th>\n",
       "    </tr>\n",
       "  </thead>\n",
       "  <tbody>\n",
       "    <tr>\n",
       "      <th>0</th>\n",
       "      <td>2</td>\n",
       "      <td>138</td>\n",
       "      <td>62</td>\n",
       "      <td>35</td>\n",
       "      <td>0</td>\n",
       "      <td>33.6</td>\n",
       "      <td>0.127</td>\n",
       "      <td>47</td>\n",
       "      <td>1</td>\n",
       "    </tr>\n",
       "    <tr>\n",
       "      <th>1</th>\n",
       "      <td>0</td>\n",
       "      <td>84</td>\n",
       "      <td>82</td>\n",
       "      <td>31</td>\n",
       "      <td>125</td>\n",
       "      <td>38.2</td>\n",
       "      <td>0.233</td>\n",
       "      <td>23</td>\n",
       "      <td>0</td>\n",
       "    </tr>\n",
       "    <tr>\n",
       "      <th>2</th>\n",
       "      <td>0</td>\n",
       "      <td>145</td>\n",
       "      <td>0</td>\n",
       "      <td>0</td>\n",
       "      <td>0</td>\n",
       "      <td>44.2</td>\n",
       "      <td>0.630</td>\n",
       "      <td>31</td>\n",
       "      <td>1</td>\n",
       "    </tr>\n",
       "    <tr>\n",
       "      <th>3</th>\n",
       "      <td>0</td>\n",
       "      <td>135</td>\n",
       "      <td>68</td>\n",
       "      <td>42</td>\n",
       "      <td>250</td>\n",
       "      <td>42.3</td>\n",
       "      <td>0.365</td>\n",
       "      <td>24</td>\n",
       "      <td>1</td>\n",
       "    </tr>\n",
       "    <tr>\n",
       "      <th>4</th>\n",
       "      <td>1</td>\n",
       "      <td>139</td>\n",
       "      <td>62</td>\n",
       "      <td>41</td>\n",
       "      <td>480</td>\n",
       "      <td>40.7</td>\n",
       "      <td>0.536</td>\n",
       "      <td>21</td>\n",
       "      <td>0</td>\n",
       "    </tr>\n",
       "    <tr>\n",
       "      <th>...</th>\n",
       "      <td>...</td>\n",
       "      <td>...</td>\n",
       "      <td>...</td>\n",
       "      <td>...</td>\n",
       "      <td>...</td>\n",
       "      <td>...</td>\n",
       "      <td>...</td>\n",
       "      <td>...</td>\n",
       "      <td>...</td>\n",
       "    </tr>\n",
       "    <tr>\n",
       "      <th>1995</th>\n",
       "      <td>2</td>\n",
       "      <td>75</td>\n",
       "      <td>64</td>\n",
       "      <td>24</td>\n",
       "      <td>55</td>\n",
       "      <td>29.7</td>\n",
       "      <td>0.370</td>\n",
       "      <td>33</td>\n",
       "      <td>0</td>\n",
       "    </tr>\n",
       "    <tr>\n",
       "      <th>1996</th>\n",
       "      <td>8</td>\n",
       "      <td>179</td>\n",
       "      <td>72</td>\n",
       "      <td>42</td>\n",
       "      <td>130</td>\n",
       "      <td>32.7</td>\n",
       "      <td>0.719</td>\n",
       "      <td>36</td>\n",
       "      <td>1</td>\n",
       "    </tr>\n",
       "    <tr>\n",
       "      <th>1997</th>\n",
       "      <td>6</td>\n",
       "      <td>85</td>\n",
       "      <td>78</td>\n",
       "      <td>0</td>\n",
       "      <td>0</td>\n",
       "      <td>31.2</td>\n",
       "      <td>0.382</td>\n",
       "      <td>42</td>\n",
       "      <td>0</td>\n",
       "    </tr>\n",
       "    <tr>\n",
       "      <th>1998</th>\n",
       "      <td>0</td>\n",
       "      <td>129</td>\n",
       "      <td>110</td>\n",
       "      <td>46</td>\n",
       "      <td>130</td>\n",
       "      <td>67.1</td>\n",
       "      <td>0.319</td>\n",
       "      <td>26</td>\n",
       "      <td>1</td>\n",
       "    </tr>\n",
       "    <tr>\n",
       "      <th>1999</th>\n",
       "      <td>2</td>\n",
       "      <td>81</td>\n",
       "      <td>72</td>\n",
       "      <td>15</td>\n",
       "      <td>76</td>\n",
       "      <td>30.1</td>\n",
       "      <td>0.547</td>\n",
       "      <td>25</td>\n",
       "      <td>0</td>\n",
       "    </tr>\n",
       "  </tbody>\n",
       "</table>\n",
       "<p>2000 rows × 9 columns</p>\n",
       "</div>"
      ],
      "text/plain": [
       "      Pregnancies  Glucose  BloodPressure  SkinThickness  Insulin   BMI  \\\n",
       "0               2      138             62             35        0  33.6   \n",
       "1               0       84             82             31      125  38.2   \n",
       "2               0      145              0              0        0  44.2   \n",
       "3               0      135             68             42      250  42.3   \n",
       "4               1      139             62             41      480  40.7   \n",
       "...           ...      ...            ...            ...      ...   ...   \n",
       "1995            2       75             64             24       55  29.7   \n",
       "1996            8      179             72             42      130  32.7   \n",
       "1997            6       85             78              0        0  31.2   \n",
       "1998            0      129            110             46      130  67.1   \n",
       "1999            2       81             72             15       76  30.1   \n",
       "\n",
       "      DiabetesPedigreeFunction  Age  Outcome  \n",
       "0                        0.127   47        1  \n",
       "1                        0.233   23        0  \n",
       "2                        0.630   31        1  \n",
       "3                        0.365   24        1  \n",
       "4                        0.536   21        0  \n",
       "...                        ...  ...      ...  \n",
       "1995                     0.370   33        0  \n",
       "1996                     0.719   36        1  \n",
       "1997                     0.382   42        0  \n",
       "1998                     0.319   26        1  \n",
       "1999                     0.547   25        0  \n",
       "\n",
       "[2000 rows x 9 columns]"
      ]
     },
     "execution_count": 3,
     "metadata": {},
     "output_type": "execute_result"
    }
   ],
   "source": [
    "diabetes_data = pd.read_csv('C:/Users/USER/Documents/Engineering/BMEN415/regression_data/diabetes-dataset.csv')\n",
    "diabetes_data"
   ]
  },
  {
   "cell_type": "code",
   "execution_count": 4,
   "metadata": {},
   "outputs": [
    {
     "data": {
      "text/plain": [
       "Pregnancies                  301\n",
       "Glucose                       13\n",
       "BloodPressure                 90\n",
       "SkinThickness                573\n",
       "Insulin                      956\n",
       "BMI                           28\n",
       "DiabetesPedigreeFunction       0\n",
       "Age                            0\n",
       "Outcome                     1316\n",
       "dtype: int64"
      ]
     },
     "execution_count": 4,
     "metadata": {},
     "output_type": "execute_result"
    }
   ],
   "source": [
    "diabetes_data[diabetes_data==0].count()"
   ]
  },
  {
   "cell_type": "code",
   "execution_count": 5,
   "metadata": {},
   "outputs": [],
   "source": [
    "# Change Insulin null (0) values to mean value\n",
    "diabetes_data.Insulin = diabetes_data.Insulin.replace(0, diabetes_data.Insulin.mean())"
   ]
  },
  {
   "cell_type": "code",
   "execution_count": 6,
   "metadata": {},
   "outputs": [],
   "source": [
    "# Change Skin Thickness null (0) values to mean value\n",
    "diabetes_data.SkinThickness = diabetes_data.SkinThickness.replace(0, diabetes_data.SkinThickness.mean())"
   ]
  },
  {
   "cell_type": "code",
   "execution_count": 7,
   "metadata": {},
   "outputs": [],
   "source": [
    "# Change Glucose null (0) values to mean value\n",
    "diabetes_data.Glucose = diabetes_data.Glucose.replace(0, diabetes_data.Glucose.mean())"
   ]
  },
  {
   "cell_type": "code",
   "execution_count": 8,
   "metadata": {},
   "outputs": [],
   "source": [
    "# Change Skin Blood Pressure (0) values to mean value\n",
    "diabetes_data.BloodPressure = diabetes_data.BloodPressure.replace(0, diabetes_data.BloodPressure.mean())"
   ]
  },
  {
   "cell_type": "code",
   "execution_count": 9,
   "metadata": {},
   "outputs": [],
   "source": [
    "# Change BMI null (0) values to mean value\n",
    "diabetes_data.BMI = diabetes_data.BMI.replace(0, diabetes_data.BMI.mean())"
   ]
  },
  {
   "cell_type": "code",
   "execution_count": 10,
   "metadata": {},
   "outputs": [
    {
     "data": {
      "text/plain": [
       "Pregnancies                  301\n",
       "Glucose                        0\n",
       "BloodPressure                  0\n",
       "SkinThickness                  0\n",
       "Insulin                        0\n",
       "BMI                            0\n",
       "DiabetesPedigreeFunction       0\n",
       "Age                            0\n",
       "Outcome                     1316\n",
       "dtype: int64"
      ]
     },
     "execution_count": 10,
     "metadata": {},
     "output_type": "execute_result"
    }
   ],
   "source": [
    "# Updated\n",
    "diabetes_data[diabetes_data==0].count()"
   ]
  },
  {
   "cell_type": "code",
   "execution_count": 11,
   "metadata": {},
   "outputs": [],
   "source": [
    "x = diabetes_data.iloc[:,[0,2,3,4,5,6,7]]\n",
    "y = diabetes_data.iloc[:,1:2].values"
   ]
  },
  {
   "cell_type": "code",
   "execution_count": 12,
   "metadata": {},
   "outputs": [
    {
     "data": {
      "text/html": [
       "<div>\n",
       "<style scoped>\n",
       "    .dataframe tbody tr th:only-of-type {\n",
       "        vertical-align: middle;\n",
       "    }\n",
       "\n",
       "    .dataframe tbody tr th {\n",
       "        vertical-align: top;\n",
       "    }\n",
       "\n",
       "    .dataframe thead th {\n",
       "        text-align: right;\n",
       "    }\n",
       "</style>\n",
       "<table border=\"1\" class=\"dataframe\">\n",
       "  <thead>\n",
       "    <tr style=\"text-align: right;\">\n",
       "      <th></th>\n",
       "      <th>Pregnancies</th>\n",
       "      <th>BloodPressure</th>\n",
       "      <th>SkinThickness</th>\n",
       "      <th>Insulin</th>\n",
       "      <th>BMI</th>\n",
       "      <th>DiabetesPedigreeFunction</th>\n",
       "      <th>Age</th>\n",
       "    </tr>\n",
       "  </thead>\n",
       "  <tbody>\n",
       "    <tr>\n",
       "      <th>0</th>\n",
       "      <td>2</td>\n",
       "      <td>62.0000</td>\n",
       "      <td>35.000</td>\n",
       "      <td>80.254</td>\n",
       "      <td>33.6</td>\n",
       "      <td>0.127</td>\n",
       "      <td>47</td>\n",
       "    </tr>\n",
       "    <tr>\n",
       "      <th>1</th>\n",
       "      <td>0</td>\n",
       "      <td>82.0000</td>\n",
       "      <td>31.000</td>\n",
       "      <td>125.000</td>\n",
       "      <td>38.2</td>\n",
       "      <td>0.233</td>\n",
       "      <td>23</td>\n",
       "    </tr>\n",
       "    <tr>\n",
       "      <th>2</th>\n",
       "      <td>0</td>\n",
       "      <td>69.1455</td>\n",
       "      <td>20.935</td>\n",
       "      <td>80.254</td>\n",
       "      <td>44.2</td>\n",
       "      <td>0.630</td>\n",
       "      <td>31</td>\n",
       "    </tr>\n",
       "    <tr>\n",
       "      <th>3</th>\n",
       "      <td>0</td>\n",
       "      <td>68.0000</td>\n",
       "      <td>42.000</td>\n",
       "      <td>250.000</td>\n",
       "      <td>42.3</td>\n",
       "      <td>0.365</td>\n",
       "      <td>24</td>\n",
       "    </tr>\n",
       "    <tr>\n",
       "      <th>4</th>\n",
       "      <td>1</td>\n",
       "      <td>62.0000</td>\n",
       "      <td>41.000</td>\n",
       "      <td>480.000</td>\n",
       "      <td>40.7</td>\n",
       "      <td>0.536</td>\n",
       "      <td>21</td>\n",
       "    </tr>\n",
       "    <tr>\n",
       "      <th>...</th>\n",
       "      <td>...</td>\n",
       "      <td>...</td>\n",
       "      <td>...</td>\n",
       "      <td>...</td>\n",
       "      <td>...</td>\n",
       "      <td>...</td>\n",
       "      <td>...</td>\n",
       "    </tr>\n",
       "    <tr>\n",
       "      <th>1995</th>\n",
       "      <td>2</td>\n",
       "      <td>64.0000</td>\n",
       "      <td>24.000</td>\n",
       "      <td>55.000</td>\n",
       "      <td>29.7</td>\n",
       "      <td>0.370</td>\n",
       "      <td>33</td>\n",
       "    </tr>\n",
       "    <tr>\n",
       "      <th>1996</th>\n",
       "      <td>8</td>\n",
       "      <td>72.0000</td>\n",
       "      <td>42.000</td>\n",
       "      <td>130.000</td>\n",
       "      <td>32.7</td>\n",
       "      <td>0.719</td>\n",
       "      <td>36</td>\n",
       "    </tr>\n",
       "    <tr>\n",
       "      <th>1997</th>\n",
       "      <td>6</td>\n",
       "      <td>78.0000</td>\n",
       "      <td>20.935</td>\n",
       "      <td>80.254</td>\n",
       "      <td>31.2</td>\n",
       "      <td>0.382</td>\n",
       "      <td>42</td>\n",
       "    </tr>\n",
       "    <tr>\n",
       "      <th>1998</th>\n",
       "      <td>0</td>\n",
       "      <td>110.0000</td>\n",
       "      <td>46.000</td>\n",
       "      <td>130.000</td>\n",
       "      <td>67.1</td>\n",
       "      <td>0.319</td>\n",
       "      <td>26</td>\n",
       "    </tr>\n",
       "    <tr>\n",
       "      <th>1999</th>\n",
       "      <td>2</td>\n",
       "      <td>72.0000</td>\n",
       "      <td>15.000</td>\n",
       "      <td>76.000</td>\n",
       "      <td>30.1</td>\n",
       "      <td>0.547</td>\n",
       "      <td>25</td>\n",
       "    </tr>\n",
       "  </tbody>\n",
       "</table>\n",
       "<p>2000 rows × 7 columns</p>\n",
       "</div>"
      ],
      "text/plain": [
       "      Pregnancies  BloodPressure  SkinThickness  Insulin   BMI  \\\n",
       "0               2        62.0000         35.000   80.254  33.6   \n",
       "1               0        82.0000         31.000  125.000  38.2   \n",
       "2               0        69.1455         20.935   80.254  44.2   \n",
       "3               0        68.0000         42.000  250.000  42.3   \n",
       "4               1        62.0000         41.000  480.000  40.7   \n",
       "...           ...            ...            ...      ...   ...   \n",
       "1995            2        64.0000         24.000   55.000  29.7   \n",
       "1996            8        72.0000         42.000  130.000  32.7   \n",
       "1997            6        78.0000         20.935   80.254  31.2   \n",
       "1998            0       110.0000         46.000  130.000  67.1   \n",
       "1999            2        72.0000         15.000   76.000  30.1   \n",
       "\n",
       "      DiabetesPedigreeFunction  Age  \n",
       "0                        0.127   47  \n",
       "1                        0.233   23  \n",
       "2                        0.630   31  \n",
       "3                        0.365   24  \n",
       "4                        0.536   21  \n",
       "...                        ...  ...  \n",
       "1995                     0.370   33  \n",
       "1996                     0.719   36  \n",
       "1997                     0.382   42  \n",
       "1998                     0.319   26  \n",
       "1999                     0.547   25  \n",
       "\n",
       "[2000 rows x 7 columns]"
      ]
     },
     "execution_count": 12,
     "metadata": {},
     "output_type": "execute_result"
    }
   ],
   "source": [
    "x # Predictors"
   ]
  },
  {
   "cell_type": "code",
   "execution_count": 13,
   "metadata": {},
   "outputs": [
    {
     "data": {
      "text/plain": [
       "array([[138.],\n",
       "       [ 84.],\n",
       "       [145.],\n",
       "       ...,\n",
       "       [ 85.],\n",
       "       [129.],\n",
       "       [ 81.]])"
      ]
     },
     "execution_count": 13,
     "metadata": {},
     "output_type": "execute_result"
    }
   ],
   "source": [
    "y # Outcome - Glucose Levels"
   ]
  },
  {
   "cell_type": "code",
   "execution_count": 14,
   "metadata": {},
   "outputs": [
    {
     "name": "stdout",
     "output_type": "stream",
     "text": [
      "<class 'pandas.core.frame.DataFrame'>\n",
      "RangeIndex: 2000 entries, 0 to 1999\n",
      "Data columns (total 9 columns):\n",
      " #   Column                    Non-Null Count  Dtype  \n",
      "---  ------                    --------------  -----  \n",
      " 0   Pregnancies               2000 non-null   int64  \n",
      " 1   Glucose                   2000 non-null   float64\n",
      " 2   BloodPressure             2000 non-null   float64\n",
      " 3   SkinThickness             2000 non-null   float64\n",
      " 4   Insulin                   2000 non-null   float64\n",
      " 5   BMI                       2000 non-null   float64\n",
      " 6   DiabetesPedigreeFunction  2000 non-null   float64\n",
      " 7   Age                       2000 non-null   int64  \n",
      " 8   Outcome                   2000 non-null   int64  \n",
      "dtypes: float64(6), int64(3)\n",
      "memory usage: 140.8 KB\n"
     ]
    }
   ],
   "source": [
    "diabetes_data.info() # summary of data and data types"
   ]
  },
  {
   "cell_type": "code",
   "execution_count": 15,
   "metadata": {},
   "outputs": [
    {
     "data": {
      "text/html": [
       "<div>\n",
       "<style scoped>\n",
       "    .dataframe tbody tr th:only-of-type {\n",
       "        vertical-align: middle;\n",
       "    }\n",
       "\n",
       "    .dataframe tbody tr th {\n",
       "        vertical-align: top;\n",
       "    }\n",
       "\n",
       "    .dataframe thead th {\n",
       "        text-align: right;\n",
       "    }\n",
       "</style>\n",
       "<table border=\"1\" class=\"dataframe\">\n",
       "  <thead>\n",
       "    <tr style=\"text-align: right;\">\n",
       "      <th></th>\n",
       "      <th>Pregnancies</th>\n",
       "      <th>Glucose</th>\n",
       "      <th>BloodPressure</th>\n",
       "      <th>SkinThickness</th>\n",
       "      <th>Insulin</th>\n",
       "      <th>BMI</th>\n",
       "      <th>DiabetesPedigreeFunction</th>\n",
       "      <th>Age</th>\n",
       "      <th>Outcome</th>\n",
       "    </tr>\n",
       "  </thead>\n",
       "  <tbody>\n",
       "    <tr>\n",
       "      <th>count</th>\n",
       "      <td>2000.000000</td>\n",
       "      <td>2000.000000</td>\n",
       "      <td>2000.000000</td>\n",
       "      <td>2000.000000</td>\n",
       "      <td>2000.000000</td>\n",
       "      <td>2000.000000</td>\n",
       "      <td>2000.000000</td>\n",
       "      <td>2000.000000</td>\n",
       "      <td>2000.000000</td>\n",
       "    </tr>\n",
       "    <tr>\n",
       "      <th>mean</th>\n",
       "      <td>3.703500</td>\n",
       "      <td>121.970186</td>\n",
       "      <td>72.257047</td>\n",
       "      <td>26.932877</td>\n",
       "      <td>118.615412</td>\n",
       "      <td>32.643702</td>\n",
       "      <td>0.470930</td>\n",
       "      <td>33.090500</td>\n",
       "      <td>0.342000</td>\n",
       "    </tr>\n",
       "    <tr>\n",
       "      <th>std</th>\n",
       "      <td>3.306063</td>\n",
       "      <td>30.533180</td>\n",
       "      <td>11.968614</td>\n",
       "      <td>9.884003</td>\n",
       "      <td>88.366170</td>\n",
       "      <td>7.190337</td>\n",
       "      <td>0.323553</td>\n",
       "      <td>11.786423</td>\n",
       "      <td>0.474498</td>\n",
       "    </tr>\n",
       "    <tr>\n",
       "      <th>min</th>\n",
       "      <td>0.000000</td>\n",
       "      <td>44.000000</td>\n",
       "      <td>24.000000</td>\n",
       "      <td>7.000000</td>\n",
       "      <td>14.000000</td>\n",
       "      <td>18.200000</td>\n",
       "      <td>0.078000</td>\n",
       "      <td>21.000000</td>\n",
       "      <td>0.000000</td>\n",
       "    </tr>\n",
       "    <tr>\n",
       "      <th>25%</th>\n",
       "      <td>1.000000</td>\n",
       "      <td>99.000000</td>\n",
       "      <td>64.000000</td>\n",
       "      <td>20.935000</td>\n",
       "      <td>80.254000</td>\n",
       "      <td>27.600000</td>\n",
       "      <td>0.244000</td>\n",
       "      <td>24.000000</td>\n",
       "      <td>0.000000</td>\n",
       "    </tr>\n",
       "    <tr>\n",
       "      <th>50%</th>\n",
       "      <td>3.000000</td>\n",
       "      <td>118.000000</td>\n",
       "      <td>72.000000</td>\n",
       "      <td>23.000000</td>\n",
       "      <td>80.254000</td>\n",
       "      <td>32.300000</td>\n",
       "      <td>0.376000</td>\n",
       "      <td>29.000000</td>\n",
       "      <td>0.000000</td>\n",
       "    </tr>\n",
       "    <tr>\n",
       "      <th>75%</th>\n",
       "      <td>6.000000</td>\n",
       "      <td>141.000000</td>\n",
       "      <td>80.000000</td>\n",
       "      <td>32.000000</td>\n",
       "      <td>130.000000</td>\n",
       "      <td>36.800000</td>\n",
       "      <td>0.624000</td>\n",
       "      <td>40.000000</td>\n",
       "      <td>1.000000</td>\n",
       "    </tr>\n",
       "    <tr>\n",
       "      <th>max</th>\n",
       "      <td>17.000000</td>\n",
       "      <td>199.000000</td>\n",
       "      <td>122.000000</td>\n",
       "      <td>110.000000</td>\n",
       "      <td>744.000000</td>\n",
       "      <td>80.600000</td>\n",
       "      <td>2.420000</td>\n",
       "      <td>81.000000</td>\n",
       "      <td>1.000000</td>\n",
       "    </tr>\n",
       "  </tbody>\n",
       "</table>\n",
       "</div>"
      ],
      "text/plain": [
       "       Pregnancies      Glucose  BloodPressure  SkinThickness      Insulin  \\\n",
       "count  2000.000000  2000.000000    2000.000000    2000.000000  2000.000000   \n",
       "mean      3.703500   121.970186      72.257047      26.932877   118.615412   \n",
       "std       3.306063    30.533180      11.968614       9.884003    88.366170   \n",
       "min       0.000000    44.000000      24.000000       7.000000    14.000000   \n",
       "25%       1.000000    99.000000      64.000000      20.935000    80.254000   \n",
       "50%       3.000000   118.000000      72.000000      23.000000    80.254000   \n",
       "75%       6.000000   141.000000      80.000000      32.000000   130.000000   \n",
       "max      17.000000   199.000000     122.000000     110.000000   744.000000   \n",
       "\n",
       "               BMI  DiabetesPedigreeFunction          Age      Outcome  \n",
       "count  2000.000000               2000.000000  2000.000000  2000.000000  \n",
       "mean     32.643702                  0.470930    33.090500     0.342000  \n",
       "std       7.190337                  0.323553    11.786423     0.474498  \n",
       "min      18.200000                  0.078000    21.000000     0.000000  \n",
       "25%      27.600000                  0.244000    24.000000     0.000000  \n",
       "50%      32.300000                  0.376000    29.000000     0.000000  \n",
       "75%      36.800000                  0.624000    40.000000     1.000000  \n",
       "max      80.600000                  2.420000    81.000000     1.000000  "
      ]
     },
     "execution_count": 15,
     "metadata": {},
     "output_type": "execute_result"
    }
   ],
   "source": [
    "diabetes_data.describe() # description of the data"
   ]
  },
  {
   "cell_type": "code",
   "execution_count": 16,
   "metadata": {
    "scrolled": true
   },
   "outputs": [
    {
     "data": {
      "text/html": [
       "<div>\n",
       "<style scoped>\n",
       "    .dataframe tbody tr th:only-of-type {\n",
       "        vertical-align: middle;\n",
       "    }\n",
       "\n",
       "    .dataframe tbody tr th {\n",
       "        vertical-align: top;\n",
       "    }\n",
       "\n",
       "    .dataframe thead th {\n",
       "        text-align: right;\n",
       "    }\n",
       "</style>\n",
       "<table border=\"1\" class=\"dataframe\">\n",
       "  <thead>\n",
       "    <tr style=\"text-align: right;\">\n",
       "      <th></th>\n",
       "      <th>Pregnancies</th>\n",
       "      <th>Glucose</th>\n",
       "      <th>BloodPressure</th>\n",
       "      <th>SkinThickness</th>\n",
       "      <th>Insulin</th>\n",
       "      <th>BMI</th>\n",
       "      <th>DiabetesPedigreeFunction</th>\n",
       "      <th>Age</th>\n",
       "      <th>Outcome</th>\n",
       "    </tr>\n",
       "  </thead>\n",
       "  <tbody>\n",
       "    <tr>\n",
       "      <th>Pregnancies</th>\n",
       "      <td>1.000000</td>\n",
       "      <td>0.121569</td>\n",
       "      <td>0.199471</td>\n",
       "      <td>0.028116</td>\n",
       "      <td>-0.020319</td>\n",
       "      <td>0.011439</td>\n",
       "      <td>-0.025453</td>\n",
       "      <td>0.539457</td>\n",
       "      <td>0.224437</td>\n",
       "    </tr>\n",
       "    <tr>\n",
       "      <th>Glucose</th>\n",
       "      <td>0.121569</td>\n",
       "      <td>1.000000</td>\n",
       "      <td>0.200509</td>\n",
       "      <td>0.175337</td>\n",
       "      <td>0.384706</td>\n",
       "      <td>0.233228</td>\n",
       "      <td>0.124176</td>\n",
       "      <td>0.259853</td>\n",
       "      <td>0.487977</td>\n",
       "    </tr>\n",
       "    <tr>\n",
       "      <th>BloodPressure</th>\n",
       "      <td>0.199471</td>\n",
       "      <td>0.200509</td>\n",
       "      <td>1.000000</td>\n",
       "      <td>0.154736</td>\n",
       "      <td>0.012714</td>\n",
       "      <td>0.259445</td>\n",
       "      <td>0.015216</td>\n",
       "      <td>0.325490</td>\n",
       "      <td>0.171844</td>\n",
       "    </tr>\n",
       "    <tr>\n",
       "      <th>SkinThickness</th>\n",
       "      <td>0.028116</td>\n",
       "      <td>0.175337</td>\n",
       "      <td>0.154736</td>\n",
       "      <td>1.000000</td>\n",
       "      <td>0.257060</td>\n",
       "      <td>0.520245</td>\n",
       "      <td>0.143700</td>\n",
       "      <td>0.035946</td>\n",
       "      <td>0.170856</td>\n",
       "    </tr>\n",
       "    <tr>\n",
       "      <th>Insulin</th>\n",
       "      <td>-0.020319</td>\n",
       "      <td>0.384706</td>\n",
       "      <td>0.012714</td>\n",
       "      <td>0.257060</td>\n",
       "      <td>1.000000</td>\n",
       "      <td>0.217047</td>\n",
       "      <td>0.161557</td>\n",
       "      <td>-0.009007</td>\n",
       "      <td>0.171339</td>\n",
       "    </tr>\n",
       "    <tr>\n",
       "      <th>BMI</th>\n",
       "      <td>0.011439</td>\n",
       "      <td>0.233228</td>\n",
       "      <td>0.259445</td>\n",
       "      <td>0.520245</td>\n",
       "      <td>0.217047</td>\n",
       "      <td>1.000000</td>\n",
       "      <td>0.142019</td>\n",
       "      <td>0.018815</td>\n",
       "      <td>0.282615</td>\n",
       "    </tr>\n",
       "    <tr>\n",
       "      <th>DiabetesPedigreeFunction</th>\n",
       "      <td>-0.025453</td>\n",
       "      <td>0.124176</td>\n",
       "      <td>0.015216</td>\n",
       "      <td>0.143700</td>\n",
       "      <td>0.161557</td>\n",
       "      <td>0.142019</td>\n",
       "      <td>1.000000</td>\n",
       "      <td>0.026569</td>\n",
       "      <td>0.155459</td>\n",
       "    </tr>\n",
       "    <tr>\n",
       "      <th>Age</th>\n",
       "      <td>0.539457</td>\n",
       "      <td>0.259853</td>\n",
       "      <td>0.325490</td>\n",
       "      <td>0.035946</td>\n",
       "      <td>-0.009007</td>\n",
       "      <td>0.018815</td>\n",
       "      <td>0.026569</td>\n",
       "      <td>1.000000</td>\n",
       "      <td>0.236509</td>\n",
       "    </tr>\n",
       "    <tr>\n",
       "      <th>Outcome</th>\n",
       "      <td>0.224437</td>\n",
       "      <td>0.487977</td>\n",
       "      <td>0.171844</td>\n",
       "      <td>0.170856</td>\n",
       "      <td>0.171339</td>\n",
       "      <td>0.282615</td>\n",
       "      <td>0.155459</td>\n",
       "      <td>0.236509</td>\n",
       "      <td>1.000000</td>\n",
       "    </tr>\n",
       "  </tbody>\n",
       "</table>\n",
       "</div>"
      ],
      "text/plain": [
       "                          Pregnancies   Glucose  BloodPressure  SkinThickness  \\\n",
       "Pregnancies                  1.000000  0.121569       0.199471       0.028116   \n",
       "Glucose                      0.121569  1.000000       0.200509       0.175337   \n",
       "BloodPressure                0.199471  0.200509       1.000000       0.154736   \n",
       "SkinThickness                0.028116  0.175337       0.154736       1.000000   \n",
       "Insulin                     -0.020319  0.384706       0.012714       0.257060   \n",
       "BMI                          0.011439  0.233228       0.259445       0.520245   \n",
       "DiabetesPedigreeFunction    -0.025453  0.124176       0.015216       0.143700   \n",
       "Age                          0.539457  0.259853       0.325490       0.035946   \n",
       "Outcome                      0.224437  0.487977       0.171844       0.170856   \n",
       "\n",
       "                           Insulin       BMI  DiabetesPedigreeFunction  \\\n",
       "Pregnancies              -0.020319  0.011439                 -0.025453   \n",
       "Glucose                   0.384706  0.233228                  0.124176   \n",
       "BloodPressure             0.012714  0.259445                  0.015216   \n",
       "SkinThickness             0.257060  0.520245                  0.143700   \n",
       "Insulin                   1.000000  0.217047                  0.161557   \n",
       "BMI                       0.217047  1.000000                  0.142019   \n",
       "DiabetesPedigreeFunction  0.161557  0.142019                  1.000000   \n",
       "Age                      -0.009007  0.018815                  0.026569   \n",
       "Outcome                   0.171339  0.282615                  0.155459   \n",
       "\n",
       "                               Age   Outcome  \n",
       "Pregnancies               0.539457  0.224437  \n",
       "Glucose                   0.259853  0.487977  \n",
       "BloodPressure             0.325490  0.171844  \n",
       "SkinThickness             0.035946  0.170856  \n",
       "Insulin                  -0.009007  0.171339  \n",
       "BMI                       0.018815  0.282615  \n",
       "DiabetesPedigreeFunction  0.026569  0.155459  \n",
       "Age                       1.000000  0.236509  \n",
       "Outcome                   0.236509  1.000000  "
      ]
     },
     "execution_count": 16,
     "metadata": {},
     "output_type": "execute_result"
    }
   ],
   "source": [
    "diabetes_data.corr() # correlation of the data"
   ]
  },
  {
   "cell_type": "code",
   "execution_count": 17,
   "metadata": {},
   "outputs": [
    {
     "data": {
      "image/png": "[encoded data removed]",
      "text/plain": [
       "<Figure size 1368x1080 with 2 Axes>"
      ]
     },
     "metadata": {
      "needs_background": "light"
     },
     "output_type": "display_data"
    }
   ],
   "source": [
    "# Correlation Matrix of Predictors\n",
    "correlation = plt.figure(figsize=(19, 15))\n",
    "plt.matshow(x.corr(), fignum=correlation.number)\n",
    "plt.xticks(range(x.select_dtypes(['number']).shape[1]), x.select_dtypes(['number']).columns, fontsize=14, rotation=45)\n",
    "plt.yticks(range(x.select_dtypes(['number']).shape[1]), x.select_dtypes(['number']).columns, fontsize=14)\n",
    "cb = plt.colorbar()\n",
    "cb.ax.tick_params(labelsize=14)\n",
    "plt.title('Correlation Matrix of Predictors', fontsize=16);"
   ]
  },
  {
   "cell_type": "code",
   "execution_count": 18,
   "metadata": {},
   "outputs": [
    {
     "data": {
      "image/png": "[encoded data removed]",
      "text/plain": [
       "<Figure size 864x720 with 9 Axes>"
      ]
     },
     "metadata": {
      "needs_background": "light"
     },
     "output_type": "display_data"
    }
   ],
   "source": [
    "fig, axes = plt.subplots(nrows=3, ncols=3, figsize=(12, 10))\n",
    "\n",
    "x.plot(kind=\"hist\", y=\"Pregnancies\", bins = 17, color=\"blueviolet\", ax=axes[0][0])\n",
    "x.plot(kind=\"hist\", y=\"BloodPressure\", bins = 120, color=\"lightpink\", ax=axes[0][1])\n",
    "x.plot(kind=\"hist\", y=\"SkinThickness\", bins=50, color=\"aquamarine\", ax=axes[0][2])\n",
    "x.plot(kind=\"hist\", y=\"Insulin\", bins=100, color=\"yellow\", ax=axes[1][0])\n",
    "x.plot(kind=\"hist\", y=\"BMI\", bins=50, color=\"royalblue\", ax=axes[1][1])\n",
    "x.plot(kind=\"hist\", y=\"DiabetesPedigreeFunction\", bins=50, color=\"palegreen\", ax=axes[1][2])\n",
    "x.plot(kind=\"hist\", y=\"Age\", bins=20, color=\"orangered\", ax=axes[2][0])\n",
    "plt.show()"
   ]
  },
  {
   "cell_type": "markdown",
   "metadata": {},
   "source": [
    "\n",
    "## Training the Data\n"
   ]
  },
  {
   "cell_type": "code",
   "execution_count": 19,
   "metadata": {},
   "outputs": [],
   "source": [
    "from sklearn.model_selection import train_test_split\n",
    "x_train, x_test, y_train, y_test = train_test_split(x,y,test_size=1/3,random_state=0) \n",
    "# splits data, 1/3 of data for testing, 2/3 of data for training"
   ]
  },
  {
   "cell_type": "code",
   "execution_count": 20,
   "metadata": {},
   "outputs": [
    {
     "data": {
      "text/plain": [
       "Pipeline(steps=[('standardscaler', StandardScaler()),\n",
       "                ('sgdregressor', SGDRegressor())])"
      ]
     },
     "execution_count": 20,
     "metadata": {},
     "output_type": "execute_result"
    }
   ],
   "source": [
    "from sklearn.linear_model import SGDRegressor\n",
    "from sklearn.pipeline import make_pipeline\n",
    "from sklearn.preprocessing import StandardScaler\n",
    "\n",
    "regressor = make_pipeline(StandardScaler(), SGDRegressor())\n",
    "\n",
    "regressor.fit(x_train, y_train.ravel())"
   ]
  },
  {
   "cell_type": "markdown",
   "metadata": {},
   "source": [
    "\n",
    "## Testing the Model\n"
   ]
  },
  {
   "cell_type": "code",
   "execution_count": 21,
   "metadata": {},
   "outputs": [],
   "source": [
    "# Predict glucose from test data\n",
    "y_pred = regressor.predict(x_test)"
   ]
  },
  {
   "cell_type": "code",
   "execution_count": 22,
   "metadata": {},
   "outputs": [
    {
     "data": {
      "text/plain": [
       "array([124.98459375, 115.83847964, 114.31648309, 110.83862928,\n",
       "       137.56471076, 125.94967523, 107.06191445, 112.36479916,\n",
       "       119.53607503, 108.49721547, 103.04478325, 124.61753352,\n",
       "       112.02427417, 120.59220433, 125.94967523, 100.28429969,\n",
       "       131.59499165, 128.1736119 , 136.55784426, 135.03669071,\n",
       "       136.08411348, 128.74196085, 113.91544185, 115.66943872,\n",
       "       108.47106479, 137.91787957, 131.98639812, 136.73558693,\n",
       "       116.83231534, 117.57128013, 144.95766106, 125.51865714,\n",
       "       110.5302279 , 147.12628356, 107.12523712, 130.0055283 ,\n",
       "       122.98788105, 105.35738689, 124.89717942, 132.74054235,\n",
       "       129.54542634, 113.9912433 , 113.07581223, 133.70226071,\n",
       "       135.27476673, 157.43354353, 129.40880629, 116.57412306,\n",
       "       134.26940982, 109.79462142, 113.15528441, 117.06275112,\n",
       "       122.53186183, 128.71487786, 131.83615599, 104.73997866,\n",
       "       128.31983196, 129.85098081, 107.12700639, 112.35649345,\n",
       "       110.72674153, 115.83964534, 115.89725175, 119.45793676,\n",
       "       108.9232001 , 111.50934348, 108.31078349, 142.20066125,\n",
       "       124.82780814, 104.47325661, 108.00396689, 125.79557654,\n",
       "       125.99252583, 108.6888631 , 117.09087913, 140.55520701,\n",
       "       119.97662428, 101.09993452, 153.94972866, 114.71927204,\n",
       "       116.2954544 , 120.43603221, 133.74056169, 123.28237286,\n",
       "       116.50651598, 112.38098369, 120.72375765, 121.63273715,\n",
       "       165.90926558, 131.99240361, 159.86761414, 126.91190472,\n",
       "       134.64091694, 124.27711801, 128.74019906, 112.35649345,\n",
       "       116.55489865,  98.4556716 , 120.23190076, 114.92232874,\n",
       "       105.65117032, 135.64819897, 132.74054235, 122.27007021,\n",
       "       125.32386742, 111.56179123, 128.63259305, 142.39527439,\n",
       "       106.46812718, 120.98209547, 119.46088137, 128.60797442,\n",
       "       118.30101349,  94.08257955, 121.44664512, 125.51865714,\n",
       "       103.76307956, 116.47121781, 144.43586562, 124.89717942,\n",
       "       123.14737959, 109.84429371, 104.11767436, 127.25814266,\n",
       "       104.44524395, 107.17766269, 113.93418045, 111.89618193,\n",
       "       121.38572916, 124.24300109, 104.47325661, 112.36479916,\n",
       "       105.920499  , 148.48521924,  98.77054705, 104.73997866,\n",
       "       112.52253417, 123.75060452, 100.30122764, 105.60958447,\n",
       "       113.54562204, 123.75060452, 125.97261264, 102.00028522,\n",
       "       120.95142655, 108.47106479, 113.97260721, 106.46812718,\n",
       "       119.58830811, 100.4044364 , 118.7000265 , 105.93841048,\n",
       "       140.49136678, 114.34531348, 122.69646078, 129.01360161,\n",
       "       142.63265153, 103.15767705, 107.74090326, 134.6924184 ,\n",
       "       125.08454024, 130.36707941, 116.99968726, 122.10143036,\n",
       "        98.19671477, 125.26832861, 120.1873236 , 125.32386742,\n",
       "       125.66899975, 110.51270958, 111.59927287, 112.78237958,\n",
       "       112.75370883, 123.47472093, 132.03201589, 112.75370883,\n",
       "       103.37443914, 109.41977707, 123.93889307, 114.84581901,\n",
       "       133.51444519, 131.59499165, 124.05035559, 115.95715523,\n",
       "       101.45993029, 177.88917362, 108.613855  , 125.30769735,\n",
       "       116.76348216, 133.49153526, 100.42014019, 119.31155841,\n",
       "       128.92773858, 126.86885194, 136.58503706, 108.08674512,\n",
       "       118.75320502, 109.6891236 , 123.72230677, 116.39578084,\n",
       "       141.9085777 , 166.07873507, 125.26832861, 110.19743476,\n",
       "       101.09993452, 128.95375558, 127.33818276, 109.268598  ,\n",
       "       130.93240833, 101.02974244, 121.64370827, 139.07481914,\n",
       "       114.88745377, 110.83862928, 160.36207483, 109.17315666,\n",
       "       155.6099182 , 141.00210108, 107.25221397, 136.23608124,\n",
       "       121.11216064, 114.02002817, 132.83016107, 112.52253417,\n",
       "       116.91098354, 104.22239356, 103.76316059, 146.33744678,\n",
       "       135.12192223, 127.83844759, 116.77601117, 121.29350709,\n",
       "       118.14127031, 121.40068361, 103.04346349, 116.82070929,\n",
       "       115.17358851, 128.74019906, 103.04346349, 117.02265908,\n",
       "       122.69646078,  92.93958122, 134.85297435, 136.55784426,\n",
       "       116.50651598, 125.04249216, 152.22383855,  98.26461553,\n",
       "       113.27060459, 125.08444109, 118.37937661, 112.20851693,\n",
       "       132.79919354, 146.29299752, 100.56991337, 119.77292902,\n",
       "       111.13982773, 132.37174273, 112.02401215, 111.89618193,\n",
       "       121.51811208, 110.02565492, 120.16931013, 128.95375558,\n",
       "       116.16453839, 127.83844759, 124.39822154, 106.81631036,\n",
       "       113.42982147, 105.33083531, 145.08663392, 127.83844759,\n",
       "       135.27476673, 115.65777447, 153.75423647, 124.77141209,\n",
       "       127.18263501, 140.58269761, 141.88561883, 128.83662229,\n",
       "       109.97499197, 126.24058369, 108.31078349, 138.6879967 ,\n",
       "       153.75423647, 120.98189915, 131.99240361, 111.78155984,\n",
       "       124.55337688, 100.4044364 , 125.04249216, 123.14737959,\n",
       "       102.34838458, 114.91550764, 115.83964534, 104.8944787 ,\n",
       "       122.69646078, 130.36707941, 128.55400469, 106.11351457,\n",
       "       121.64370827, 107.74090326, 109.96760852, 140.32232647,\n",
       "       129.83476669,  98.4556716 , 114.34531348, 118.68651047,\n",
       "       116.60246444, 116.59022288, 150.94289091, 114.01513857,\n",
       "       125.08454024, 121.13608399, 116.41557492, 116.83231534,\n",
       "       157.8004701 , 112.64409916, 151.3540732 ,  98.26460054,\n",
       "       115.89725175, 106.69945422, 165.90926558, 138.18468087,\n",
       "       106.93905931, 130.76707872, 128.55400469, 130.84749915,\n",
       "       114.84581901, 126.27928383, 100.30122764, 107.17766269,\n",
       "       119.50398007, 118.1012485 , 129.40880629, 127.05924286,\n",
       "       117.18685471, 124.05035559, 125.30769735, 132.66617363,\n",
       "       120.95142655, 206.83175117, 116.53994471, 136.7070258 ,\n",
       "       116.91179899, 115.64420018, 121.51811208, 116.16453839,\n",
       "       118.7000265 , 120.62940836, 153.31377988, 115.59601982,\n",
       "       131.83615599, 124.39822154, 126.77781749, 128.60797442,\n",
       "       132.44141365, 103.04478325, 121.44664512, 107.16543059,\n",
       "       119.50398007, 112.02401215, 114.28818891, 136.34457021,\n",
       "       100.36549594, 111.58735047, 118.5451314 , 132.37174273,\n",
       "       131.19703747,  99.06169206, 125.66899975, 115.66943872,\n",
       "       114.34802723, 132.66581942, 102.22684235, 112.35649345,\n",
       "       104.81303237, 141.49098235, 120.72375765, 114.93743638,\n",
       "       104.22239356, 110.95218016, 118.12661465, 142.16109366,\n",
       "       118.40353162, 118.22411817, 115.64420018, 121.75308015,\n",
       "       109.66307009, 116.99968726, 139.68576359, 102.1104568 ,\n",
       "       116.17047931, 128.80235473, 132.53242977, 126.14847362,\n",
       "       141.81698691, 123.69034867, 166.07873507, 108.24657458,\n",
       "       128.83662229, 134.6924184 , 126.24058369, 121.42250157,\n",
       "       123.28237286, 118.71956719, 136.55784426, 112.98859307,\n",
       "       120.65384751, 114.58861404, 101.13384221, 117.34934246,\n",
       "       116.60246444, 141.49098235, 113.42015576, 116.39578084,\n",
       "       129.48213741, 114.92232874, 143.65242593, 113.25771313,\n",
       "       140.23361467, 112.78237958, 121.23621509, 126.84266605,\n",
       "       128.12510813, 122.98788105, 172.56617214, 119.76995992,\n",
       "       116.77839214, 107.2549544 , 133.03196623,  99.10498428,\n",
       "       131.40910574, 121.46046873, 130.36707941, 124.54949651,\n",
       "       119.54596695, 130.04735732, 115.17358851,  99.96558619,\n",
       "       112.67033088, 131.19703747, 106.9019118 , 128.63259305,\n",
       "       160.97836232, 143.65242593, 109.84429371, 120.98209547,\n",
       "       118.03594439, 115.78147714, 122.77021763, 116.16453839,\n",
       "       108.48224481, 120.98209547, 123.96587431, 113.0457073 ,\n",
       "       113.66859037, 108.49721547, 123.18895755, 144.43586562,\n",
       "       108.6888631 , 143.3396533 , 117.87888576, 100.42014019,\n",
       "       122.52903599, 106.93827981, 110.82900004, 111.19883821,\n",
       "       112.25186642, 113.17392004, 118.45728146, 111.19763319,\n",
       "       142.63265153, 126.68986702, 120.08540272, 104.44524395,\n",
       "       114.86207506, 129.4782411 , 120.12691687, 119.95018654,\n",
       "       123.17639934, 113.58483644, 126.86885194, 105.68573546,\n",
       "       133.03196623, 106.71630461, 110.02565492, 126.84266605,\n",
       "       112.88473214, 121.11216064, 147.39420734, 123.75060452,\n",
       "       118.71956719, 128.35548494, 129.01360161,  99.34689508,\n",
       "       104.73997866, 108.00752892, 120.23190076, 133.03196623,\n",
       "       143.26810237, 116.77839214, 124.98459375, 111.24160266,\n",
       "       141.49098235, 123.13584049, 105.32841046, 121.44664512,\n",
       "       131.90717949, 115.04231794, 124.29813944, 127.80801411,\n",
       "       123.17639934, 151.3540732 , 122.52903599, 117.73196422,\n",
       "       120.08540272, 134.17022477, 113.17392004, 103.76316059,\n",
       "       138.6879967 , 137.89665047, 119.77173165, 146.29299752,\n",
       "       159.86761414, 132.66581942, 126.97981477, 119.50398007,\n",
       "       127.2517218 , 128.72845274, 126.63310247, 110.27364613,\n",
       "       131.98639812, 132.00010911, 116.07050699, 123.83100873,\n",
       "       126.77781749, 105.40582709, 105.35738689, 113.0457073 ,\n",
       "       128.74196085, 114.05852474, 117.47917374, 120.68947507,\n",
       "       101.68217014, 139.46990458, 105.27896918, 120.08540272,\n",
       "       126.91190472, 110.51270958, 101.75729662, 125.79557654,\n",
       "       104.05854578, 117.29705534, 126.27141248, 117.02265908,\n",
       "       128.46119236, 111.38137343, 109.5804874 , 104.70454238,\n",
       "       109.268598  , 101.7244662 , 110.51270958, 114.94530266,\n",
       "       116.86015351, 118.37937661, 125.64407556, 124.33870191,\n",
       "       122.95462181, 125.51957879, 144.42795735, 116.77839214,\n",
       "       104.47325661, 111.94950676, 110.4670319 , 114.71927204,\n",
       "       123.42519336, 124.39822154, 117.15932535, 126.5154908 ,\n",
       "       131.72654019, 137.56471076, 116.82329155, 133.41624188,\n",
       "       124.93698328, 139.68576359, 114.34802723, 140.23361467,\n",
       "       106.71630461, 106.9019118 , 105.28116625, 104.44524395,\n",
       "       128.31983196, 142.73292389, 102.1104568 , 117.92008059,\n",
       "       103.04478325, 119.07969139, 128.72845274, 124.61753352,\n",
       "       114.01513857, 136.71172859, 133.64808985, 104.48395834,\n",
       "       139.68576359, 110.72674153, 115.43691132, 119.45793676,\n",
       "       104.16736949, 125.47721331, 117.06275112, 113.17392004,\n",
       "       112.25186642, 117.71087044, 106.81631036, 109.84429371,\n",
       "       136.23608124, 107.96360012, 106.93905931, 132.53242977,\n",
       "       112.79890478, 120.82070822, 117.71087044, 130.93240833,\n",
       "       106.93827981, 115.59601982, 130.2307985 , 105.27896918,\n",
       "       135.03669071, 130.76496803, 121.44664512, 150.94289091,\n",
       "        98.26460054, 126.5154908 ,  98.77054705, 132.27049964,\n",
       "       110.4670319 , 166.53743244, 121.29350709, 113.06864437,\n",
       "       109.44003546, 113.06864437, 132.79919354,  97.93621933,\n",
       "       136.70198448, 119.85655689, 119.8114984 , 124.36053703,\n",
       "       171.98551115, 118.75320502, 170.00643613, 122.48568517,\n",
       "       105.79345846, 127.2517218 , 119.54596695, 128.74019906,\n",
       "       116.47121781, 101.45993029, 126.73109451, 115.95715523,\n",
       "       120.24167833, 142.39527439, 143.73585864, 131.35211724,\n",
       "       131.54030354, 113.80196559, 124.24300109])"
      ]
     },
     "execution_count": 22,
     "metadata": {},
     "output_type": "execute_result"
    }
   ],
   "source": [
    "# Predicted Value\n",
    "y_pred"
   ]
  },
  {
   "cell_type": "code",
   "execution_count": 23,
   "metadata": {},
   "outputs": [
    {
     "data": {
      "text/plain": [
       "667"
      ]
     },
     "execution_count": 23,
     "metadata": {},
     "output_type": "execute_result"
    }
   ],
   "source": [
    "y_pred.size"
   ]
  },
  {
   "cell_type": "code",
   "execution_count": 24,
   "metadata": {},
   "outputs": [
    {
     "data": {
      "image/png": "[encoded data removed]",
      "text/plain": [
       "<Figure size 648x432 with 1 Axes>"
      ]
     },
     "metadata": {
      "needs_background": "light"
     },
     "output_type": "display_data"
    }
   ],
   "source": [
    "x_ax = np.linspace(0,200, num=667)\n",
    "s = 100\n",
    "\n",
    "plt.rcParams[\"figure.figsize\"] = (9, 6)\n",
    "plt.scatter(x_ax, y_test, s, color='cornflowerblue', label=f'Actual Value', marker='v')\n",
    "plt.scatter(x_ax, y_pred, s, color='lime', label=f'Predicted Value', marker='*')\n",
    "\n",
    "plt.title('Predicted Glucose Level vs Actual Glucose Level')\n",
    "plt.legend()\n",
    "plt.ylabel('Glucose Level')\n",
    "plt.show()\n",
    "\n",
    "# Add Density Plot"
   ]
  },
  {
   "cell_type": "code",
   "execution_count": 25,
   "metadata": {},
   "outputs": [],
   "source": [
    "from sklearn import metrics"
   ]
  },
  {
   "cell_type": "code",
   "execution_count": 26,
   "metadata": {},
   "outputs": [
    {
     "name": "stdout",
     "output_type": "stream",
     "text": [
      "19.786536398647986\n"
     ]
    }
   ],
   "source": [
    "# Mean Absolute Error\n",
    "print(metrics.mean_absolute_error(y_test, y_pred))"
   ]
  },
  {
   "cell_type": "code",
   "execution_count": 27,
   "metadata": {},
   "outputs": [
    {
     "name": "stdout",
     "output_type": "stream",
     "text": [
      "660.7391635721266\n"
     ]
    }
   ],
   "source": [
    "# Mean Squared Error\n",
    "print(metrics.mean_squared_error(y_test, y_pred))"
   ]
  },
  {
   "cell_type": "code",
   "execution_count": 28,
   "metadata": {},
   "outputs": [
    {
     "name": "stdout",
     "output_type": "stream",
     "text": [
      "25.704847083227836\n"
     ]
    }
   ],
   "source": [
    "# Square Root of Mean Squared Error\n",
    "print(np.sqrt(metrics.mean_squared_error(y_test, y_pred)))"
   ]
  },
  {
   "cell_type": "code",
   "execution_count": 29,
   "metadata": {},
   "outputs": [
    {
     "data": {
      "text/plain": [
       "0.259914357616741"
      ]
     },
     "execution_count": 29,
     "metadata": {},
     "output_type": "execute_result"
    }
   ],
   "source": [
    "# R^2 Error\n",
    "from sklearn.metrics import r2_score\n",
    "r2_score(y_test, y_pred)"
   ]
  }
 ],
 "metadata": {
  "kernelspec": {
   "display_name": "Python 3 (ipykernel)",
   "language": "python",
   "name": "python3"
  },
  "language_info": {
   "codemirror_mode": {
    "name": "ipython",
    "version": 3
   },
   "file_extension": ".py",
   "mimetype": "text/x-python",
   "name": "python",
   "nbconvert_exporter": "python",
   "pygments_lexer": "ipython3",
   "version": "3.9.7"
  }
 },
 "nbformat": 4,
 "nbformat_minor": 1
}
