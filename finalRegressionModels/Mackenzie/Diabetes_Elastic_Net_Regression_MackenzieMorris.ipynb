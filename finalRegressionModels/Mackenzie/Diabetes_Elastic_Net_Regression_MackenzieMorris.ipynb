{
 "cells": [
  {
   "cell_type": "markdown",
   "metadata": {},
   "source": [
    "\n",
    "# Elastic Net Regression Model\n"
   ]
  },
  {
   "cell_type": "code",
   "execution_count": 6,
   "metadata": {},
   "outputs": [],
   "source": [
    "# Import the necessary modules and libraries\n",
    "import numpy as np\n",
    "import pandas as pd\n",
    "import matplotlib.pyplot as plt"
   ]
  },
  {
   "cell_type": "markdown",
   "metadata": {},
   "source": [
    "\n",
    "## Data Preprocesing\n"
   ]
  },
  {
   "cell_type": "code",
   "execution_count": 7,
   "metadata": {},
   "outputs": [
    {
     "data": {
      "text/html": [
       "<div>\n",
       "<style scoped>\n",
       "    .dataframe tbody tr th:only-of-type {\n",
       "        vertical-align: middle;\n",
       "    }\n",
       "\n",
       "    .dataframe tbody tr th {\n",
       "        vertical-align: top;\n",
       "    }\n",
       "\n",
       "    .dataframe thead th {\n",
       "        text-align: right;\n",
       "    }\n",
       "</style>\n",
       "<table border=\"1\" class=\"dataframe\">\n",
       "  <thead>\n",
       "    <tr style=\"text-align: right;\">\n",
       "      <th></th>\n",
       "      <th>Pregnancies</th>\n",
       "      <th>Glucose</th>\n",
       "      <th>BloodPressure</th>\n",
       "      <th>SkinThickness</th>\n",
       "      <th>Insulin</th>\n",
       "      <th>BMI</th>\n",
       "      <th>DiabetesPedigreeFunction</th>\n",
       "      <th>Age</th>\n",
       "      <th>Outcome</th>\n",
       "    </tr>\n",
       "  </thead>\n",
       "  <tbody>\n",
       "    <tr>\n",
       "      <th>0</th>\n",
       "      <td>2</td>\n",
       "      <td>138</td>\n",
       "      <td>62</td>\n",
       "      <td>35</td>\n",
       "      <td>0</td>\n",
       "      <td>33.6</td>\n",
       "      <td>0.127</td>\n",
       "      <td>47</td>\n",
       "      <td>1</td>\n",
       "    </tr>\n",
       "    <tr>\n",
       "      <th>1</th>\n",
       "      <td>0</td>\n",
       "      <td>84</td>\n",
       "      <td>82</td>\n",
       "      <td>31</td>\n",
       "      <td>125</td>\n",
       "      <td>38.2</td>\n",
       "      <td>0.233</td>\n",
       "      <td>23</td>\n",
       "      <td>0</td>\n",
       "    </tr>\n",
       "    <tr>\n",
       "      <th>2</th>\n",
       "      <td>0</td>\n",
       "      <td>145</td>\n",
       "      <td>0</td>\n",
       "      <td>0</td>\n",
       "      <td>0</td>\n",
       "      <td>44.2</td>\n",
       "      <td>0.630</td>\n",
       "      <td>31</td>\n",
       "      <td>1</td>\n",
       "    </tr>\n",
       "    <tr>\n",
       "      <th>3</th>\n",
       "      <td>0</td>\n",
       "      <td>135</td>\n",
       "      <td>68</td>\n",
       "      <td>42</td>\n",
       "      <td>250</td>\n",
       "      <td>42.3</td>\n",
       "      <td>0.365</td>\n",
       "      <td>24</td>\n",
       "      <td>1</td>\n",
       "    </tr>\n",
       "    <tr>\n",
       "      <th>4</th>\n",
       "      <td>1</td>\n",
       "      <td>139</td>\n",
       "      <td>62</td>\n",
       "      <td>41</td>\n",
       "      <td>480</td>\n",
       "      <td>40.7</td>\n",
       "      <td>0.536</td>\n",
       "      <td>21</td>\n",
       "      <td>0</td>\n",
       "    </tr>\n",
       "    <tr>\n",
       "      <th>...</th>\n",
       "      <td>...</td>\n",
       "      <td>...</td>\n",
       "      <td>...</td>\n",
       "      <td>...</td>\n",
       "      <td>...</td>\n",
       "      <td>...</td>\n",
       "      <td>...</td>\n",
       "      <td>...</td>\n",
       "      <td>...</td>\n",
       "    </tr>\n",
       "    <tr>\n",
       "      <th>1995</th>\n",
       "      <td>2</td>\n",
       "      <td>75</td>\n",
       "      <td>64</td>\n",
       "      <td>24</td>\n",
       "      <td>55</td>\n",
       "      <td>29.7</td>\n",
       "      <td>0.370</td>\n",
       "      <td>33</td>\n",
       "      <td>0</td>\n",
       "    </tr>\n",
       "    <tr>\n",
       "      <th>1996</th>\n",
       "      <td>8</td>\n",
       "      <td>179</td>\n",
       "      <td>72</td>\n",
       "      <td>42</td>\n",
       "      <td>130</td>\n",
       "      <td>32.7</td>\n",
       "      <td>0.719</td>\n",
       "      <td>36</td>\n",
       "      <td>1</td>\n",
       "    </tr>\n",
       "    <tr>\n",
       "      <th>1997</th>\n",
       "      <td>6</td>\n",
       "      <td>85</td>\n",
       "      <td>78</td>\n",
       "      <td>0</td>\n",
       "      <td>0</td>\n",
       "      <td>31.2</td>\n",
       "      <td>0.382</td>\n",
       "      <td>42</td>\n",
       "      <td>0</td>\n",
       "    </tr>\n",
       "    <tr>\n",
       "      <th>1998</th>\n",
       "      <td>0</td>\n",
       "      <td>129</td>\n",
       "      <td>110</td>\n",
       "      <td>46</td>\n",
       "      <td>130</td>\n",
       "      <td>67.1</td>\n",
       "      <td>0.319</td>\n",
       "      <td>26</td>\n",
       "      <td>1</td>\n",
       "    </tr>\n",
       "    <tr>\n",
       "      <th>1999</th>\n",
       "      <td>2</td>\n",
       "      <td>81</td>\n",
       "      <td>72</td>\n",
       "      <td>15</td>\n",
       "      <td>76</td>\n",
       "      <td>30.1</td>\n",
       "      <td>0.547</td>\n",
       "      <td>25</td>\n",
       "      <td>0</td>\n",
       "    </tr>\n",
       "  </tbody>\n",
       "</table>\n",
       "<p>2000 rows × 9 columns</p>\n",
       "</div>"
      ],
      "text/plain": [
       "      Pregnancies  Glucose  BloodPressure  SkinThickness  Insulin   BMI  \\\n",
       "0               2      138             62             35        0  33.6   \n",
       "1               0       84             82             31      125  38.2   \n",
       "2               0      145              0              0        0  44.2   \n",
       "3               0      135             68             42      250  42.3   \n",
       "4               1      139             62             41      480  40.7   \n",
       "...           ...      ...            ...            ...      ...   ...   \n",
       "1995            2       75             64             24       55  29.7   \n",
       "1996            8      179             72             42      130  32.7   \n",
       "1997            6       85             78              0        0  31.2   \n",
       "1998            0      129            110             46      130  67.1   \n",
       "1999            2       81             72             15       76  30.1   \n",
       "\n",
       "      DiabetesPedigreeFunction  Age  Outcome  \n",
       "0                        0.127   47        1  \n",
       "1                        0.233   23        0  \n",
       "2                        0.630   31        1  \n",
       "3                        0.365   24        1  \n",
       "4                        0.536   21        0  \n",
       "...                        ...  ...      ...  \n",
       "1995                     0.370   33        0  \n",
       "1996                     0.719   36        1  \n",
       "1997                     0.382   42        0  \n",
       "1998                     0.319   26        1  \n",
       "1999                     0.547   25        0  \n",
       "\n",
       "[2000 rows x 9 columns]"
      ]
     },
     "execution_count": 7,
     "metadata": {},
     "output_type": "execute_result"
    }
   ],
   "source": [
    "diabetes_data = pd.read_csv('C:/Users/USER/Documents/Engineering/BMEN415/regression_data/diabetes-dataset.csv')\n",
    "diabetes_data"
   ]
  },
  {
   "cell_type": "code",
   "execution_count": 8,
   "metadata": {},
   "outputs": [
    {
     "data": {
      "text/plain": [
       "Pregnancies                  301\n",
       "Glucose                       13\n",
       "BloodPressure                 90\n",
       "SkinThickness                573\n",
       "Insulin                      956\n",
       "BMI                           28\n",
       "DiabetesPedigreeFunction       0\n",
       "Age                            0\n",
       "Outcome                     1316\n",
       "dtype: int64"
      ]
     },
     "execution_count": 8,
     "metadata": {},
     "output_type": "execute_result"
    }
   ],
   "source": [
    "diabetes_data[diabetes_data==0].count()"
   ]
  },
  {
   "cell_type": "code",
   "execution_count": 9,
   "metadata": {},
   "outputs": [],
   "source": [
    "# Change Insulin null (0) values to mean value\n",
    "diabetes_data.Insulin = diabetes_data.Insulin.replace(0, diabetes_data.Insulin.mean())"
   ]
  },
  {
   "cell_type": "code",
   "execution_count": 10,
   "metadata": {},
   "outputs": [],
   "source": [
    "# Change Skin Thickness null (0) values to mean value\n",
    "diabetes_data.SkinThickness = diabetes_data.SkinThickness.replace(0, diabetes_data.SkinThickness.mean())"
   ]
  },
  {
   "cell_type": "code",
   "execution_count": 11,
   "metadata": {},
   "outputs": [],
   "source": [
    "# Change Glucose null (0) values to mean value\n",
    "diabetes_data.Glucose = diabetes_data.Glucose.replace(0, diabetes_data.Glucose.mean())"
   ]
  },
  {
   "cell_type": "code",
   "execution_count": 12,
   "metadata": {},
   "outputs": [],
   "source": [
    "# Change Skin Blood Pressure (0) values to mean value\n",
    "diabetes_data.BloodPressure = diabetes_data.BloodPressure.replace(0, diabetes_data.BloodPressure.mean())"
   ]
  },
  {
   "cell_type": "code",
   "execution_count": 13,
   "metadata": {},
   "outputs": [],
   "source": [
    "# Change BMI null (0) values to mean value\n",
    "diabetes_data.BMI = diabetes_data.BMI.replace(0, diabetes_data.BMI.mean())"
   ]
  },
  {
   "cell_type": "code",
   "execution_count": 14,
   "metadata": {},
   "outputs": [
    {
     "data": {
      "text/plain": [
       "Pregnancies                  301\n",
       "Glucose                        0\n",
       "BloodPressure                  0\n",
       "SkinThickness                  0\n",
       "Insulin                        0\n",
       "BMI                            0\n",
       "DiabetesPedigreeFunction       0\n",
       "Age                            0\n",
       "Outcome                     1316\n",
       "dtype: int64"
      ]
     },
     "execution_count": 14,
     "metadata": {},
     "output_type": "execute_result"
    }
   ],
   "source": [
    "# Updated\n",
    "diabetes_data[diabetes_data==0].count()"
   ]
  },
  {
   "cell_type": "code",
   "execution_count": 15,
   "metadata": {},
   "outputs": [],
   "source": [
    "x = diabetes_data.iloc[:,[0,2,3,4,5,6,7]]\n",
    "y = diabetes_data.iloc[:,1:2].values"
   ]
  },
  {
   "cell_type": "code",
   "execution_count": 16,
   "metadata": {},
   "outputs": [
    {
     "data": {
      "text/html": [
       "<div>\n",
       "<style scoped>\n",
       "    .dataframe tbody tr th:only-of-type {\n",
       "        vertical-align: middle;\n",
       "    }\n",
       "\n",
       "    .dataframe tbody tr th {\n",
       "        vertical-align: top;\n",
       "    }\n",
       "\n",
       "    .dataframe thead th {\n",
       "        text-align: right;\n",
       "    }\n",
       "</style>\n",
       "<table border=\"1\" class=\"dataframe\">\n",
       "  <thead>\n",
       "    <tr style=\"text-align: right;\">\n",
       "      <th></th>\n",
       "      <th>Pregnancies</th>\n",
       "      <th>BloodPressure</th>\n",
       "      <th>SkinThickness</th>\n",
       "      <th>Insulin</th>\n",
       "      <th>BMI</th>\n",
       "      <th>DiabetesPedigreeFunction</th>\n",
       "      <th>Age</th>\n",
       "    </tr>\n",
       "  </thead>\n",
       "  <tbody>\n",
       "    <tr>\n",
       "      <th>0</th>\n",
       "      <td>2</td>\n",
       "      <td>62.0000</td>\n",
       "      <td>35.000</td>\n",
       "      <td>80.254</td>\n",
       "      <td>33.6</td>\n",
       "      <td>0.127</td>\n",
       "      <td>47</td>\n",
       "    </tr>\n",
       "    <tr>\n",
       "      <th>1</th>\n",
       "      <td>0</td>\n",
       "      <td>82.0000</td>\n",
       "      <td>31.000</td>\n",
       "      <td>125.000</td>\n",
       "      <td>38.2</td>\n",
       "      <td>0.233</td>\n",
       "      <td>23</td>\n",
       "    </tr>\n",
       "    <tr>\n",
       "      <th>2</th>\n",
       "      <td>0</td>\n",
       "      <td>69.1455</td>\n",
       "      <td>20.935</td>\n",
       "      <td>80.254</td>\n",
       "      <td>44.2</td>\n",
       "      <td>0.630</td>\n",
       "      <td>31</td>\n",
       "    </tr>\n",
       "    <tr>\n",
       "      <th>3</th>\n",
       "      <td>0</td>\n",
       "      <td>68.0000</td>\n",
       "      <td>42.000</td>\n",
       "      <td>250.000</td>\n",
       "      <td>42.3</td>\n",
       "      <td>0.365</td>\n",
       "      <td>24</td>\n",
       "    </tr>\n",
       "    <tr>\n",
       "      <th>4</th>\n",
       "      <td>1</td>\n",
       "      <td>62.0000</td>\n",
       "      <td>41.000</td>\n",
       "      <td>480.000</td>\n",
       "      <td>40.7</td>\n",
       "      <td>0.536</td>\n",
       "      <td>21</td>\n",
       "    </tr>\n",
       "    <tr>\n",
       "      <th>...</th>\n",
       "      <td>...</td>\n",
       "      <td>...</td>\n",
       "      <td>...</td>\n",
       "      <td>...</td>\n",
       "      <td>...</td>\n",
       "      <td>...</td>\n",
       "      <td>...</td>\n",
       "    </tr>\n",
       "    <tr>\n",
       "      <th>1995</th>\n",
       "      <td>2</td>\n",
       "      <td>64.0000</td>\n",
       "      <td>24.000</td>\n",
       "      <td>55.000</td>\n",
       "      <td>29.7</td>\n",
       "      <td>0.370</td>\n",
       "      <td>33</td>\n",
       "    </tr>\n",
       "    <tr>\n",
       "      <th>1996</th>\n",
       "      <td>8</td>\n",
       "      <td>72.0000</td>\n",
       "      <td>42.000</td>\n",
       "      <td>130.000</td>\n",
       "      <td>32.7</td>\n",
       "      <td>0.719</td>\n",
       "      <td>36</td>\n",
       "    </tr>\n",
       "    <tr>\n",
       "      <th>1997</th>\n",
       "      <td>6</td>\n",
       "      <td>78.0000</td>\n",
       "      <td>20.935</td>\n",
       "      <td>80.254</td>\n",
       "      <td>31.2</td>\n",
       "      <td>0.382</td>\n",
       "      <td>42</td>\n",
       "    </tr>\n",
       "    <tr>\n",
       "      <th>1998</th>\n",
       "      <td>0</td>\n",
       "      <td>110.0000</td>\n",
       "      <td>46.000</td>\n",
       "      <td>130.000</td>\n",
       "      <td>67.1</td>\n",
       "      <td>0.319</td>\n",
       "      <td>26</td>\n",
       "    </tr>\n",
       "    <tr>\n",
       "      <th>1999</th>\n",
       "      <td>2</td>\n",
       "      <td>72.0000</td>\n",
       "      <td>15.000</td>\n",
       "      <td>76.000</td>\n",
       "      <td>30.1</td>\n",
       "      <td>0.547</td>\n",
       "      <td>25</td>\n",
       "    </tr>\n",
       "  </tbody>\n",
       "</table>\n",
       "<p>2000 rows × 7 columns</p>\n",
       "</div>"
      ],
      "text/plain": [
       "      Pregnancies  BloodPressure  SkinThickness  Insulin   BMI  \\\n",
       "0               2        62.0000         35.000   80.254  33.6   \n",
       "1               0        82.0000         31.000  125.000  38.2   \n",
       "2               0        69.1455         20.935   80.254  44.2   \n",
       "3               0        68.0000         42.000  250.000  42.3   \n",
       "4               1        62.0000         41.000  480.000  40.7   \n",
       "...           ...            ...            ...      ...   ...   \n",
       "1995            2        64.0000         24.000   55.000  29.7   \n",
       "1996            8        72.0000         42.000  130.000  32.7   \n",
       "1997            6        78.0000         20.935   80.254  31.2   \n",
       "1998            0       110.0000         46.000  130.000  67.1   \n",
       "1999            2        72.0000         15.000   76.000  30.1   \n",
       "\n",
       "      DiabetesPedigreeFunction  Age  \n",
       "0                        0.127   47  \n",
       "1                        0.233   23  \n",
       "2                        0.630   31  \n",
       "3                        0.365   24  \n",
       "4                        0.536   21  \n",
       "...                        ...  ...  \n",
       "1995                     0.370   33  \n",
       "1996                     0.719   36  \n",
       "1997                     0.382   42  \n",
       "1998                     0.319   26  \n",
       "1999                     0.547   25  \n",
       "\n",
       "[2000 rows x 7 columns]"
      ]
     },
     "execution_count": 16,
     "metadata": {},
     "output_type": "execute_result"
    }
   ],
   "source": [
    "x # Predictors"
   ]
  },
  {
   "cell_type": "code",
   "execution_count": 17,
   "metadata": {},
   "outputs": [
    {
     "data": {
      "text/plain": [
       "array([[138.],\n",
       "       [ 84.],\n",
       "       [145.],\n",
       "       ...,\n",
       "       [ 85.],\n",
       "       [129.],\n",
       "       [ 81.]])"
      ]
     },
     "execution_count": 17,
     "metadata": {},
     "output_type": "execute_result"
    }
   ],
   "source": [
    "y # Outcome - Glucose Levels"
   ]
  },
  {
   "cell_type": "code",
   "execution_count": 18,
   "metadata": {},
   "outputs": [
    {
     "name": "stdout",
     "output_type": "stream",
     "text": [
      "<class 'pandas.core.frame.DataFrame'>\n",
      "RangeIndex: 2000 entries, 0 to 1999\n",
      "Data columns (total 9 columns):\n",
      " #   Column                    Non-Null Count  Dtype  \n",
      "---  ------                    --------------  -----  \n",
      " 0   Pregnancies               2000 non-null   int64  \n",
      " 1   Glucose                   2000 non-null   float64\n",
      " 2   BloodPressure             2000 non-null   float64\n",
      " 3   SkinThickness             2000 non-null   float64\n",
      " 4   Insulin                   2000 non-null   float64\n",
      " 5   BMI                       2000 non-null   float64\n",
      " 6   DiabetesPedigreeFunction  2000 non-null   float64\n",
      " 7   Age                       2000 non-null   int64  \n",
      " 8   Outcome                   2000 non-null   int64  \n",
      "dtypes: float64(6), int64(3)\n",
      "memory usage: 140.8 KB\n"
     ]
    }
   ],
   "source": [
    "diabetes_data.info() # summary of data and data types"
   ]
  },
  {
   "cell_type": "code",
   "execution_count": 19,
   "metadata": {},
   "outputs": [
    {
     "data": {
      "text/html": [
       "<div>\n",
       "<style scoped>\n",
       "    .dataframe tbody tr th:only-of-type {\n",
       "        vertical-align: middle;\n",
       "    }\n",
       "\n",
       "    .dataframe tbody tr th {\n",
       "        vertical-align: top;\n",
       "    }\n",
       "\n",
       "    .dataframe thead th {\n",
       "        text-align: right;\n",
       "    }\n",
       "</style>\n",
       "<table border=\"1\" class=\"dataframe\">\n",
       "  <thead>\n",
       "    <tr style=\"text-align: right;\">\n",
       "      <th></th>\n",
       "      <th>Pregnancies</th>\n",
       "      <th>Glucose</th>\n",
       "      <th>BloodPressure</th>\n",
       "      <th>SkinThickness</th>\n",
       "      <th>Insulin</th>\n",
       "      <th>BMI</th>\n",
       "      <th>DiabetesPedigreeFunction</th>\n",
       "      <th>Age</th>\n",
       "      <th>Outcome</th>\n",
       "    </tr>\n",
       "  </thead>\n",
       "  <tbody>\n",
       "    <tr>\n",
       "      <th>count</th>\n",
       "      <td>2000.000000</td>\n",
       "      <td>2000.000000</td>\n",
       "      <td>2000.000000</td>\n",
       "      <td>2000.000000</td>\n",
       "      <td>2000.000000</td>\n",
       "      <td>2000.000000</td>\n",
       "      <td>2000.000000</td>\n",
       "      <td>2000.000000</td>\n",
       "      <td>2000.000000</td>\n",
       "    </tr>\n",
       "    <tr>\n",
       "      <th>mean</th>\n",
       "      <td>3.703500</td>\n",
       "      <td>121.970186</td>\n",
       "      <td>72.257047</td>\n",
       "      <td>26.932877</td>\n",
       "      <td>118.615412</td>\n",
       "      <td>32.643702</td>\n",
       "      <td>0.470930</td>\n",
       "      <td>33.090500</td>\n",
       "      <td>0.342000</td>\n",
       "    </tr>\n",
       "    <tr>\n",
       "      <th>std</th>\n",
       "      <td>3.306063</td>\n",
       "      <td>30.533180</td>\n",
       "      <td>11.968614</td>\n",
       "      <td>9.884003</td>\n",
       "      <td>88.366170</td>\n",
       "      <td>7.190337</td>\n",
       "      <td>0.323553</td>\n",
       "      <td>11.786423</td>\n",
       "      <td>0.474498</td>\n",
       "    </tr>\n",
       "    <tr>\n",
       "      <th>min</th>\n",
       "      <td>0.000000</td>\n",
       "      <td>44.000000</td>\n",
       "      <td>24.000000</td>\n",
       "      <td>7.000000</td>\n",
       "      <td>14.000000</td>\n",
       "      <td>18.200000</td>\n",
       "      <td>0.078000</td>\n",
       "      <td>21.000000</td>\n",
       "      <td>0.000000</td>\n",
       "    </tr>\n",
       "    <tr>\n",
       "      <th>25%</th>\n",
       "      <td>1.000000</td>\n",
       "      <td>99.000000</td>\n",
       "      <td>64.000000</td>\n",
       "      <td>20.935000</td>\n",
       "      <td>80.254000</td>\n",
       "      <td>27.600000</td>\n",
       "      <td>0.244000</td>\n",
       "      <td>24.000000</td>\n",
       "      <td>0.000000</td>\n",
       "    </tr>\n",
       "    <tr>\n",
       "      <th>50%</th>\n",
       "      <td>3.000000</td>\n",
       "      <td>118.000000</td>\n",
       "      <td>72.000000</td>\n",
       "      <td>23.000000</td>\n",
       "      <td>80.254000</td>\n",
       "      <td>32.300000</td>\n",
       "      <td>0.376000</td>\n",
       "      <td>29.000000</td>\n",
       "      <td>0.000000</td>\n",
       "    </tr>\n",
       "    <tr>\n",
       "      <th>75%</th>\n",
       "      <td>6.000000</td>\n",
       "      <td>141.000000</td>\n",
       "      <td>80.000000</td>\n",
       "      <td>32.000000</td>\n",
       "      <td>130.000000</td>\n",
       "      <td>36.800000</td>\n",
       "      <td>0.624000</td>\n",
       "      <td>40.000000</td>\n",
       "      <td>1.000000</td>\n",
       "    </tr>\n",
       "    <tr>\n",
       "      <th>max</th>\n",
       "      <td>17.000000</td>\n",
       "      <td>199.000000</td>\n",
       "      <td>122.000000</td>\n",
       "      <td>110.000000</td>\n",
       "      <td>744.000000</td>\n",
       "      <td>80.600000</td>\n",
       "      <td>2.420000</td>\n",
       "      <td>81.000000</td>\n",
       "      <td>1.000000</td>\n",
       "    </tr>\n",
       "  </tbody>\n",
       "</table>\n",
       "</div>"
      ],
      "text/plain": [
       "       Pregnancies      Glucose  BloodPressure  SkinThickness      Insulin  \\\n",
       "count  2000.000000  2000.000000    2000.000000    2000.000000  2000.000000   \n",
       "mean      3.703500   121.970186      72.257047      26.932877   118.615412   \n",
       "std       3.306063    30.533180      11.968614       9.884003    88.366170   \n",
       "min       0.000000    44.000000      24.000000       7.000000    14.000000   \n",
       "25%       1.000000    99.000000      64.000000      20.935000    80.254000   \n",
       "50%       3.000000   118.000000      72.000000      23.000000    80.254000   \n",
       "75%       6.000000   141.000000      80.000000      32.000000   130.000000   \n",
       "max      17.000000   199.000000     122.000000     110.000000   744.000000   \n",
       "\n",
       "               BMI  DiabetesPedigreeFunction          Age      Outcome  \n",
       "count  2000.000000               2000.000000  2000.000000  2000.000000  \n",
       "mean     32.643702                  0.470930    33.090500     0.342000  \n",
       "std       7.190337                  0.323553    11.786423     0.474498  \n",
       "min      18.200000                  0.078000    21.000000     0.000000  \n",
       "25%      27.600000                  0.244000    24.000000     0.000000  \n",
       "50%      32.300000                  0.376000    29.000000     0.000000  \n",
       "75%      36.800000                  0.624000    40.000000     1.000000  \n",
       "max      80.600000                  2.420000    81.000000     1.000000  "
      ]
     },
     "execution_count": 19,
     "metadata": {},
     "output_type": "execute_result"
    }
   ],
   "source": [
    "diabetes_data.describe() # description of the data"
   ]
  },
  {
   "cell_type": "code",
   "execution_count": 20,
   "metadata": {
    "scrolled": true
   },
   "outputs": [
    {
     "data": {
      "text/html": [
       "<div>\n",
       "<style scoped>\n",
       "    .dataframe tbody tr th:only-of-type {\n",
       "        vertical-align: middle;\n",
       "    }\n",
       "\n",
       "    .dataframe tbody tr th {\n",
       "        vertical-align: top;\n",
       "    }\n",
       "\n",
       "    .dataframe thead th {\n",
       "        text-align: right;\n",
       "    }\n",
       "</style>\n",
       "<table border=\"1\" class=\"dataframe\">\n",
       "  <thead>\n",
       "    <tr style=\"text-align: right;\">\n",
       "      <th></th>\n",
       "      <th>Pregnancies</th>\n",
       "      <th>Glucose</th>\n",
       "      <th>BloodPressure</th>\n",
       "      <th>SkinThickness</th>\n",
       "      <th>Insulin</th>\n",
       "      <th>BMI</th>\n",
       "      <th>DiabetesPedigreeFunction</th>\n",
       "      <th>Age</th>\n",
       "      <th>Outcome</th>\n",
       "    </tr>\n",
       "  </thead>\n",
       "  <tbody>\n",
       "    <tr>\n",
       "      <th>Pregnancies</th>\n",
       "      <td>1.000000</td>\n",
       "      <td>0.121569</td>\n",
       "      <td>0.199471</td>\n",
       "      <td>0.028116</td>\n",
       "      <td>-0.020319</td>\n",
       "      <td>0.011439</td>\n",
       "      <td>-0.025453</td>\n",
       "      <td>0.539457</td>\n",
       "      <td>0.224437</td>\n",
       "    </tr>\n",
       "    <tr>\n",
       "      <th>Glucose</th>\n",
       "      <td>0.121569</td>\n",
       "      <td>1.000000</td>\n",
       "      <td>0.200509</td>\n",
       "      <td>0.175337</td>\n",
       "      <td>0.384706</td>\n",
       "      <td>0.233228</td>\n",
       "      <td>0.124176</td>\n",
       "      <td>0.259853</td>\n",
       "      <td>0.487977</td>\n",
       "    </tr>\n",
       "    <tr>\n",
       "      <th>BloodPressure</th>\n",
       "      <td>0.199471</td>\n",
       "      <td>0.200509</td>\n",
       "      <td>1.000000</td>\n",
       "      <td>0.154736</td>\n",
       "      <td>0.012714</td>\n",
       "      <td>0.259445</td>\n",
       "      <td>0.015216</td>\n",
       "      <td>0.325490</td>\n",
       "      <td>0.171844</td>\n",
       "    </tr>\n",
       "    <tr>\n",
       "      <th>SkinThickness</th>\n",
       "      <td>0.028116</td>\n",
       "      <td>0.175337</td>\n",
       "      <td>0.154736</td>\n",
       "      <td>1.000000</td>\n",
       "      <td>0.257060</td>\n",
       "      <td>0.520245</td>\n",
       "      <td>0.143700</td>\n",
       "      <td>0.035946</td>\n",
       "      <td>0.170856</td>\n",
       "    </tr>\n",
       "    <tr>\n",
       "      <th>Insulin</th>\n",
       "      <td>-0.020319</td>\n",
       "      <td>0.384706</td>\n",
       "      <td>0.012714</td>\n",
       "      <td>0.257060</td>\n",
       "      <td>1.000000</td>\n",
       "      <td>0.217047</td>\n",
       "      <td>0.161557</td>\n",
       "      <td>-0.009007</td>\n",
       "      <td>0.171339</td>\n",
       "    </tr>\n",
       "    <tr>\n",
       "      <th>BMI</th>\n",
       "      <td>0.011439</td>\n",
       "      <td>0.233228</td>\n",
       "      <td>0.259445</td>\n",
       "      <td>0.520245</td>\n",
       "      <td>0.217047</td>\n",
       "      <td>1.000000</td>\n",
       "      <td>0.142019</td>\n",
       "      <td>0.018815</td>\n",
       "      <td>0.282615</td>\n",
       "    </tr>\n",
       "    <tr>\n",
       "      <th>DiabetesPedigreeFunction</th>\n",
       "      <td>-0.025453</td>\n",
       "      <td>0.124176</td>\n",
       "      <td>0.015216</td>\n",
       "      <td>0.143700</td>\n",
       "      <td>0.161557</td>\n",
       "      <td>0.142019</td>\n",
       "      <td>1.000000</td>\n",
       "      <td>0.026569</td>\n",
       "      <td>0.155459</td>\n",
       "    </tr>\n",
       "    <tr>\n",
       "      <th>Age</th>\n",
       "      <td>0.539457</td>\n",
       "      <td>0.259853</td>\n",
       "      <td>0.325490</td>\n",
       "      <td>0.035946</td>\n",
       "      <td>-0.009007</td>\n",
       "      <td>0.018815</td>\n",
       "      <td>0.026569</td>\n",
       "      <td>1.000000</td>\n",
       "      <td>0.236509</td>\n",
       "    </tr>\n",
       "    <tr>\n",
       "      <th>Outcome</th>\n",
       "      <td>0.224437</td>\n",
       "      <td>0.487977</td>\n",
       "      <td>0.171844</td>\n",
       "      <td>0.170856</td>\n",
       "      <td>0.171339</td>\n",
       "      <td>0.282615</td>\n",
       "      <td>0.155459</td>\n",
       "      <td>0.236509</td>\n",
       "      <td>1.000000</td>\n",
       "    </tr>\n",
       "  </tbody>\n",
       "</table>\n",
       "</div>"
      ],
      "text/plain": [
       "                          Pregnancies   Glucose  BloodPressure  SkinThickness  \\\n",
       "Pregnancies                  1.000000  0.121569       0.199471       0.028116   \n",
       "Glucose                      0.121569  1.000000       0.200509       0.175337   \n",
       "BloodPressure                0.199471  0.200509       1.000000       0.154736   \n",
       "SkinThickness                0.028116  0.175337       0.154736       1.000000   \n",
       "Insulin                     -0.020319  0.384706       0.012714       0.257060   \n",
       "BMI                          0.011439  0.233228       0.259445       0.520245   \n",
       "DiabetesPedigreeFunction    -0.025453  0.124176       0.015216       0.143700   \n",
       "Age                          0.539457  0.259853       0.325490       0.035946   \n",
       "Outcome                      0.224437  0.487977       0.171844       0.170856   \n",
       "\n",
       "                           Insulin       BMI  DiabetesPedigreeFunction  \\\n",
       "Pregnancies              -0.020319  0.011439                 -0.025453   \n",
       "Glucose                   0.384706  0.233228                  0.124176   \n",
       "BloodPressure             0.012714  0.259445                  0.015216   \n",
       "SkinThickness             0.257060  0.520245                  0.143700   \n",
       "Insulin                   1.000000  0.217047                  0.161557   \n",
       "BMI                       0.217047  1.000000                  0.142019   \n",
       "DiabetesPedigreeFunction  0.161557  0.142019                  1.000000   \n",
       "Age                      -0.009007  0.018815                  0.026569   \n",
       "Outcome                   0.171339  0.282615                  0.155459   \n",
       "\n",
       "                               Age   Outcome  \n",
       "Pregnancies               0.539457  0.224437  \n",
       "Glucose                   0.259853  0.487977  \n",
       "BloodPressure             0.325490  0.171844  \n",
       "SkinThickness             0.035946  0.170856  \n",
       "Insulin                  -0.009007  0.171339  \n",
       "BMI                       0.018815  0.282615  \n",
       "DiabetesPedigreeFunction  0.026569  0.155459  \n",
       "Age                       1.000000  0.236509  \n",
       "Outcome                   0.236509  1.000000  "
      ]
     },
     "execution_count": 20,
     "metadata": {},
     "output_type": "execute_result"
    }
   ],
   "source": [
    "diabetes_data.corr() # correlation of the data"
   ]
  },
  {
   "cell_type": "code",
   "execution_count": 21,
   "metadata": {},
   "outputs": [
    {
     "data": {
      "image/png": "[encoded data removed]",
      "text/plain": [
       "<Figure size 1368x1080 with 2 Axes>"
      ]
     },
     "metadata": {
      "needs_background": "light"
     },
     "output_type": "display_data"
    }
   ],
   "source": [
    "# Correlation Matrix of Predictors\n",
    "correlation = plt.figure(figsize=(19, 15))\n",
    "plt.matshow(x.corr(), fignum=correlation.number)\n",
    "plt.xticks(range(x.select_dtypes(['number']).shape[1]), x.select_dtypes(['number']).columns, fontsize=14, rotation=45)\n",
    "plt.yticks(range(x.select_dtypes(['number']).shape[1]), x.select_dtypes(['number']).columns, fontsize=14)\n",
    "cb = plt.colorbar()\n",
    "cb.ax.tick_params(labelsize=14)\n",
    "plt.title('Correlation Matrix of Predictors', fontsize=16);"
   ]
  },
  {
   "cell_type": "code",
   "execution_count": 22,
   "metadata": {},
   "outputs": [
    {
     "data": {
      "image/png": "[encoded data removed]",
      "text/plain": [
       "<Figure size 864x720 with 9 Axes>"
      ]
     },
     "metadata": {
      "needs_background": "light"
     },
     "output_type": "display_data"
    }
   ],
   "source": [
    "fig, axes = plt.subplots(nrows=3, ncols=3, figsize=(12, 10))\n",
    "\n",
    "x.plot(kind=\"hist\", y=\"Pregnancies\", bins = 17, color=\"blueviolet\", ax=axes[0][0])\n",
    "x.plot(kind=\"hist\", y=\"BloodPressure\", bins = 120, color=\"lightpink\", ax=axes[0][1])\n",
    "x.plot(kind=\"hist\", y=\"SkinThickness\", bins=50, color=\"aquamarine\", ax=axes[0][2])\n",
    "x.plot(kind=\"hist\", y=\"Insulin\", bins=100, color=\"yellow\", ax=axes[1][0])\n",
    "x.plot(kind=\"hist\", y=\"BMI\", bins=50, color=\"royalblue\", ax=axes[1][1])\n",
    "x.plot(kind=\"hist\", y=\"DiabetesPedigreeFunction\", bins=50, color=\"palegreen\", ax=axes[1][2])\n",
    "x.plot(kind=\"hist\", y=\"Age\", bins=20, color=\"orangered\", ax=axes[2][0])\n",
    "plt.show()"
   ]
  },
  {
   "cell_type": "markdown",
   "metadata": {},
   "source": [
    "\n",
    "## Training the Data\n"
   ]
  },
  {
   "cell_type": "code",
   "execution_count": 23,
   "metadata": {},
   "outputs": [],
   "source": [
    "from sklearn.model_selection import train_test_split\n",
    "x_train, x_test, y_train, y_test = train_test_split(x,y,test_size=1/3,random_state=0) \n",
    "# splits data, 1/3 of data for testing, 2/3 of data for training"
   ]
  },
  {
   "cell_type": "code",
   "execution_count": 24,
   "metadata": {},
   "outputs": [
    {
     "data": {
      "text/plain": [
       "ElasticNet(random_state=0)"
      ]
     },
     "execution_count": 24,
     "metadata": {},
     "output_type": "execute_result"
    }
   ],
   "source": [
    "from sklearn.linear_model import ElasticNet\n",
    "from sklearn.datasets import make_regression\n",
    "\n",
    "regressor = ElasticNet(random_state=0)\n",
    "regressor.fit(x_train, y_train)"
   ]
  },
  {
   "cell_type": "markdown",
   "metadata": {},
   "source": [
    "\n",
    "## Testing the Model\n"
   ]
  },
  {
   "cell_type": "code",
   "execution_count": 25,
   "metadata": {},
   "outputs": [],
   "source": [
    "# Predict glucose from test data\n",
    "y_pred = regressor.predict(x_test)"
   ]
  },
  {
   "cell_type": "code",
   "execution_count": 26,
   "metadata": {},
   "outputs": [
    {
     "data": {
      "text/plain": [
       "array([124.16485507, 115.74633609, 114.99459883, 111.88159942,\n",
       "       140.00885947, 126.69201974, 108.64533741, 111.28471733,\n",
       "       119.88645732, 109.17805377, 103.33266965, 123.12730252,\n",
       "       113.58825654, 121.7174036 , 126.69201974, 101.60608279,\n",
       "       131.83503428, 128.00789909, 137.0386998 , 135.42269862,\n",
       "       137.45903672, 123.10104324, 116.15828652, 114.59249236,\n",
       "       110.18134015, 139.88365401, 133.53319934, 138.4962696 ,\n",
       "       118.05650731, 118.98756953, 146.06290696, 127.54105009,\n",
       "       108.83321826, 150.0201155 , 108.67405874, 131.00018819,\n",
       "       123.99034714, 103.76350049, 126.37127613, 130.77332979,\n",
       "       131.05214211, 113.68629138, 113.05885341, 132.12401055,\n",
       "       137.35026886, 158.13836581, 131.80841103, 117.96085715,\n",
       "       132.4293009 , 111.0949054 , 111.72762031, 116.76433047,\n",
       "       123.21466941, 130.20905516, 129.12120489, 104.27315118,\n",
       "       130.69156956, 128.86371046, 106.83579973, 111.44697791,\n",
       "       109.56562418, 117.42200923, 115.48161594, 120.01169349,\n",
       "       107.94922742, 112.98464428, 107.70670682, 145.50033171,\n",
       "       125.79192941, 103.19646397, 108.88260328, 125.29131635,\n",
       "       122.18475403, 110.04036812, 119.65047967, 141.12457929,\n",
       "       121.87962843, 101.57495339, 151.24651589, 115.76359982,\n",
       "       115.46841263, 121.63971468, 134.26803326, 125.51955416,\n",
       "       117.08064379, 111.3395446 , 119.27826003, 122.47262735,\n",
       "       162.71479863, 132.98662832, 161.30890011, 129.12784298,\n",
       "       137.02403919, 126.15317917, 131.59847044, 111.44697791,\n",
       "       118.45881867,  99.69671604, 121.13993347, 116.17943575,\n",
       "       106.56990224, 136.23737637, 130.77332979, 121.37804824,\n",
       "       124.87588657, 112.33716405, 130.36178016, 143.00443664,\n",
       "       106.17244005, 117.12116485, 118.48490566, 127.3631331 ,\n",
       "       116.61061211,  94.80678079, 122.51917692, 127.54105009,\n",
       "       104.96180739, 116.83735238, 145.81747625, 126.37127613,\n",
       "       123.31112619, 110.67325576, 105.22825633, 129.37577315,\n",
       "       105.81402382, 106.87808839, 115.9456767 , 110.41299172,\n",
       "       122.76466939, 124.38615053, 103.19646397, 111.28471733,\n",
       "       107.03185815, 147.43464244,  99.18366606, 104.27315118,\n",
       "       110.52183699, 122.63599552,  98.04766038, 106.56100918,\n",
       "       111.27087581, 122.63599552, 124.85472591, 101.80595983,\n",
       "       119.52090287, 110.18134015, 114.49469747, 106.17244005,\n",
       "       120.66226893, 100.95121714, 115.85965279, 106.58203327,\n",
       "       139.90328761, 114.48747124, 125.15551694, 129.42578937,\n",
       "       140.36076472, 104.99985358, 108.93445749, 133.40119375,\n",
       "       123.15591241, 131.9804473 , 118.60056526, 122.88740232,\n",
       "        98.5249148 , 127.04478595, 116.84802198, 124.87588657,\n",
       "       124.28603401, 111.91557044, 112.88196481, 113.76237402,\n",
       "       113.37999607, 118.99127365, 133.48988919, 113.37999607,\n",
       "       103.93672381, 109.59560931, 120.76870986, 111.97378687,\n",
       "       135.85298473, 131.83503428, 124.30626898, 116.04063873,\n",
       "       102.28452913, 178.72490287, 107.78586594, 124.97403625,\n",
       "       118.40363622, 133.0400458 , 102.10061829, 119.36402051,\n",
       "       129.54398918, 129.0906899 , 138.35283499, 108.4876787 ,\n",
       "       120.29443222, 110.98235832, 123.94353296, 117.58382876,\n",
       "       141.58228223, 167.4167819 , 127.04478595, 109.37699486,\n",
       "       101.57495339, 129.75134238, 127.07329003, 109.87821074,\n",
       "       130.20446689, 102.17583539, 123.75582647, 135.54173812,\n",
       "       116.2080698 , 111.88159942, 156.86681996, 109.80320863,\n",
       "       157.26404271, 136.6954795 , 108.13682365, 138.57650021,\n",
       "       122.55830175, 115.07241002, 133.32707402, 110.52183699,\n",
       "       115.86017171, 105.07357671, 102.41390266, 147.17091819,\n",
       "       137.01344906, 128.29401854, 118.29596509, 121.753716  ,\n",
       "       119.11176693, 119.78708518, 104.53762514, 114.82836773,\n",
       "       117.46866597, 131.59847044, 104.53762514, 114.47072998,\n",
       "       125.15551694,  91.39686953, 133.76137096, 137.0386998 ,\n",
       "       117.08064379, 126.24210799, 150.39738476,  99.22243868,\n",
       "       112.72717377, 124.12135958, 120.19219517, 112.14955789,\n",
       "       133.44812248, 141.78630333, 102.27699416, 121.03900045,\n",
       "       110.20776304, 129.39281283, 111.96328113, 110.41299172,\n",
       "       123.82038711, 110.96580317, 121.11159236, 129.75134238,\n",
       "       117.12164589, 128.29401854, 127.37139004, 105.58713836,\n",
       "       112.97042226, 106.20560317, 142.88386944, 128.29401854,\n",
       "       137.35026886, 117.19885422, 151.07497181, 126.35456728,\n",
       "       127.91533973, 140.47831768, 141.83769925, 131.09741318,\n",
       "       111.6406819 , 127.22266678, 107.70670682, 135.09702925,\n",
       "       151.07497181, 118.88820509, 132.98662832, 112.34896738,\n",
       "       125.6515131 , 100.95121714, 126.24210799, 123.31112619,\n",
       "       102.60795058, 112.93714826, 117.42200923, 105.66214157,\n",
       "       125.15551694, 131.9804473 , 129.7882762 , 107.18450433,\n",
       "       123.75582647, 108.93445749, 111.00421989, 140.70669095,\n",
       "       128.8496187 ,  99.69671604, 114.48747124, 118.83460117,\n",
       "       118.54983584, 117.42663153, 146.77030559, 115.25435975,\n",
       "       123.15591241, 119.13600916, 113.36953087, 118.05650731,\n",
       "       158.0607425 , 113.67508561, 147.57905268,  98.00759018,\n",
       "       115.48161594, 105.69810554, 162.71479863, 130.67673345,\n",
       "       108.15840328, 130.07164053, 129.7882762 , 132.25348397,\n",
       "       111.97378687, 127.69735531,  98.04766038, 106.87808839,\n",
       "       122.03711017, 110.56171662, 131.80841103, 126.32839955,\n",
       "       116.46536333, 124.30626898, 124.97403625, 133.93692931,\n",
       "       119.52090287, 197.06421143, 117.64032306, 136.33546153,\n",
       "       118.75644069, 113.36491884, 123.82038711, 117.12164589,\n",
       "       115.85965279, 119.62369985, 152.72719224, 115.95996216,\n",
       "       129.12120489, 127.37139004, 128.97612294, 127.3631331 ,\n",
       "       135.3251845 , 103.33266965, 122.51917692, 109.15200925,\n",
       "       122.03711017, 111.96328113, 115.61787408, 135.38407026,\n",
       "       101.90364612, 113.00294119, 117.05825398, 129.39281283,\n",
       "       128.19279787,  99.47534882, 124.28603401, 114.59249236,\n",
       "       115.59165604, 130.07875424, 100.51312771, 111.44697791,\n",
       "       104.89496341, 143.04975465, 119.27826003, 115.03120325,\n",
       "       105.07357671, 109.53646316, 118.68644519, 141.02202069,\n",
       "       116.03216057, 117.85775216, 113.36491884, 120.34705353,\n",
       "       110.18004707, 118.60056526, 140.63347958, 102.70003261,\n",
       "       115.83522141, 125.94635613, 134.23113563, 123.76723796,\n",
       "       141.44831054, 124.75349057, 167.4167819 , 107.90599911,\n",
       "       131.09741318, 133.40119375, 127.22266678, 123.18633735,\n",
       "       125.51955416, 116.10505432, 137.0386998 , 113.94615703,\n",
       "       120.19018164, 113.2966812 , 102.65024326, 119.57616958,\n",
       "       118.54983584, 143.04975465, 114.87062132, 117.58382876,\n",
       "       130.05091803, 116.17943575, 145.32292746, 113.83731098,\n",
       "       138.05380001, 113.76237402, 123.34228019, 125.64539237,\n",
       "       129.03481472, 123.99034714, 163.54290803, 116.93409032,\n",
       "       115.70427538, 105.00788666, 133.80622823, 100.78937907,\n",
       "       133.05780402, 122.37451646, 131.9804473 , 126.60034595,\n",
       "       115.17214282, 126.10184684, 117.46866597, 100.64116784,\n",
       "       113.46867529, 128.19279787, 107.54911256, 130.36178016,\n",
       "       160.68402476, 145.32292746, 110.67325576, 117.12116485,\n",
       "       114.02269726, 116.16979796, 123.92676637, 117.12164589,\n",
       "       108.82874401, 117.12116485, 124.69513583, 114.91342648,\n",
       "       113.82984136, 109.17805377, 124.80654   , 145.81747625,\n",
       "       110.04036812, 144.6268225 , 119.52680831, 102.10061829,\n",
       "       122.7751816 , 106.14401798, 110.33183434, 111.60755663,\n",
       "       110.18944472, 115.55774834, 120.44201097, 111.68601554,\n",
       "       140.36076472, 128.32264705, 119.3586038 , 105.81402382,\n",
       "       110.286974  , 128.64353112, 121.59867354, 120.89552174,\n",
       "       122.55389399, 114.79658384, 129.0906899 , 105.5523767 ,\n",
       "       133.80622823, 108.09385313, 110.96580317, 125.64539237,\n",
       "       114.41086148, 122.55830175, 147.91291456, 122.63599552,\n",
       "       116.10505432, 129.82530553, 129.42578937,  99.62745531,\n",
       "       104.27315118, 109.85339902, 121.13993347, 133.80622823,\n",
       "       140.11410756, 115.70427538, 124.16485507, 110.01854244,\n",
       "       143.04975465, 123.34623006, 104.14605491, 122.51917692,\n",
       "       133.44989492, 117.13345264, 126.59074887, 126.18619001,\n",
       "       122.55389399, 147.57905268, 122.7751816 , 119.53779239,\n",
       "       119.3586038 , 130.55182688, 115.55774834, 102.41390266,\n",
       "       135.09702925, 139.54936139, 121.10305879, 141.78630333,\n",
       "       161.30890011, 130.07875424, 128.37211268, 122.03711017,\n",
       "       126.2057886 , 130.27234985, 127.45513061, 112.55232323,\n",
       "       133.53319934, 133.85171747, 116.57608136, 126.21535767,\n",
       "       128.97612294, 104.46638393, 103.76350049, 114.91342648,\n",
       "       123.10104324, 112.07885818, 115.01156308, 121.62367947,\n",
       "       102.78591563, 141.64821142, 106.69071951, 119.3586038 ,\n",
       "       129.12784298, 111.91557044, 102.79575499, 125.29131635,\n",
       "       103.81544634, 118.39278197, 121.596462  , 114.47072998,\n",
       "       128.14738158, 106.36491402, 110.4674624 , 104.9453185 ,\n",
       "       109.87821074, 102.86972049, 111.91557044, 115.42192101,\n",
       "       115.41504749, 120.19219517, 126.19509097, 126.61715726,\n",
       "       124.64248077, 116.89621949, 146.34348604, 115.70427538,\n",
       "       103.19646397, 111.79017018, 110.89549102, 115.76359982,\n",
       "       121.43180819, 127.37139004, 118.69813648, 125.96889645,\n",
       "       132.57574347, 140.00885947, 117.40602291, 131.0862202 ,\n",
       "       122.41362704, 140.63347958, 115.59165604, 138.05380001,\n",
       "       108.09385313, 107.54911256, 105.57667376, 105.81402382,\n",
       "       130.69156956, 143.8565515 , 102.70003261, 110.04942291,\n",
       "       103.33266965, 120.61869912, 130.27234985, 123.12730252,\n",
       "       115.25435975, 136.83694321, 133.04440475, 105.09572037,\n",
       "       140.63347958, 109.56562418, 113.40536049, 120.01169349,\n",
       "       105.73638673, 127.01453478, 116.76433047, 115.55774834,\n",
       "       110.18944472, 110.5305102 , 105.58713836, 110.67325576,\n",
       "       138.57650021, 109.5361948 , 108.15840328, 134.23113563,\n",
       "       113.28719583, 121.83273717, 110.5305102 , 130.20446689,\n",
       "       106.14401798, 115.95996216, 132.29826427, 106.69071951,\n",
       "       135.42269862, 129.73561878, 122.51917692, 146.77030559,\n",
       "        98.00759018, 125.96889645,  99.18366606, 131.44445639,\n",
       "       110.89549102, 168.64094408, 121.753716  , 113.51301657,\n",
       "       108.46330031, 113.51301657, 133.44812248,  98.35041149,\n",
       "       134.5429916 , 120.08112105, 118.58508384, 127.07545972,\n",
       "       173.94055827, 120.29443222, 173.07575857, 123.74047529,\n",
       "       104.28464101, 126.2057886 , 115.17214282, 131.59847044,\n",
       "       116.83735238, 102.28452913, 128.53950047, 116.04063873,\n",
       "       118.76985122, 143.00443664, 144.14490173, 131.02821973,\n",
       "       127.78409164, 113.69527762, 124.38615053])"
      ]
     },
     "execution_count": 26,
     "metadata": {},
     "output_type": "execute_result"
    }
   ],
   "source": [
    "# Predicted Value\n",
    "y_pred"
   ]
  },
  {
   "cell_type": "code",
   "execution_count": 27,
   "metadata": {},
   "outputs": [
    {
     "data": {
      "text/plain": [
       "667"
      ]
     },
     "execution_count": 27,
     "metadata": {},
     "output_type": "execute_result"
    }
   ],
   "source": [
    "y_pred.size"
   ]
  },
  {
   "cell_type": "code",
   "execution_count": 28,
   "metadata": {},
   "outputs": [
    {
     "data": {
      "image/png": "[encoded data removed]",
      "text/plain": [
       "<Figure size 648x432 with 1 Axes>"
      ]
     },
     "metadata": {
      "needs_background": "light"
     },
     "output_type": "display_data"
    }
   ],
   "source": [
    "x_ax = np.linspace(0,200, num=667)\n",
    "s = 100\n",
    "\n",
    "plt.rcParams[\"figure.figsize\"] = (9, 6)\n",
    "plt.scatter(x_ax, y_test, s, color='cornflowerblue', label=f'Actual Value', marker='v')\n",
    "plt.scatter(x_ax, y_pred, s, color='lime', label=f'Predicted Value', marker='*')\n",
    "\n",
    "plt.title('Predicted Glucose Level vs Actual Glucose Level')\n",
    "plt.legend()\n",
    "plt.ylabel('Glucose Level')\n",
    "plt.show()\n",
    "\n",
    "# Add Density Plot"
   ]
  },
  {
   "cell_type": "code",
   "execution_count": 29,
   "metadata": {},
   "outputs": [],
   "source": [
    "from sklearn import metrics"
   ]
  },
  {
   "cell_type": "code",
   "execution_count": 30,
   "metadata": {},
   "outputs": [
    {
     "name": "stdout",
     "output_type": "stream",
     "text": [
      "19.672034757338643\n"
     ]
    }
   ],
   "source": [
    "# Mean Absolute Error\n",
    "print(metrics.mean_absolute_error(y_test, y_pred))"
   ]
  },
  {
   "cell_type": "code",
   "execution_count": 31,
   "metadata": {},
   "outputs": [
    {
     "name": "stdout",
     "output_type": "stream",
     "text": [
      "657.4842536309823\n"
     ]
    }
   ],
   "source": [
    "# Mean Squared Error\n",
    "print(metrics.mean_squared_error(y_test, y_pred))"
   ]
  },
  {
   "cell_type": "code",
   "execution_count": 32,
   "metadata": {},
   "outputs": [
    {
     "name": "stdout",
     "output_type": "stream",
     "text": [
      "25.641455762709384\n"
     ]
    }
   ],
   "source": [
    "# Square Root of Mean Squared Error\n",
    "print(np.sqrt(metrics.mean_squared_error(y_test, y_pred)))"
   ]
  },
  {
   "cell_type": "code",
   "execution_count": 33,
   "metadata": {},
   "outputs": [
    {
     "data": {
      "text/plain": [
       "0.2635601413805916"
      ]
     },
     "execution_count": 33,
     "metadata": {},
     "output_type": "execute_result"
    }
   ],
   "source": [
    "# R^2 Error\n",
    "from sklearn.metrics import r2_score\n",
    "r2_score(y_test, y_pred)"
   ]
  }
 ],
 "metadata": {
  "kernelspec": {
   "display_name": "Python 3 (ipykernel)",
   "language": "python",
   "name": "python3"
  },
  "language_info": {
   "codemirror_mode": {
    "name": "ipython",
    "version": 3
   },
   "file_extension": ".py",
   "mimetype": "text/x-python",
   "name": "python",
   "nbconvert_exporter": "python",
   "pygments_lexer": "ipython3",
   "version": "3.9.7"
  }
 },
 "nbformat": 4,
 "nbformat_minor": 1
}
