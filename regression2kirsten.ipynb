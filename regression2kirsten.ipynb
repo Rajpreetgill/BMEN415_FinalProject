{
 "cells": [
  {
   "cell_type": "code",
   "execution_count": 1,
   "metadata": {},
   "outputs": [],
   "source": [
    "from sklearn import linear_model\n",
    "import pandas as pd\n",
    "from sklearn.metrics import mean_squared_error\n",
    "from sklearn.model_selection import train_test_split\n",
    "\n",
    "dia = pd.read_csv('C:/Users/Kirsten Korsrud/Documents/diabetes data/diabetes-dataset.csv')"
   ]
  },
  {
   "cell_type": "code",
   "execution_count": 2,
   "metadata": {},
   "outputs": [],
   "source": [
    "# Change Insulin null (0) values to mean value\n",
    "dia.Insulin = dia.replace(0, dia.Insulin.mean())\n",
    "# Change Skin Thickness null (0) values to mean value\n",
    "dia.SkinThickness = dia.SkinThickness.replace(0, dia.SkinThickness.mean())\n",
    "# Change Glucose null (0) values to mean value\n",
    "dia.Glucose = dia.Glucose.replace(0, dia.Glucose.mean())\n",
    "# Change Glucose null (0) values to mean value\n",
    "dia.Glucose = dia.Glucose.replace(0, dia.Glucose.mean())\n",
    "# Change Skin Blood Pressure (0) values to mean value\n",
    "dia.BloodPressure = dia.BloodPressure.replace(0, dia.BloodPressure.mean())\n",
    "# Change BMI null (0) values to mean value\n",
    "dia.BMI = dia.BMI.replace(0, dia.BMI.mean())"
   ]
  },
  {
   "cell_type": "code",
   "execution_count": 3,
   "metadata": {},
   "outputs": [
    {
     "name": "stdout",
     "output_type": "stream",
     "text": [
      "[ 0.62206563  0.17760527  0.17588169  0.03049793  0.70569593 -0.11338131\n",
      "  6.94423285]\n",
      "57.447313263290056\n"
     ]
    }
   ],
   "source": [
    "X=dia[['Age', 'BloodPressure', 'SkinThickness', 'Insulin', 'BMI', 'Pregnancies', 'DiabetesPedigreeFunction']]  # Features\n",
    "y=dia['Glucose']\n",
    "\n",
    "clf = linear_model.Lasso(alpha=0.1)\n",
    "# alpha parameter controls the degree of sparsity of the estimated coefficients\n",
    "clf.fit(X,y)\n",
    "\n",
    "print(clf.coef_)\n",
    "\n",
    "print(clf.intercept_)"
   ]
  },
  {
   "cell_type": "code",
   "execution_count": 4,
   "metadata": {},
   "outputs": [
    {
     "name": "stdout",
     "output_type": "stream",
     "text": [
      "R squared training set 0.12663429749304267\n",
      "R squared test set 0.14916934767298917\n"
     ]
    }
   ],
   "source": [
    "X_train, X_test, y_train, y_test = train_test_split(X, y, test_size=(1/3))\n",
    "print('R squared training set', (clf.score(X_train, y_train)))\n",
    "print('R squared test set', (clf.score(X_test, y_test)))"
   ]
  },
  {
   "cell_type": "code",
   "execution_count": 5,
   "metadata": {},
   "outputs": [
    {
     "name": "stdout",
     "output_type": "stream",
     "text": [
      "MSE training set 797.880874220727\n",
      "MSE test set 823.2420315267348\n"
     ]
    }
   ],
   "source": [
    "# Training data\n",
    "pred_train = clf.predict(X_train)\n",
    "mse_train = mean_squared_error(y_train, pred_train)\n",
    "print('MSE training set', (mse_train))\n",
    "\n",
    "# Test data\n",
    "pred = clf.predict(X_test)\n",
    "mse_test =mean_squared_error(y_test, pred)\n",
    "print('MSE test set', (mse_test))\n"
   ]
  }
 ],
 "metadata": {
  "kernelspec": {
   "display_name": "Python 3",
   "language": "python",
   "name": "python3"
  },
  "language_info": {
   "codemirror_mode": {
    "name": "ipython",
    "version": 3
   },
   "file_extension": ".py",
   "mimetype": "text/x-python",
   "name": "python",
   "nbconvert_exporter": "python",
   "pygments_lexer": "ipython3",
   "version": "3.8.5"
  }
 },
 "nbformat": 4,
 "nbformat_minor": 4
}
