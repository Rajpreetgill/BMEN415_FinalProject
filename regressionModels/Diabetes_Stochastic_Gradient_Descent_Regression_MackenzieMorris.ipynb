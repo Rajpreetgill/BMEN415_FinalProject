{
 "cells": [
  {
   "cell_type": "markdown",
   "metadata": {},
   "source": [
    "\n",
    "# Stochastic Gradient Descent Regression Model\n"
   ]
  },
  {
   "cell_type": "code",
   "execution_count": 2,
   "metadata": {},
   "outputs": [],
   "source": [
    "# Import the necessary modules and libraries\n",
    "import numpy as np\n",
    "import pandas as pd\n",
    "import matplotlib.pyplot as plt"
   ]
  },
  {
   "cell_type": "markdown",
   "metadata": {},
   "source": [
    "\n",
    "## Data Preprocesing\n"
   ]
  },
  {
   "cell_type": "code",
   "execution_count": 3,
   "metadata": {},
   "outputs": [
    {
     "data": {
      "text/html": [
       "<div>\n",
       "<style scoped>\n",
       "    .dataframe tbody tr th:only-of-type {\n",
       "        vertical-align: middle;\n",
       "    }\n",
       "\n",
       "    .dataframe tbody tr th {\n",
       "        vertical-align: top;\n",
       "    }\n",
       "\n",
       "    .dataframe thead th {\n",
       "        text-align: right;\n",
       "    }\n",
       "</style>\n",
       "<table border=\"1\" class=\"dataframe\">\n",
       "  <thead>\n",
       "    <tr style=\"text-align: right;\">\n",
       "      <th></th>\n",
       "      <th>Pregnancies</th>\n",
       "      <th>Glucose</th>\n",
       "      <th>BloodPressure</th>\n",
       "      <th>SkinThickness</th>\n",
       "      <th>Insulin</th>\n",
       "      <th>BMI</th>\n",
       "      <th>DiabetesPedigreeFunction</th>\n",
       "      <th>Age</th>\n",
       "      <th>Outcome</th>\n",
       "    </tr>\n",
       "  </thead>\n",
       "  <tbody>\n",
       "    <tr>\n",
       "      <th>0</th>\n",
       "      <td>2</td>\n",
       "      <td>138</td>\n",
       "      <td>62</td>\n",
       "      <td>35</td>\n",
       "      <td>0</td>\n",
       "      <td>33.6</td>\n",
       "      <td>0.127</td>\n",
       "      <td>47</td>\n",
       "      <td>1</td>\n",
       "    </tr>\n",
       "    <tr>\n",
       "      <th>1</th>\n",
       "      <td>0</td>\n",
       "      <td>84</td>\n",
       "      <td>82</td>\n",
       "      <td>31</td>\n",
       "      <td>125</td>\n",
       "      <td>38.2</td>\n",
       "      <td>0.233</td>\n",
       "      <td>23</td>\n",
       "      <td>0</td>\n",
       "    </tr>\n",
       "    <tr>\n",
       "      <th>2</th>\n",
       "      <td>0</td>\n",
       "      <td>145</td>\n",
       "      <td>0</td>\n",
       "      <td>0</td>\n",
       "      <td>0</td>\n",
       "      <td>44.2</td>\n",
       "      <td>0.630</td>\n",
       "      <td>31</td>\n",
       "      <td>1</td>\n",
       "    </tr>\n",
       "    <tr>\n",
       "      <th>3</th>\n",
       "      <td>0</td>\n",
       "      <td>135</td>\n",
       "      <td>68</td>\n",
       "      <td>42</td>\n",
       "      <td>250</td>\n",
       "      <td>42.3</td>\n",
       "      <td>0.365</td>\n",
       "      <td>24</td>\n",
       "      <td>1</td>\n",
       "    </tr>\n",
       "    <tr>\n",
       "      <th>4</th>\n",
       "      <td>1</td>\n",
       "      <td>139</td>\n",
       "      <td>62</td>\n",
       "      <td>41</td>\n",
       "      <td>480</td>\n",
       "      <td>40.7</td>\n",
       "      <td>0.536</td>\n",
       "      <td>21</td>\n",
       "      <td>0</td>\n",
       "    </tr>\n",
       "    <tr>\n",
       "      <th>...</th>\n",
       "      <td>...</td>\n",
       "      <td>...</td>\n",
       "      <td>...</td>\n",
       "      <td>...</td>\n",
       "      <td>...</td>\n",
       "      <td>...</td>\n",
       "      <td>...</td>\n",
       "      <td>...</td>\n",
       "      <td>...</td>\n",
       "    </tr>\n",
       "    <tr>\n",
       "      <th>1995</th>\n",
       "      <td>2</td>\n",
       "      <td>75</td>\n",
       "      <td>64</td>\n",
       "      <td>24</td>\n",
       "      <td>55</td>\n",
       "      <td>29.7</td>\n",
       "      <td>0.370</td>\n",
       "      <td>33</td>\n",
       "      <td>0</td>\n",
       "    </tr>\n",
       "    <tr>\n",
       "      <th>1996</th>\n",
       "      <td>8</td>\n",
       "      <td>179</td>\n",
       "      <td>72</td>\n",
       "      <td>42</td>\n",
       "      <td>130</td>\n",
       "      <td>32.7</td>\n",
       "      <td>0.719</td>\n",
       "      <td>36</td>\n",
       "      <td>1</td>\n",
       "    </tr>\n",
       "    <tr>\n",
       "      <th>1997</th>\n",
       "      <td>6</td>\n",
       "      <td>85</td>\n",
       "      <td>78</td>\n",
       "      <td>0</td>\n",
       "      <td>0</td>\n",
       "      <td>31.2</td>\n",
       "      <td>0.382</td>\n",
       "      <td>42</td>\n",
       "      <td>0</td>\n",
       "    </tr>\n",
       "    <tr>\n",
       "      <th>1998</th>\n",
       "      <td>0</td>\n",
       "      <td>129</td>\n",
       "      <td>110</td>\n",
       "      <td>46</td>\n",
       "      <td>130</td>\n",
       "      <td>67.1</td>\n",
       "      <td>0.319</td>\n",
       "      <td>26</td>\n",
       "      <td>1</td>\n",
       "    </tr>\n",
       "    <tr>\n",
       "      <th>1999</th>\n",
       "      <td>2</td>\n",
       "      <td>81</td>\n",
       "      <td>72</td>\n",
       "      <td>15</td>\n",
       "      <td>76</td>\n",
       "      <td>30.1</td>\n",
       "      <td>0.547</td>\n",
       "      <td>25</td>\n",
       "      <td>0</td>\n",
       "    </tr>\n",
       "  </tbody>\n",
       "</table>\n",
       "<p>2000 rows × 9 columns</p>\n",
       "</div>"
      ],
      "text/plain": [
       "      Pregnancies  Glucose  BloodPressure  SkinThickness  Insulin   BMI  \\\n",
       "0               2      138             62             35        0  33.6   \n",
       "1               0       84             82             31      125  38.2   \n",
       "2               0      145              0              0        0  44.2   \n",
       "3               0      135             68             42      250  42.3   \n",
       "4               1      139             62             41      480  40.7   \n",
       "...           ...      ...            ...            ...      ...   ...   \n",
       "1995            2       75             64             24       55  29.7   \n",
       "1996            8      179             72             42      130  32.7   \n",
       "1997            6       85             78              0        0  31.2   \n",
       "1998            0      129            110             46      130  67.1   \n",
       "1999            2       81             72             15       76  30.1   \n",
       "\n",
       "      DiabetesPedigreeFunction  Age  Outcome  \n",
       "0                        0.127   47        1  \n",
       "1                        0.233   23        0  \n",
       "2                        0.630   31        1  \n",
       "3                        0.365   24        1  \n",
       "4                        0.536   21        0  \n",
       "...                        ...  ...      ...  \n",
       "1995                     0.370   33        0  \n",
       "1996                     0.719   36        1  \n",
       "1997                     0.382   42        0  \n",
       "1998                     0.319   26        1  \n",
       "1999                     0.547   25        0  \n",
       "\n",
       "[2000 rows x 9 columns]"
      ]
     },
     "execution_count": 3,
     "metadata": {},
     "output_type": "execute_result"
    }
   ],
   "source": [
    "diabetes_data = pd.read_csv('C:/Users/USER/Documents/Engineering/BMEN415/regression_data/diabetes-dataset.csv')\n",
    "diabetes_data"
   ]
  },
  {
   "cell_type": "code",
   "execution_count": 4,
   "metadata": {},
   "outputs": [
    {
     "data": {
      "text/plain": [
       "Pregnancies                  301\n",
       "Glucose                       13\n",
       "BloodPressure                 90\n",
       "SkinThickness                573\n",
       "Insulin                      956\n",
       "BMI                           28\n",
       "DiabetesPedigreeFunction       0\n",
       "Age                            0\n",
       "Outcome                     1316\n",
       "dtype: int64"
      ]
     },
     "execution_count": 4,
     "metadata": {},
     "output_type": "execute_result"
    }
   ],
   "source": [
    "diabetes_data[diabetes_data==0].count()"
   ]
  },
  {
   "cell_type": "code",
   "execution_count": 5,
   "metadata": {},
   "outputs": [],
   "source": [
    "# Change Insulin null (0) values to mean value\n",
    "diabetes_data.Insulin = diabetes_data.Insulin.replace(0, diabetes_data.Insulin.mean())"
   ]
  },
  {
   "cell_type": "code",
   "execution_count": 6,
   "metadata": {},
   "outputs": [],
   "source": [
    "# Change Skin Thickness null (0) values to mean value\n",
    "diabetes_data.SkinThickness = diabetes_data.SkinThickness.replace(0, diabetes_data.SkinThickness.mean())"
   ]
  },
  {
   "cell_type": "code",
   "execution_count": 7,
   "metadata": {},
   "outputs": [],
   "source": [
    "# Change Glucose null (0) values to mean value\n",
    "diabetes_data.Glucose = diabetes_data.Glucose.replace(0, diabetes_data.Glucose.mean())"
   ]
  },
  {
   "cell_type": "code",
   "execution_count": 8,
   "metadata": {},
   "outputs": [],
   "source": [
    "# Change Skin Blood Pressure (0) values to mean value\n",
    "diabetes_data.BloodPressure = diabetes_data.BloodPressure.replace(0, diabetes_data.BloodPressure.mean())"
   ]
  },
  {
   "cell_type": "code",
   "execution_count": 9,
   "metadata": {},
   "outputs": [],
   "source": [
    "# Change BMI null (0) values to mean value\n",
    "diabetes_data.BMI = diabetes_data.BMI.replace(0, diabetes_data.BMI.mean())"
   ]
  },
  {
   "cell_type": "code",
   "execution_count": 10,
   "metadata": {},
   "outputs": [
    {
     "data": {
      "text/plain": [
       "Pregnancies                  301\n",
       "Glucose                        0\n",
       "BloodPressure                  0\n",
       "SkinThickness                  0\n",
       "Insulin                        0\n",
       "BMI                            0\n",
       "DiabetesPedigreeFunction       0\n",
       "Age                            0\n",
       "Outcome                     1316\n",
       "dtype: int64"
      ]
     },
     "execution_count": 10,
     "metadata": {},
     "output_type": "execute_result"
    }
   ],
   "source": [
    "# Updated\n",
    "diabetes_data[diabetes_data==0].count()"
   ]
  },
  {
   "cell_type": "code",
   "execution_count": 11,
   "metadata": {},
   "outputs": [],
   "source": [
    "x = diabetes_data.iloc[:,[0,2,3,4,5,6,7]]\n",
    "y = diabetes_data.iloc[:,1:2].values"
   ]
  },
  {
   "cell_type": "code",
   "execution_count": 12,
   "metadata": {},
   "outputs": [
    {
     "data": {
      "text/html": [
       "<div>\n",
       "<style scoped>\n",
       "    .dataframe tbody tr th:only-of-type {\n",
       "        vertical-align: middle;\n",
       "    }\n",
       "\n",
       "    .dataframe tbody tr th {\n",
       "        vertical-align: top;\n",
       "    }\n",
       "\n",
       "    .dataframe thead th {\n",
       "        text-align: right;\n",
       "    }\n",
       "</style>\n",
       "<table border=\"1\" class=\"dataframe\">\n",
       "  <thead>\n",
       "    <tr style=\"text-align: right;\">\n",
       "      <th></th>\n",
       "      <th>Pregnancies</th>\n",
       "      <th>BloodPressure</th>\n",
       "      <th>SkinThickness</th>\n",
       "      <th>Insulin</th>\n",
       "      <th>BMI</th>\n",
       "      <th>DiabetesPedigreeFunction</th>\n",
       "      <th>Age</th>\n",
       "    </tr>\n",
       "  </thead>\n",
       "  <tbody>\n",
       "    <tr>\n",
       "      <th>0</th>\n",
       "      <td>2</td>\n",
       "      <td>62.0000</td>\n",
       "      <td>35.000</td>\n",
       "      <td>80.254</td>\n",
       "      <td>33.6</td>\n",
       "      <td>0.127</td>\n",
       "      <td>47</td>\n",
       "    </tr>\n",
       "    <tr>\n",
       "      <th>1</th>\n",
       "      <td>0</td>\n",
       "      <td>82.0000</td>\n",
       "      <td>31.000</td>\n",
       "      <td>125.000</td>\n",
       "      <td>38.2</td>\n",
       "      <td>0.233</td>\n",
       "      <td>23</td>\n",
       "    </tr>\n",
       "    <tr>\n",
       "      <th>2</th>\n",
       "      <td>0</td>\n",
       "      <td>69.1455</td>\n",
       "      <td>20.935</td>\n",
       "      <td>80.254</td>\n",
       "      <td>44.2</td>\n",
       "      <td>0.630</td>\n",
       "      <td>31</td>\n",
       "    </tr>\n",
       "    <tr>\n",
       "      <th>3</th>\n",
       "      <td>0</td>\n",
       "      <td>68.0000</td>\n",
       "      <td>42.000</td>\n",
       "      <td>250.000</td>\n",
       "      <td>42.3</td>\n",
       "      <td>0.365</td>\n",
       "      <td>24</td>\n",
       "    </tr>\n",
       "    <tr>\n",
       "      <th>4</th>\n",
       "      <td>1</td>\n",
       "      <td>62.0000</td>\n",
       "      <td>41.000</td>\n",
       "      <td>480.000</td>\n",
       "      <td>40.7</td>\n",
       "      <td>0.536</td>\n",
       "      <td>21</td>\n",
       "    </tr>\n",
       "    <tr>\n",
       "      <th>...</th>\n",
       "      <td>...</td>\n",
       "      <td>...</td>\n",
       "      <td>...</td>\n",
       "      <td>...</td>\n",
       "      <td>...</td>\n",
       "      <td>...</td>\n",
       "      <td>...</td>\n",
       "    </tr>\n",
       "    <tr>\n",
       "      <th>1995</th>\n",
       "      <td>2</td>\n",
       "      <td>64.0000</td>\n",
       "      <td>24.000</td>\n",
       "      <td>55.000</td>\n",
       "      <td>29.7</td>\n",
       "      <td>0.370</td>\n",
       "      <td>33</td>\n",
       "    </tr>\n",
       "    <tr>\n",
       "      <th>1996</th>\n",
       "      <td>8</td>\n",
       "      <td>72.0000</td>\n",
       "      <td>42.000</td>\n",
       "      <td>130.000</td>\n",
       "      <td>32.7</td>\n",
       "      <td>0.719</td>\n",
       "      <td>36</td>\n",
       "    </tr>\n",
       "    <tr>\n",
       "      <th>1997</th>\n",
       "      <td>6</td>\n",
       "      <td>78.0000</td>\n",
       "      <td>20.935</td>\n",
       "      <td>80.254</td>\n",
       "      <td>31.2</td>\n",
       "      <td>0.382</td>\n",
       "      <td>42</td>\n",
       "    </tr>\n",
       "    <tr>\n",
       "      <th>1998</th>\n",
       "      <td>0</td>\n",
       "      <td>110.0000</td>\n",
       "      <td>46.000</td>\n",
       "      <td>130.000</td>\n",
       "      <td>67.1</td>\n",
       "      <td>0.319</td>\n",
       "      <td>26</td>\n",
       "    </tr>\n",
       "    <tr>\n",
       "      <th>1999</th>\n",
       "      <td>2</td>\n",
       "      <td>72.0000</td>\n",
       "      <td>15.000</td>\n",
       "      <td>76.000</td>\n",
       "      <td>30.1</td>\n",
       "      <td>0.547</td>\n",
       "      <td>25</td>\n",
       "    </tr>\n",
       "  </tbody>\n",
       "</table>\n",
       "<p>2000 rows × 7 columns</p>\n",
       "</div>"
      ],
      "text/plain": [
       "      Pregnancies  BloodPressure  SkinThickness  Insulin   BMI  \\\n",
       "0               2        62.0000         35.000   80.254  33.6   \n",
       "1               0        82.0000         31.000  125.000  38.2   \n",
       "2               0        69.1455         20.935   80.254  44.2   \n",
       "3               0        68.0000         42.000  250.000  42.3   \n",
       "4               1        62.0000         41.000  480.000  40.7   \n",
       "...           ...            ...            ...      ...   ...   \n",
       "1995            2        64.0000         24.000   55.000  29.7   \n",
       "1996            8        72.0000         42.000  130.000  32.7   \n",
       "1997            6        78.0000         20.935   80.254  31.2   \n",
       "1998            0       110.0000         46.000  130.000  67.1   \n",
       "1999            2        72.0000         15.000   76.000  30.1   \n",
       "\n",
       "      DiabetesPedigreeFunction  Age  \n",
       "0                        0.127   47  \n",
       "1                        0.233   23  \n",
       "2                        0.630   31  \n",
       "3                        0.365   24  \n",
       "4                        0.536   21  \n",
       "...                        ...  ...  \n",
       "1995                     0.370   33  \n",
       "1996                     0.719   36  \n",
       "1997                     0.382   42  \n",
       "1998                     0.319   26  \n",
       "1999                     0.547   25  \n",
       "\n",
       "[2000 rows x 7 columns]"
      ]
     },
     "execution_count": 12,
     "metadata": {},
     "output_type": "execute_result"
    }
   ],
   "source": [
    "x # Predictors"
   ]
  },
  {
   "cell_type": "code",
   "execution_count": 13,
   "metadata": {},
   "outputs": [
    {
     "data": {
      "text/plain": [
       "array([[138.],\n",
       "       [ 84.],\n",
       "       [145.],\n",
       "       ...,\n",
       "       [ 85.],\n",
       "       [129.],\n",
       "       [ 81.]])"
      ]
     },
     "execution_count": 13,
     "metadata": {},
     "output_type": "execute_result"
    }
   ],
   "source": [
    "y # Outcome - Glucose Levels"
   ]
  },
  {
   "cell_type": "code",
   "execution_count": 14,
   "metadata": {},
   "outputs": [
    {
     "name": "stdout",
     "output_type": "stream",
     "text": [
      "<class 'pandas.core.frame.DataFrame'>\n",
      "RangeIndex: 2000 entries, 0 to 1999\n",
      "Data columns (total 9 columns):\n",
      " #   Column                    Non-Null Count  Dtype  \n",
      "---  ------                    --------------  -----  \n",
      " 0   Pregnancies               2000 non-null   int64  \n",
      " 1   Glucose                   2000 non-null   float64\n",
      " 2   BloodPressure             2000 non-null   float64\n",
      " 3   SkinThickness             2000 non-null   float64\n",
      " 4   Insulin                   2000 non-null   float64\n",
      " 5   BMI                       2000 non-null   float64\n",
      " 6   DiabetesPedigreeFunction  2000 non-null   float64\n",
      " 7   Age                       2000 non-null   int64  \n",
      " 8   Outcome                   2000 non-null   int64  \n",
      "dtypes: float64(6), int64(3)\n",
      "memory usage: 140.8 KB\n"
     ]
    }
   ],
   "source": [
    "diabetes_data.info() # summary of data and data types"
   ]
  },
  {
   "cell_type": "code",
   "execution_count": 15,
   "metadata": {},
   "outputs": [
    {
     "data": {
      "text/html": [
       "<div>\n",
       "<style scoped>\n",
       "    .dataframe tbody tr th:only-of-type {\n",
       "        vertical-align: middle;\n",
       "    }\n",
       "\n",
       "    .dataframe tbody tr th {\n",
       "        vertical-align: top;\n",
       "    }\n",
       "\n",
       "    .dataframe thead th {\n",
       "        text-align: right;\n",
       "    }\n",
       "</style>\n",
       "<table border=\"1\" class=\"dataframe\">\n",
       "  <thead>\n",
       "    <tr style=\"text-align: right;\">\n",
       "      <th></th>\n",
       "      <th>Pregnancies</th>\n",
       "      <th>Glucose</th>\n",
       "      <th>BloodPressure</th>\n",
       "      <th>SkinThickness</th>\n",
       "      <th>Insulin</th>\n",
       "      <th>BMI</th>\n",
       "      <th>DiabetesPedigreeFunction</th>\n",
       "      <th>Age</th>\n",
       "      <th>Outcome</th>\n",
       "    </tr>\n",
       "  </thead>\n",
       "  <tbody>\n",
       "    <tr>\n",
       "      <th>count</th>\n",
       "      <td>2000.000000</td>\n",
       "      <td>2000.000000</td>\n",
       "      <td>2000.000000</td>\n",
       "      <td>2000.000000</td>\n",
       "      <td>2000.000000</td>\n",
       "      <td>2000.000000</td>\n",
       "      <td>2000.000000</td>\n",
       "      <td>2000.000000</td>\n",
       "      <td>2000.000000</td>\n",
       "    </tr>\n",
       "    <tr>\n",
       "      <th>mean</th>\n",
       "      <td>3.703500</td>\n",
       "      <td>121.970186</td>\n",
       "      <td>72.257047</td>\n",
       "      <td>26.932877</td>\n",
       "      <td>118.615412</td>\n",
       "      <td>32.643702</td>\n",
       "      <td>0.470930</td>\n",
       "      <td>33.090500</td>\n",
       "      <td>0.342000</td>\n",
       "    </tr>\n",
       "    <tr>\n",
       "      <th>std</th>\n",
       "      <td>3.306063</td>\n",
       "      <td>30.533180</td>\n",
       "      <td>11.968614</td>\n",
       "      <td>9.884003</td>\n",
       "      <td>88.366170</td>\n",
       "      <td>7.190337</td>\n",
       "      <td>0.323553</td>\n",
       "      <td>11.786423</td>\n",
       "      <td>0.474498</td>\n",
       "    </tr>\n",
       "    <tr>\n",
       "      <th>min</th>\n",
       "      <td>0.000000</td>\n",
       "      <td>44.000000</td>\n",
       "      <td>24.000000</td>\n",
       "      <td>7.000000</td>\n",
       "      <td>14.000000</td>\n",
       "      <td>18.200000</td>\n",
       "      <td>0.078000</td>\n",
       "      <td>21.000000</td>\n",
       "      <td>0.000000</td>\n",
       "    </tr>\n",
       "    <tr>\n",
       "      <th>25%</th>\n",
       "      <td>1.000000</td>\n",
       "      <td>99.000000</td>\n",
       "      <td>64.000000</td>\n",
       "      <td>20.935000</td>\n",
       "      <td>80.254000</td>\n",
       "      <td>27.600000</td>\n",
       "      <td>0.244000</td>\n",
       "      <td>24.000000</td>\n",
       "      <td>0.000000</td>\n",
       "    </tr>\n",
       "    <tr>\n",
       "      <th>50%</th>\n",
       "      <td>3.000000</td>\n",
       "      <td>118.000000</td>\n",
       "      <td>72.000000</td>\n",
       "      <td>23.000000</td>\n",
       "      <td>80.254000</td>\n",
       "      <td>32.300000</td>\n",
       "      <td>0.376000</td>\n",
       "      <td>29.000000</td>\n",
       "      <td>0.000000</td>\n",
       "    </tr>\n",
       "    <tr>\n",
       "      <th>75%</th>\n",
       "      <td>6.000000</td>\n",
       "      <td>141.000000</td>\n",
       "      <td>80.000000</td>\n",
       "      <td>32.000000</td>\n",
       "      <td>130.000000</td>\n",
       "      <td>36.800000</td>\n",
       "      <td>0.624000</td>\n",
       "      <td>40.000000</td>\n",
       "      <td>1.000000</td>\n",
       "    </tr>\n",
       "    <tr>\n",
       "      <th>max</th>\n",
       "      <td>17.000000</td>\n",
       "      <td>199.000000</td>\n",
       "      <td>122.000000</td>\n",
       "      <td>110.000000</td>\n",
       "      <td>744.000000</td>\n",
       "      <td>80.600000</td>\n",
       "      <td>2.420000</td>\n",
       "      <td>81.000000</td>\n",
       "      <td>1.000000</td>\n",
       "    </tr>\n",
       "  </tbody>\n",
       "</table>\n",
       "</div>"
      ],
      "text/plain": [
       "       Pregnancies      Glucose  BloodPressure  SkinThickness      Insulin  \\\n",
       "count  2000.000000  2000.000000    2000.000000    2000.000000  2000.000000   \n",
       "mean      3.703500   121.970186      72.257047      26.932877   118.615412   \n",
       "std       3.306063    30.533180      11.968614       9.884003    88.366170   \n",
       "min       0.000000    44.000000      24.000000       7.000000    14.000000   \n",
       "25%       1.000000    99.000000      64.000000      20.935000    80.254000   \n",
       "50%       3.000000   118.000000      72.000000      23.000000    80.254000   \n",
       "75%       6.000000   141.000000      80.000000      32.000000   130.000000   \n",
       "max      17.000000   199.000000     122.000000     110.000000   744.000000   \n",
       "\n",
       "               BMI  DiabetesPedigreeFunction          Age      Outcome  \n",
       "count  2000.000000               2000.000000  2000.000000  2000.000000  \n",
       "mean     32.643702                  0.470930    33.090500     0.342000  \n",
       "std       7.190337                  0.323553    11.786423     0.474498  \n",
       "min      18.200000                  0.078000    21.000000     0.000000  \n",
       "25%      27.600000                  0.244000    24.000000     0.000000  \n",
       "50%      32.300000                  0.376000    29.000000     0.000000  \n",
       "75%      36.800000                  0.624000    40.000000     1.000000  \n",
       "max      80.600000                  2.420000    81.000000     1.000000  "
      ]
     },
     "execution_count": 15,
     "metadata": {},
     "output_type": "execute_result"
    }
   ],
   "source": [
    "diabetes_data.describe() # description of the data"
   ]
  },
  {
   "cell_type": "code",
   "execution_count": 16,
   "metadata": {
    "scrolled": true
   },
   "outputs": [
    {
     "data": {
      "text/html": [
       "<div>\n",
       "<style scoped>\n",
       "    .dataframe tbody tr th:only-of-type {\n",
       "        vertical-align: middle;\n",
       "    }\n",
       "\n",
       "    .dataframe tbody tr th {\n",
       "        vertical-align: top;\n",
       "    }\n",
       "\n",
       "    .dataframe thead th {\n",
       "        text-align: right;\n",
       "    }\n",
       "</style>\n",
       "<table border=\"1\" class=\"dataframe\">\n",
       "  <thead>\n",
       "    <tr style=\"text-align: right;\">\n",
       "      <th></th>\n",
       "      <th>Pregnancies</th>\n",
       "      <th>Glucose</th>\n",
       "      <th>BloodPressure</th>\n",
       "      <th>SkinThickness</th>\n",
       "      <th>Insulin</th>\n",
       "      <th>BMI</th>\n",
       "      <th>DiabetesPedigreeFunction</th>\n",
       "      <th>Age</th>\n",
       "      <th>Outcome</th>\n",
       "    </tr>\n",
       "  </thead>\n",
       "  <tbody>\n",
       "    <tr>\n",
       "      <th>Pregnancies</th>\n",
       "      <td>1.000000</td>\n",
       "      <td>0.121569</td>\n",
       "      <td>0.199471</td>\n",
       "      <td>0.028116</td>\n",
       "      <td>-0.020319</td>\n",
       "      <td>0.011439</td>\n",
       "      <td>-0.025453</td>\n",
       "      <td>0.539457</td>\n",
       "      <td>0.224437</td>\n",
       "    </tr>\n",
       "    <tr>\n",
       "      <th>Glucose</th>\n",
       "      <td>0.121569</td>\n",
       "      <td>1.000000</td>\n",
       "      <td>0.200509</td>\n",
       "      <td>0.175337</td>\n",
       "      <td>0.384706</td>\n",
       "      <td>0.233228</td>\n",
       "      <td>0.124176</td>\n",
       "      <td>0.259853</td>\n",
       "      <td>0.487977</td>\n",
       "    </tr>\n",
       "    <tr>\n",
       "      <th>BloodPressure</th>\n",
       "      <td>0.199471</td>\n",
       "      <td>0.200509</td>\n",
       "      <td>1.000000</td>\n",
       "      <td>0.154736</td>\n",
       "      <td>0.012714</td>\n",
       "      <td>0.259445</td>\n",
       "      <td>0.015216</td>\n",
       "      <td>0.325490</td>\n",
       "      <td>0.171844</td>\n",
       "    </tr>\n",
       "    <tr>\n",
       "      <th>SkinThickness</th>\n",
       "      <td>0.028116</td>\n",
       "      <td>0.175337</td>\n",
       "      <td>0.154736</td>\n",
       "      <td>1.000000</td>\n",
       "      <td>0.257060</td>\n",
       "      <td>0.520245</td>\n",
       "      <td>0.143700</td>\n",
       "      <td>0.035946</td>\n",
       "      <td>0.170856</td>\n",
       "    </tr>\n",
       "    <tr>\n",
       "      <th>Insulin</th>\n",
       "      <td>-0.020319</td>\n",
       "      <td>0.384706</td>\n",
       "      <td>0.012714</td>\n",
       "      <td>0.257060</td>\n",
       "      <td>1.000000</td>\n",
       "      <td>0.217047</td>\n",
       "      <td>0.161557</td>\n",
       "      <td>-0.009007</td>\n",
       "      <td>0.171339</td>\n",
       "    </tr>\n",
       "    <tr>\n",
       "      <th>BMI</th>\n",
       "      <td>0.011439</td>\n",
       "      <td>0.233228</td>\n",
       "      <td>0.259445</td>\n",
       "      <td>0.520245</td>\n",
       "      <td>0.217047</td>\n",
       "      <td>1.000000</td>\n",
       "      <td>0.142019</td>\n",
       "      <td>0.018815</td>\n",
       "      <td>0.282615</td>\n",
       "    </tr>\n",
       "    <tr>\n",
       "      <th>DiabetesPedigreeFunction</th>\n",
       "      <td>-0.025453</td>\n",
       "      <td>0.124176</td>\n",
       "      <td>0.015216</td>\n",
       "      <td>0.143700</td>\n",
       "      <td>0.161557</td>\n",
       "      <td>0.142019</td>\n",
       "      <td>1.000000</td>\n",
       "      <td>0.026569</td>\n",
       "      <td>0.155459</td>\n",
       "    </tr>\n",
       "    <tr>\n",
       "      <th>Age</th>\n",
       "      <td>0.539457</td>\n",
       "      <td>0.259853</td>\n",
       "      <td>0.325490</td>\n",
       "      <td>0.035946</td>\n",
       "      <td>-0.009007</td>\n",
       "      <td>0.018815</td>\n",
       "      <td>0.026569</td>\n",
       "      <td>1.000000</td>\n",
       "      <td>0.236509</td>\n",
       "    </tr>\n",
       "    <tr>\n",
       "      <th>Outcome</th>\n",
       "      <td>0.224437</td>\n",
       "      <td>0.487977</td>\n",
       "      <td>0.171844</td>\n",
       "      <td>0.170856</td>\n",
       "      <td>0.171339</td>\n",
       "      <td>0.282615</td>\n",
       "      <td>0.155459</td>\n",
       "      <td>0.236509</td>\n",
       "      <td>1.000000</td>\n",
       "    </tr>\n",
       "  </tbody>\n",
       "</table>\n",
       "</div>"
      ],
      "text/plain": [
       "                          Pregnancies   Glucose  BloodPressure  SkinThickness  \\\n",
       "Pregnancies                  1.000000  0.121569       0.199471       0.028116   \n",
       "Glucose                      0.121569  1.000000       0.200509       0.175337   \n",
       "BloodPressure                0.199471  0.200509       1.000000       0.154736   \n",
       "SkinThickness                0.028116  0.175337       0.154736       1.000000   \n",
       "Insulin                     -0.020319  0.384706       0.012714       0.257060   \n",
       "BMI                          0.011439  0.233228       0.259445       0.520245   \n",
       "DiabetesPedigreeFunction    -0.025453  0.124176       0.015216       0.143700   \n",
       "Age                          0.539457  0.259853       0.325490       0.035946   \n",
       "Outcome                      0.224437  0.487977       0.171844       0.170856   \n",
       "\n",
       "                           Insulin       BMI  DiabetesPedigreeFunction  \\\n",
       "Pregnancies              -0.020319  0.011439                 -0.025453   \n",
       "Glucose                   0.384706  0.233228                  0.124176   \n",
       "BloodPressure             0.012714  0.259445                  0.015216   \n",
       "SkinThickness             0.257060  0.520245                  0.143700   \n",
       "Insulin                   1.000000  0.217047                  0.161557   \n",
       "BMI                       0.217047  1.000000                  0.142019   \n",
       "DiabetesPedigreeFunction  0.161557  0.142019                  1.000000   \n",
       "Age                      -0.009007  0.018815                  0.026569   \n",
       "Outcome                   0.171339  0.282615                  0.155459   \n",
       "\n",
       "                               Age   Outcome  \n",
       "Pregnancies               0.539457  0.224437  \n",
       "Glucose                   0.259853  0.487977  \n",
       "BloodPressure             0.325490  0.171844  \n",
       "SkinThickness             0.035946  0.170856  \n",
       "Insulin                  -0.009007  0.171339  \n",
       "BMI                       0.018815  0.282615  \n",
       "DiabetesPedigreeFunction  0.026569  0.155459  \n",
       "Age                       1.000000  0.236509  \n",
       "Outcome                   0.236509  1.000000  "
      ]
     },
     "execution_count": 16,
     "metadata": {},
     "output_type": "execute_result"
    }
   ],
   "source": [
    "diabetes_data.corr() # correlation of the data"
   ]
  },
  {
   "cell_type": "code",
   "execution_count": 17,
   "metadata": {},
   "outputs": [
    {
     "data": {
      "image/png": "[encoded data removed]",
      "text/plain": [
       "<Figure size 1368x1080 with 2 Axes>"
      ]
     },
     "metadata": {
      "needs_background": "light"
     },
     "output_type": "display_data"
    }
   ],
   "source": [
    "# Correlation Matrix of Predictors\n",
    "correlation = plt.figure(figsize=(19, 15))\n",
    "plt.matshow(x.corr(), fignum=correlation.number)\n",
    "plt.xticks(range(x.select_dtypes(['number']).shape[1]), x.select_dtypes(['number']).columns, fontsize=14, rotation=45)\n",
    "plt.yticks(range(x.select_dtypes(['number']).shape[1]), x.select_dtypes(['number']).columns, fontsize=14)\n",
    "cb = plt.colorbar()\n",
    "cb.ax.tick_params(labelsize=14)\n",
    "plt.title('Correlation Matrix of Predictors', fontsize=16);"
   ]
  },
  {
   "cell_type": "code",
   "execution_count": 18,
   "metadata": {},
   "outputs": [
    {
     "data": {
      "image/png": "[encoded data removed]",
      "text/plain": [
       "<Figure size 864x720 with 9 Axes>"
      ]
     },
     "metadata": {
      "needs_background": "light"
     },
     "output_type": "display_data"
    }
   ],
   "source": [
    "fig, axes = plt.subplots(nrows=3, ncols=3, figsize=(12, 10))\n",
    "\n",
    "x.plot(kind=\"hist\", y=\"Pregnancies\", bins = 17, color=\"blueviolet\", ax=axes[0][0])\n",
    "x.plot(kind=\"hist\", y=\"BloodPressure\", bins = 120, color=\"lightpink\", ax=axes[0][1])\n",
    "x.plot(kind=\"hist\", y=\"SkinThickness\", bins=50, color=\"aquamarine\", ax=axes[0][2])\n",
    "x.plot(kind=\"hist\", y=\"Insulin\", bins=100, color=\"yellow\", ax=axes[1][0])\n",
    "x.plot(kind=\"hist\", y=\"BMI\", bins=50, color=\"royalblue\", ax=axes[1][1])\n",
    "x.plot(kind=\"hist\", y=\"DiabetesPedigreeFunction\", bins=50, color=\"palegreen\", ax=axes[1][2])\n",
    "x.plot(kind=\"hist\", y=\"Age\", bins=20, color=\"orangered\", ax=axes[2][0])\n",
    "plt.show()"
   ]
  },
  {
   "cell_type": "markdown",
   "metadata": {},
   "source": [
    "\n",
    "## Training the Data\n"
   ]
  },
  {
   "cell_type": "code",
   "execution_count": 19,
   "metadata": {},
   "outputs": [],
   "source": [
    "from sklearn.model_selection import train_test_split\n",
    "x_train, x_test, y_train, y_test = train_test_split(x,y,test_size=1/3,random_state=0) \n",
    "# splits data, 1/3 of data for testing, 2/3 of data for training"
   ]
  },
  {
   "cell_type": "code",
   "execution_count": 20,
   "metadata": {},
   "outputs": [
    {
     "data": {
      "text/plain": [
       "Pipeline(steps=[('standardscaler', StandardScaler()),\n",
       "                ('sgdregressor', SGDRegressor())])"
      ]
     },
     "execution_count": 20,
     "metadata": {},
     "output_type": "execute_result"
    }
   ],
   "source": [
    "from sklearn.linear_model import SGDRegressor\n",
    "from sklearn.pipeline import make_pipeline\n",
    "from sklearn.preprocessing import StandardScaler\n",
    "\n",
    "regressor = make_pipeline(StandardScaler(), SGDRegressor())\n",
    "\n",
    "regressor.fit(x_train, y_train.ravel())"
   ]
  },
  {
   "cell_type": "markdown",
   "metadata": {},
   "source": [
    "\n",
    "## Testing the Model\n"
   ]
  },
  {
   "cell_type": "code",
   "execution_count": 21,
   "metadata": {},
   "outputs": [],
   "source": [
    "# Predict glucose from test data\n",
    "y_pred = regressor.predict(x_test)"
   ]
  },
  {
   "cell_type": "code",
   "execution_count": 22,
   "metadata": {},
   "outputs": [
    {
     "data": {
      "text/plain": [
       "array([124.29623389, 115.38996487, 114.75228034, 111.44453449,\n",
       "       138.61983267, 125.04714793, 107.03354539, 111.41369348,\n",
       "       120.89065975, 108.08854948, 102.67817874, 123.63012354,\n",
       "       111.38496387, 121.67373898, 125.04714793,  99.79910625,\n",
       "       130.57758847, 127.72400825, 135.43545755, 134.94781865,\n",
       "       136.00576464, 127.91941803, 114.49130065, 115.44347783,\n",
       "       109.76481163, 138.00652999, 132.91930337, 138.41427176,\n",
       "       116.22461215, 117.21709881, 143.95172837, 127.15336147,\n",
       "       110.56410189, 147.99039173, 107.67693658, 129.65861494,\n",
       "       123.19904584, 105.00206614, 124.79671851, 131.70339959,\n",
       "       131.32856448, 113.98918526, 112.80907639, 134.3383439 ,\n",
       "       135.10107798, 158.96021487, 130.5361125 , 116.69213064,\n",
       "       134.17402453, 109.44885851, 112.51082829, 116.96606196,\n",
       "       123.34777481, 128.91499754, 131.51321262, 104.11758343,\n",
       "       128.48408514, 129.76520382, 106.17282177, 111.9441914 ,\n",
       "       109.69888641, 116.3080915 , 115.27008432, 118.23140243,\n",
       "       108.45322712, 110.82979969, 107.32508724, 144.07793654,\n",
       "       124.12596703, 103.94196219, 108.68267701, 125.07794243,\n",
       "       125.05443026, 108.62432591, 119.11653507, 141.3557938 ,\n",
       "       119.67418337, 100.45735662, 152.86811607, 114.56585106,\n",
       "       117.92192686, 120.71923866, 133.54641368, 124.56976012,\n",
       "       116.26654829, 112.1978947 , 120.56571428, 121.64617693,\n",
       "       165.52571527, 131.58919016, 161.26647727, 128.09624516,\n",
       "       135.71080218, 124.64144869, 130.11726928, 111.9441914 ,\n",
       "       116.16192428,  98.40802986, 120.22749088, 115.09640915,\n",
       "       105.19340452, 136.45996233, 131.70339959, 121.38879914,\n",
       "       126.55465329, 110.75050739, 130.02473873, 142.37459195,\n",
       "       106.38146603, 122.04006692, 119.73626001, 127.72579817,\n",
       "       117.64730264,  93.89765493, 120.39872159, 127.15336147,\n",
       "       103.22249708, 116.41379419, 143.9255517 , 124.79671851,\n",
       "       122.91783504, 109.99288979, 103.39766561, 128.03189273,\n",
       "       104.33997195, 106.91383141, 113.98705325, 111.40810339,\n",
       "       120.79800318, 126.22300099, 103.94196219, 111.41369348,\n",
       "       105.26089793, 149.84884802,  98.46750718, 104.11758343,\n",
       "       112.03998816, 122.62175303,  99.81120159, 105.32637058,\n",
       "       112.85163607, 122.62175303, 125.05873103, 101.67635761,\n",
       "       120.4909325 , 109.76481163, 113.82827504, 106.38146603,\n",
       "       119.53194971,  99.95402833, 119.50714058, 105.63569735,\n",
       "       141.97488134, 114.81993531, 124.54851251, 128.30016457,\n",
       "       144.59830239, 102.91375939, 108.30284456, 137.15526395,\n",
       "       124.51200524, 130.66981014, 117.56608889, 122.80214275,\n",
       "        97.81203831, 126.81808932, 119.64073374, 126.55465329,\n",
       "       125.0513386 , 109.67854191, 111.88335927, 111.85132637,\n",
       "       111.85248108, 122.88082023, 132.97775713, 111.85248108,\n",
       "       103.25023649, 108.66525346, 123.50250672, 113.91653242,\n",
       "       134.22596851, 130.57758847, 124.81884316, 115.87958616,\n",
       "       100.84629908, 179.48384701, 107.79533121, 125.28999186,\n",
       "       115.56105099, 135.09530105,  99.71848315, 118.06034359,\n",
       "       128.41286778, 128.43978203, 136.34457808, 108.39101255,\n",
       "       118.9255834 , 109.2551321 , 124.65507704, 116.43187727,\n",
       "       140.94112429, 165.5617207 , 126.81808932, 109.75073096,\n",
       "       100.45735662, 129.61180214, 129.08358554, 109.01752993,\n",
       "       131.97603557, 100.93116578, 122.15712787, 140.59919348,\n",
       "       115.68326891, 111.44453449, 159.40107535, 108.46025895,\n",
       "       156.58129938, 142.69770956, 107.52705418, 137.84025119,\n",
       "       121.30245058, 115.11254649, 134.13326385, 112.03998816,\n",
       "       116.10830451, 103.62371772, 103.60263656, 146.14970827,\n",
       "       137.46474703, 126.72897945, 116.01263011, 122.83577266,\n",
       "       118.32790039, 120.72840988, 103.03796313, 117.79887854,\n",
       "       116.63614203, 130.11726928, 103.03796313, 116.77947214,\n",
       "       124.54851251,  92.33869533, 136.461935  , 135.43545755,\n",
       "       116.26654829, 125.22791383, 153.61201608,  97.89339836,\n",
       "       112.06010515, 125.88056291, 118.94413476, 111.26735706,\n",
       "       133.46548573, 145.28671324, 100.28298226, 120.72263617,\n",
       "       110.66661032, 131.39101909, 111.87522844, 111.40810339,\n",
       "       122.27986946, 110.3874864 , 119.8512783 , 129.61180214,\n",
       "       115.80128219, 126.72897945, 125.75499558, 105.88981463,\n",
       "       113.57109733, 104.62441603, 144.41633427, 126.72897945,\n",
       "       135.10107798, 115.24134556, 154.214221  , 124.68624727,\n",
       "       129.03914004, 142.00543094, 142.475578  , 131.26121512,\n",
       "       109.78944774, 125.85473257, 107.32508724, 139.77037824,\n",
       "       154.214221  , 120.46158626, 131.58919016, 110.90183099,\n",
       "       125.25742957,  99.95402833, 125.22791383, 122.91783504,\n",
       "       102.6251364 , 114.37581203, 116.3080915 , 104.12859612,\n",
       "       124.54851251, 130.66981014, 127.46756201, 105.67172826,\n",
       "       122.15712787, 108.30284456, 110.09933726, 141.92254103,\n",
       "       131.06281661,  98.40802986, 114.81993531, 119.14701309,\n",
       "       117.04940792, 116.34405044, 151.39162857, 113.05891058,\n",
       "       124.51200524, 120.25885595, 116.17489696, 116.22461215,\n",
       "       159.09315967, 112.26831481, 150.34958507,  97.92530158,\n",
       "       115.27008432, 106.28265783, 165.52571527, 137.5300329 ,\n",
       "       106.54188744, 130.64258761, 127.46756201, 131.59466557,\n",
       "       113.91653242, 126.71243919,  99.81120159, 106.91383141,\n",
       "       120.75773665, 117.65858118, 130.5361125 , 128.11103051,\n",
       "       119.18261208, 124.81884316, 125.28999186, 132.52326508,\n",
       "       120.4909325 , 206.71346349, 115.79339168, 137.52761589,\n",
       "       116.4444966 , 114.96416264, 122.27986946, 115.80128219,\n",
       "       119.50714058, 120.7657312 , 154.09105228, 115.75768696,\n",
       "       131.51321262, 125.75499558, 127.89514284, 127.72579817,\n",
       "       133.79047561, 102.67817874, 120.39872159, 108.42193684,\n",
       "       120.75773665, 111.87522844, 114.6447074 , 136.72333595,\n",
       "       100.00641608, 111.52735744, 119.27129088, 131.39101909,\n",
       "       130.64098063,  99.28921401, 125.0513386 , 115.44347783,\n",
       "       113.94624721, 132.41174398, 102.1247243 , 111.9441914 ,\n",
       "       104.46600322, 141.40447943, 120.56571428, 114.35564693,\n",
       "       103.62371772, 110.56134953, 118.50436528, 143.56162317,\n",
       "       118.61559826, 118.15271236, 114.96416264, 122.53111441,\n",
       "       108.88792387, 117.56608889, 141.78169492, 102.49905583,\n",
       "       115.53812521, 128.94839549, 132.84929998, 126.45846975,\n",
       "       142.0238797 , 123.55429956, 165.5617207 , 108.80932551,\n",
       "       131.26121512, 137.15526395, 125.85473257, 121.04556678,\n",
       "       124.56976012, 117.82412331, 135.43545755, 112.67077627,\n",
       "       120.74588862, 113.79782907, 101.01126033, 118.46736639,\n",
       "       117.04940792, 141.40447943, 114.80311915, 116.43187727,\n",
       "       130.39124638, 115.09640915, 144.53054884, 112.18727162,\n",
       "       139.53572372, 111.85132637, 120.82984241, 128.48111771,\n",
       "       128.75281882, 123.19904584, 171.98516074, 119.01151776,\n",
       "       115.79350217, 106.8785478 , 134.85244342,  98.70385759,\n",
       "       132.40366198, 121.97641338, 130.66981014, 124.32946809,\n",
       "       119.80556173, 131.48562611, 116.63614203,  99.59185122,\n",
       "       112.54334822, 130.64098063, 106.56507165, 130.02473873,\n",
       "       160.04349317, 144.53054884, 109.99288979, 122.04006692,\n",
       "       117.85668082, 115.23598228, 123.12311078, 115.80128219,\n",
       "       108.55442941, 122.04006692, 125.03365696, 113.10114339,\n",
       "       112.87016716, 108.08854948, 123.18005697, 143.9255517 ,\n",
       "       108.62432591, 143.09995463, 117.03215451,  99.71848315,\n",
       "       123.5543126 , 106.5170323 , 110.2876637 , 111.6628084 ,\n",
       "       111.83561011, 114.25812889, 118.94618507, 111.02268904,\n",
       "       144.59830239, 128.119013  , 119.07930669, 104.33997195,\n",
       "       114.63915968, 128.97896087, 120.4916876 , 118.98743882,\n",
       "       123.43536793, 113.62957108, 128.43978203, 105.35194438,\n",
       "       134.85244342, 106.21439912, 110.3874864 , 128.48111771,\n",
       "       112.95712836, 121.30245058, 145.60981916, 122.62175303,\n",
       "       117.82412331, 127.75852244, 128.30016457,  98.60964365,\n",
       "       104.11758343, 107.65012742, 120.22749088, 134.85244342,\n",
       "       143.57700482, 115.79350217, 124.29623389, 110.75470877,\n",
       "       141.40447943, 123.60420195, 104.78538878, 120.39872159,\n",
       "       131.30546289, 115.21416857, 125.98115957, 126.91926037,\n",
       "       123.43536793, 150.34958507, 123.5543126 , 119.64423631,\n",
       "       119.07930669, 135.00156717, 114.25812889, 103.60263656,\n",
       "       139.77037824, 138.50841606, 121.17402851, 145.28671324,\n",
       "       161.26647727, 132.41174398, 128.19200874, 120.75773665,\n",
       "       126.98462126, 128.5114521 , 126.2987757 , 109.84489481,\n",
       "       132.91930337, 132.67541678, 116.82723158, 125.14449017,\n",
       "       127.89514284, 105.15387564, 105.00206614, 113.10114339,\n",
       "       127.91941803, 113.85039213, 117.67255095, 119.91887194,\n",
       "       101.10236518, 140.67634178, 105.76453712, 119.07930669,\n",
       "       128.09624516, 109.67854191, 101.78440031, 125.07794243,\n",
       "       103.41094531, 116.5056252 , 125.5989261 , 116.77947214,\n",
       "       127.69918257, 110.60610999, 108.99439208, 104.16044196,\n",
       "       109.01752993, 101.20540348, 109.67854191, 114.46351615,\n",
       "       117.02679248, 118.94413476, 125.8435258 , 125.30309254,\n",
       "       122.87628944, 124.29338353, 144.49654912, 115.79350217,\n",
       "       103.94196219, 111.70278899, 110.26575851, 114.56585106,\n",
       "       122.21551306, 125.75499558, 117.55946898, 126.97007273,\n",
       "       131.19351177, 138.61983267, 118.08756568, 133.0711023 ,\n",
       "       125.20132438, 141.78169492, 113.94624721, 139.53572372,\n",
       "       106.21439912, 106.56507165, 104.92951556, 104.33997195,\n",
       "       128.48408514, 141.51676712, 102.49905583, 116.89962579,\n",
       "       102.67817874, 118.28757156, 128.5114521 , 123.63012354,\n",
       "       113.05891058, 138.37489114, 133.85488011, 104.57186575,\n",
       "       141.78169492, 109.69888641, 116.16120586, 118.23140243,\n",
       "       103.86362527, 124.82123024, 116.96606196, 114.25812889,\n",
       "       111.83561011, 117.42474142, 105.88981463, 109.99288979,\n",
       "       137.84025119, 107.49424295, 106.54188744, 132.84929998,\n",
       "       112.61331642, 121.0181878 , 117.42474142, 131.97603557,\n",
       "       106.5170323 , 115.75768696, 131.68293425, 105.76453712,\n",
       "       134.94781865, 130.28505001, 120.39872159, 151.39162857,\n",
       "        97.92530158, 126.97007273,  98.46750718, 132.16559783,\n",
       "       110.26575851, 166.98748624, 122.83577266, 113.54684239,\n",
       "       108.78158055, 113.54684239, 133.46548573,  97.5875893 ,\n",
       "       137.87170978, 119.65910926, 119.12892367, 125.16485867,\n",
       "       170.92708277, 118.9255834 , 171.01329217, 124.24901495,\n",
       "       105.38899151, 126.98462126, 119.80556173, 130.11726928,\n",
       "       116.41379419, 100.84629908, 128.87671131, 115.87958616,\n",
       "       120.44628439, 142.37459195, 143.30218   , 132.28285093,\n",
       "       132.93338468, 112.8625784 , 126.22300099])"
      ]
     },
     "execution_count": 22,
     "metadata": {},
     "output_type": "execute_result"
    }
   ],
   "source": [
    "# Predicted Value\n",
    "y_pred"
   ]
  },
  {
   "cell_type": "code",
   "execution_count": 23,
   "metadata": {},
   "outputs": [
    {
     "data": {
      "text/plain": [
       "667"
      ]
     },
     "execution_count": 23,
     "metadata": {},
     "output_type": "execute_result"
    }
   ],
   "source": [
    "y_pred.size"
   ]
  },
  {
   "cell_type": "code",
   "execution_count": 24,
   "metadata": {},
   "outputs": [
    {
     "data": {
      "image/png": "[encoded data removed]",
      "text/plain": [
       "<Figure size 648x432 with 1 Axes>"
      ]
     },
     "metadata": {
      "needs_background": "light"
     },
     "output_type": "display_data"
    }
   ],
   "source": [
    "x_ax = np.linspace(0,200, num=667)\n",
    "s = 100\n",
    "\n",
    "plt.rcParams[\"figure.figsize\"] = (9, 6)\n",
    "plt.scatter(x_ax, y_test, s, color='cornflowerblue', label=f'Actual Value', marker='v')\n",
    "plt.scatter(x_ax, y_pred, s, color='lime', label=f'Predicted Value', marker='*')\n",
    "\n",
    "plt.title('Predicted Glucose Level vs Actual Glucose Level')\n",
    "plt.legend()\n",
    "plt.ylabel('Glucose Level')\n",
    "plt.show()\n",
    "\n",
    "# Add Density Plot"
   ]
  },
  {
   "cell_type": "code",
   "execution_count": 25,
   "metadata": {},
   "outputs": [],
   "source": [
    "from sklearn import metrics"
   ]
  },
  {
   "cell_type": "code",
   "execution_count": 26,
   "metadata": {},
   "outputs": [
    {
     "name": "stdout",
     "output_type": "stream",
     "text": [
      "19.74753048267067\n"
     ]
    }
   ],
   "source": [
    "# Mean Absolute Error\n",
    "print(metrics.mean_absolute_error(y_test, y_pred))"
   ]
  },
  {
   "cell_type": "code",
   "execution_count": 27,
   "metadata": {},
   "outputs": [
    {
     "name": "stdout",
     "output_type": "stream",
     "text": [
      "659.7705781724729\n"
     ]
    }
   ],
   "source": [
    "# Mean Squared Error\n",
    "print(metrics.mean_squared_error(y_test, y_pred))"
   ]
  },
  {
   "cell_type": "code",
   "execution_count": 28,
   "metadata": {},
   "outputs": [
    {
     "name": "stdout",
     "output_type": "stream",
     "text": [
      "25.68599965297191\n"
     ]
    }
   ],
   "source": [
    "# Square Root of Mean Squared Error\n",
    "print(np.sqrt(metrics.mean_squared_error(y_test, y_pred)))"
   ]
  },
  {
   "cell_type": "code",
   "execution_count": 29,
   "metadata": {},
   "outputs": [
    {
     "data": {
      "text/plain": [
       "0.26099925796354395"
      ]
     },
     "execution_count": 29,
     "metadata": {},
     "output_type": "execute_result"
    }
   ],
   "source": [
    "# R^2 Error\n",
    "from sklearn.metrics import r2_score\n",
    "r2_score(y_test, y_pred)"
   ]
  },
  {
   "cell_type": "code",
   "execution_count": null,
   "metadata": {},
   "outputs": [],
   "source": [
    "# Add data and metrics to table to compare all models"
   ]
  }
 ],
 "metadata": {
  "kernelspec": {
   "display_name": "Python 3 (ipykernel)",
   "language": "python",
   "name": "python3"
  },
  "language_info": {
   "codemirror_mode": {
    "name": "ipython",
    "version": 3
   },
   "file_extension": ".py",
   "mimetype": "text/x-python",
   "name": "python",
   "nbconvert_exporter": "python",
   "pygments_lexer": "ipython3",
   "version": "3.9.7"
  }
 },
 "nbformat": 4,
 "nbformat_minor": 1
}
