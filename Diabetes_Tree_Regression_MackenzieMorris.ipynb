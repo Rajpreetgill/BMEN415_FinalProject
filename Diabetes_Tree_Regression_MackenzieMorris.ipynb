{
 "cells": [
  {
   "cell_type": "markdown",
   "metadata": {},
   "source": [
    "\n",
    "# Decision Tree Regression\n"
   ]
  },
  {
   "cell_type": "code",
   "execution_count": 1,
   "metadata": {},
   "outputs": [],
   "source": [
    "# Import the necessary modules and libraries\n",
    "import numpy as np\n",
    "import pandas as pd\n",
    "import matplotlib.pyplot as plt"
   ]
  },
  {
   "cell_type": "markdown",
   "metadata": {},
   "source": [
    "\n",
    "## Data Preprocesing\n"
   ]
  },
  {
   "cell_type": "code",
   "execution_count": 2,
   "metadata": {},
   "outputs": [
    {
     "data": {
      "text/html": [
       "<div>\n",
       "<style scoped>\n",
       "    .dataframe tbody tr th:only-of-type {\n",
       "        vertical-align: middle;\n",
       "    }\n",
       "\n",
       "    .dataframe tbody tr th {\n",
       "        vertical-align: top;\n",
       "    }\n",
       "\n",
       "    .dataframe thead th {\n",
       "        text-align: right;\n",
       "    }\n",
       "</style>\n",
       "<table border=\"1\" class=\"dataframe\">\n",
       "  <thead>\n",
       "    <tr style=\"text-align: right;\">\n",
       "      <th></th>\n",
       "      <th>Pregnancies</th>\n",
       "      <th>Glucose</th>\n",
       "      <th>BloodPressure</th>\n",
       "      <th>SkinThickness</th>\n",
       "      <th>Insulin</th>\n",
       "      <th>BMI</th>\n",
       "      <th>DiabetesPedigreeFunction</th>\n",
       "      <th>Age</th>\n",
       "      <th>Outcome</th>\n",
       "    </tr>\n",
       "  </thead>\n",
       "  <tbody>\n",
       "    <tr>\n",
       "      <th>0</th>\n",
       "      <td>2</td>\n",
       "      <td>138</td>\n",
       "      <td>62</td>\n",
       "      <td>35</td>\n",
       "      <td>0</td>\n",
       "      <td>33.6</td>\n",
       "      <td>0.127</td>\n",
       "      <td>47</td>\n",
       "      <td>1</td>\n",
       "    </tr>\n",
       "    <tr>\n",
       "      <th>1</th>\n",
       "      <td>0</td>\n",
       "      <td>84</td>\n",
       "      <td>82</td>\n",
       "      <td>31</td>\n",
       "      <td>125</td>\n",
       "      <td>38.2</td>\n",
       "      <td>0.233</td>\n",
       "      <td>23</td>\n",
       "      <td>0</td>\n",
       "    </tr>\n",
       "    <tr>\n",
       "      <th>2</th>\n",
       "      <td>0</td>\n",
       "      <td>145</td>\n",
       "      <td>0</td>\n",
       "      <td>0</td>\n",
       "      <td>0</td>\n",
       "      <td>44.2</td>\n",
       "      <td>0.630</td>\n",
       "      <td>31</td>\n",
       "      <td>1</td>\n",
       "    </tr>\n",
       "    <tr>\n",
       "      <th>3</th>\n",
       "      <td>0</td>\n",
       "      <td>135</td>\n",
       "      <td>68</td>\n",
       "      <td>42</td>\n",
       "      <td>250</td>\n",
       "      <td>42.3</td>\n",
       "      <td>0.365</td>\n",
       "      <td>24</td>\n",
       "      <td>1</td>\n",
       "    </tr>\n",
       "    <tr>\n",
       "      <th>4</th>\n",
       "      <td>1</td>\n",
       "      <td>139</td>\n",
       "      <td>62</td>\n",
       "      <td>41</td>\n",
       "      <td>480</td>\n",
       "      <td>40.7</td>\n",
       "      <td>0.536</td>\n",
       "      <td>21</td>\n",
       "      <td>0</td>\n",
       "    </tr>\n",
       "    <tr>\n",
       "      <th>...</th>\n",
       "      <td>...</td>\n",
       "      <td>...</td>\n",
       "      <td>...</td>\n",
       "      <td>...</td>\n",
       "      <td>...</td>\n",
       "      <td>...</td>\n",
       "      <td>...</td>\n",
       "      <td>...</td>\n",
       "      <td>...</td>\n",
       "    </tr>\n",
       "    <tr>\n",
       "      <th>1995</th>\n",
       "      <td>2</td>\n",
       "      <td>75</td>\n",
       "      <td>64</td>\n",
       "      <td>24</td>\n",
       "      <td>55</td>\n",
       "      <td>29.7</td>\n",
       "      <td>0.370</td>\n",
       "      <td>33</td>\n",
       "      <td>0</td>\n",
       "    </tr>\n",
       "    <tr>\n",
       "      <th>1996</th>\n",
       "      <td>8</td>\n",
       "      <td>179</td>\n",
       "      <td>72</td>\n",
       "      <td>42</td>\n",
       "      <td>130</td>\n",
       "      <td>32.7</td>\n",
       "      <td>0.719</td>\n",
       "      <td>36</td>\n",
       "      <td>1</td>\n",
       "    </tr>\n",
       "    <tr>\n",
       "      <th>1997</th>\n",
       "      <td>6</td>\n",
       "      <td>85</td>\n",
       "      <td>78</td>\n",
       "      <td>0</td>\n",
       "      <td>0</td>\n",
       "      <td>31.2</td>\n",
       "      <td>0.382</td>\n",
       "      <td>42</td>\n",
       "      <td>0</td>\n",
       "    </tr>\n",
       "    <tr>\n",
       "      <th>1998</th>\n",
       "      <td>0</td>\n",
       "      <td>129</td>\n",
       "      <td>110</td>\n",
       "      <td>46</td>\n",
       "      <td>130</td>\n",
       "      <td>67.1</td>\n",
       "      <td>0.319</td>\n",
       "      <td>26</td>\n",
       "      <td>1</td>\n",
       "    </tr>\n",
       "    <tr>\n",
       "      <th>1999</th>\n",
       "      <td>2</td>\n",
       "      <td>81</td>\n",
       "      <td>72</td>\n",
       "      <td>15</td>\n",
       "      <td>76</td>\n",
       "      <td>30.1</td>\n",
       "      <td>0.547</td>\n",
       "      <td>25</td>\n",
       "      <td>0</td>\n",
       "    </tr>\n",
       "  </tbody>\n",
       "</table>\n",
       "<p>2000 rows × 9 columns</p>\n",
       "</div>"
      ],
      "text/plain": [
       "      Pregnancies  Glucose  BloodPressure  SkinThickness  Insulin   BMI  \\\n",
       "0               2      138             62             35        0  33.6   \n",
       "1               0       84             82             31      125  38.2   \n",
       "2               0      145              0              0        0  44.2   \n",
       "3               0      135             68             42      250  42.3   \n",
       "4               1      139             62             41      480  40.7   \n",
       "...           ...      ...            ...            ...      ...   ...   \n",
       "1995            2       75             64             24       55  29.7   \n",
       "1996            8      179             72             42      130  32.7   \n",
       "1997            6       85             78              0        0  31.2   \n",
       "1998            0      129            110             46      130  67.1   \n",
       "1999            2       81             72             15       76  30.1   \n",
       "\n",
       "      DiabetesPedigreeFunction  Age  Outcome  \n",
       "0                        0.127   47        1  \n",
       "1                        0.233   23        0  \n",
       "2                        0.630   31        1  \n",
       "3                        0.365   24        1  \n",
       "4                        0.536   21        0  \n",
       "...                        ...  ...      ...  \n",
       "1995                     0.370   33        0  \n",
       "1996                     0.719   36        1  \n",
       "1997                     0.382   42        0  \n",
       "1998                     0.319   26        1  \n",
       "1999                     0.547   25        0  \n",
       "\n",
       "[2000 rows x 9 columns]"
      ]
     },
     "execution_count": 2,
     "metadata": {},
     "output_type": "execute_result"
    }
   ],
   "source": [
    "diabetes_data = pd.read_csv('C:/Users/USER/Documents/Engineering/BMEN415/regression_data/diabetes-dataset.csv')\n",
    "diabetes_data"
   ]
  },
  {
   "cell_type": "code",
   "execution_count": 3,
   "metadata": {},
   "outputs": [
    {
     "data": {
      "text/plain": [
       "Pregnancies                  301\n",
       "Glucose                       13\n",
       "BloodPressure                 90\n",
       "SkinThickness                573\n",
       "Insulin                      956\n",
       "BMI                           28\n",
       "DiabetesPedigreeFunction       0\n",
       "Age                            0\n",
       "Outcome                     1316\n",
       "dtype: int64"
      ]
     },
     "execution_count": 3,
     "metadata": {},
     "output_type": "execute_result"
    }
   ],
   "source": [
    "diabetes_data[diabetes_data==0].count()"
   ]
  },
  {
   "cell_type": "code",
   "execution_count": 4,
   "metadata": {},
   "outputs": [],
   "source": [
    "# Change Insulin null (0) values to mean value\n",
    "diabetes_data.Insulin = diabetes_data.Insulin.replace(0, diabetes_data.Insulin.mean())"
   ]
  },
  {
   "cell_type": "code",
   "execution_count": 5,
   "metadata": {},
   "outputs": [],
   "source": [
    "# Change Skin Thickness null (0) values to mean value\n",
    "diabetes_data.SkinThickness = diabetes_data.SkinThickness.replace(0, diabetes_data.SkinThickness.mean())"
   ]
  },
  {
   "cell_type": "code",
   "execution_count": 6,
   "metadata": {},
   "outputs": [],
   "source": [
    "# Change Glucose null (0) values to mean value\n",
    "diabetes_data.Glucose = diabetes_data.Glucose.replace(0, diabetes_data.Glucose.mean())"
   ]
  },
  {
   "cell_type": "code",
   "execution_count": 7,
   "metadata": {},
   "outputs": [],
   "source": [
    "# Change Skin Blood Pressure (0) values to mean value\n",
    "diabetes_data.BloodPressure = diabetes_data.BloodPressure.replace(0, diabetes_data.BloodPressure.mean())"
   ]
  },
  {
   "cell_type": "code",
   "execution_count": 8,
   "metadata": {},
   "outputs": [],
   "source": [
    "# Change BMI null (0) values to mean value\n",
    "diabetes_data.BMI = diabetes_data.BMI.replace(0, diabetes_data.BMI.mean())"
   ]
  },
  {
   "cell_type": "code",
   "execution_count": 9,
   "metadata": {},
   "outputs": [
    {
     "data": {
      "text/plain": [
       "Pregnancies                  301\n",
       "Glucose                        0\n",
       "BloodPressure                  0\n",
       "SkinThickness                  0\n",
       "Insulin                        0\n",
       "BMI                            0\n",
       "DiabetesPedigreeFunction       0\n",
       "Age                            0\n",
       "Outcome                     1316\n",
       "dtype: int64"
      ]
     },
     "execution_count": 9,
     "metadata": {},
     "output_type": "execute_result"
    }
   ],
   "source": [
    "# Updated\n",
    "diabetes_data[diabetes_data==0].count()"
   ]
  },
  {
   "cell_type": "code",
   "execution_count": 10,
   "metadata": {},
   "outputs": [],
   "source": [
    "x = diabetes_data.iloc[:,[0,2,3,4,5,6,7]]\n",
    "y = diabetes_data.iloc[:,1:2].values"
   ]
  },
  {
   "cell_type": "code",
   "execution_count": 11,
   "metadata": {},
   "outputs": [
    {
     "data": {
      "text/html": [
       "<div>\n",
       "<style scoped>\n",
       "    .dataframe tbody tr th:only-of-type {\n",
       "        vertical-align: middle;\n",
       "    }\n",
       "\n",
       "    .dataframe tbody tr th {\n",
       "        vertical-align: top;\n",
       "    }\n",
       "\n",
       "    .dataframe thead th {\n",
       "        text-align: right;\n",
       "    }\n",
       "</style>\n",
       "<table border=\"1\" class=\"dataframe\">\n",
       "  <thead>\n",
       "    <tr style=\"text-align: right;\">\n",
       "      <th></th>\n",
       "      <th>Pregnancies</th>\n",
       "      <th>BloodPressure</th>\n",
       "      <th>SkinThickness</th>\n",
       "      <th>Insulin</th>\n",
       "      <th>BMI</th>\n",
       "      <th>DiabetesPedigreeFunction</th>\n",
       "      <th>Age</th>\n",
       "    </tr>\n",
       "  </thead>\n",
       "  <tbody>\n",
       "    <tr>\n",
       "      <th>0</th>\n",
       "      <td>2</td>\n",
       "      <td>62.0000</td>\n",
       "      <td>35.000</td>\n",
       "      <td>80.254</td>\n",
       "      <td>33.6</td>\n",
       "      <td>0.127</td>\n",
       "      <td>47</td>\n",
       "    </tr>\n",
       "    <tr>\n",
       "      <th>1</th>\n",
       "      <td>0</td>\n",
       "      <td>82.0000</td>\n",
       "      <td>31.000</td>\n",
       "      <td>125.000</td>\n",
       "      <td>38.2</td>\n",
       "      <td>0.233</td>\n",
       "      <td>23</td>\n",
       "    </tr>\n",
       "    <tr>\n",
       "      <th>2</th>\n",
       "      <td>0</td>\n",
       "      <td>69.1455</td>\n",
       "      <td>20.935</td>\n",
       "      <td>80.254</td>\n",
       "      <td>44.2</td>\n",
       "      <td>0.630</td>\n",
       "      <td>31</td>\n",
       "    </tr>\n",
       "    <tr>\n",
       "      <th>3</th>\n",
       "      <td>0</td>\n",
       "      <td>68.0000</td>\n",
       "      <td>42.000</td>\n",
       "      <td>250.000</td>\n",
       "      <td>42.3</td>\n",
       "      <td>0.365</td>\n",
       "      <td>24</td>\n",
       "    </tr>\n",
       "    <tr>\n",
       "      <th>4</th>\n",
       "      <td>1</td>\n",
       "      <td>62.0000</td>\n",
       "      <td>41.000</td>\n",
       "      <td>480.000</td>\n",
       "      <td>40.7</td>\n",
       "      <td>0.536</td>\n",
       "      <td>21</td>\n",
       "    </tr>\n",
       "    <tr>\n",
       "      <th>...</th>\n",
       "      <td>...</td>\n",
       "      <td>...</td>\n",
       "      <td>...</td>\n",
       "      <td>...</td>\n",
       "      <td>...</td>\n",
       "      <td>...</td>\n",
       "      <td>...</td>\n",
       "    </tr>\n",
       "    <tr>\n",
       "      <th>1995</th>\n",
       "      <td>2</td>\n",
       "      <td>64.0000</td>\n",
       "      <td>24.000</td>\n",
       "      <td>55.000</td>\n",
       "      <td>29.7</td>\n",
       "      <td>0.370</td>\n",
       "      <td>33</td>\n",
       "    </tr>\n",
       "    <tr>\n",
       "      <th>1996</th>\n",
       "      <td>8</td>\n",
       "      <td>72.0000</td>\n",
       "      <td>42.000</td>\n",
       "      <td>130.000</td>\n",
       "      <td>32.7</td>\n",
       "      <td>0.719</td>\n",
       "      <td>36</td>\n",
       "    </tr>\n",
       "    <tr>\n",
       "      <th>1997</th>\n",
       "      <td>6</td>\n",
       "      <td>78.0000</td>\n",
       "      <td>20.935</td>\n",
       "      <td>80.254</td>\n",
       "      <td>31.2</td>\n",
       "      <td>0.382</td>\n",
       "      <td>42</td>\n",
       "    </tr>\n",
       "    <tr>\n",
       "      <th>1998</th>\n",
       "      <td>0</td>\n",
       "      <td>110.0000</td>\n",
       "      <td>46.000</td>\n",
       "      <td>130.000</td>\n",
       "      <td>67.1</td>\n",
       "      <td>0.319</td>\n",
       "      <td>26</td>\n",
       "    </tr>\n",
       "    <tr>\n",
       "      <th>1999</th>\n",
       "      <td>2</td>\n",
       "      <td>72.0000</td>\n",
       "      <td>15.000</td>\n",
       "      <td>76.000</td>\n",
       "      <td>30.1</td>\n",
       "      <td>0.547</td>\n",
       "      <td>25</td>\n",
       "    </tr>\n",
       "  </tbody>\n",
       "</table>\n",
       "<p>2000 rows × 7 columns</p>\n",
       "</div>"
      ],
      "text/plain": [
       "      Pregnancies  BloodPressure  SkinThickness  Insulin   BMI  \\\n",
       "0               2        62.0000         35.000   80.254  33.6   \n",
       "1               0        82.0000         31.000  125.000  38.2   \n",
       "2               0        69.1455         20.935   80.254  44.2   \n",
       "3               0        68.0000         42.000  250.000  42.3   \n",
       "4               1        62.0000         41.000  480.000  40.7   \n",
       "...           ...            ...            ...      ...   ...   \n",
       "1995            2        64.0000         24.000   55.000  29.7   \n",
       "1996            8        72.0000         42.000  130.000  32.7   \n",
       "1997            6        78.0000         20.935   80.254  31.2   \n",
       "1998            0       110.0000         46.000  130.000  67.1   \n",
       "1999            2        72.0000         15.000   76.000  30.1   \n",
       "\n",
       "      DiabetesPedigreeFunction  Age  \n",
       "0                        0.127   47  \n",
       "1                        0.233   23  \n",
       "2                        0.630   31  \n",
       "3                        0.365   24  \n",
       "4                        0.536   21  \n",
       "...                        ...  ...  \n",
       "1995                     0.370   33  \n",
       "1996                     0.719   36  \n",
       "1997                     0.382   42  \n",
       "1998                     0.319   26  \n",
       "1999                     0.547   25  \n",
       "\n",
       "[2000 rows x 7 columns]"
      ]
     },
     "execution_count": 11,
     "metadata": {},
     "output_type": "execute_result"
    }
   ],
   "source": [
    "x # Predictors"
   ]
  },
  {
   "cell_type": "code",
   "execution_count": 12,
   "metadata": {},
   "outputs": [
    {
     "data": {
      "text/plain": [
       "array([[138.],\n",
       "       [ 84.],\n",
       "       [145.],\n",
       "       ...,\n",
       "       [ 85.],\n",
       "       [129.],\n",
       "       [ 81.]])"
      ]
     },
     "execution_count": 12,
     "metadata": {},
     "output_type": "execute_result"
    }
   ],
   "source": [
    "y # Outcome - Glucose Levels"
   ]
  },
  {
   "cell_type": "code",
   "execution_count": 13,
   "metadata": {},
   "outputs": [
    {
     "name": "stdout",
     "output_type": "stream",
     "text": [
      "<class 'pandas.core.frame.DataFrame'>\n",
      "RangeIndex: 2000 entries, 0 to 1999\n",
      "Data columns (total 9 columns):\n",
      " #   Column                    Non-Null Count  Dtype  \n",
      "---  ------                    --------------  -----  \n",
      " 0   Pregnancies               2000 non-null   int64  \n",
      " 1   Glucose                   2000 non-null   float64\n",
      " 2   BloodPressure             2000 non-null   float64\n",
      " 3   SkinThickness             2000 non-null   float64\n",
      " 4   Insulin                   2000 non-null   float64\n",
      " 5   BMI                       2000 non-null   float64\n",
      " 6   DiabetesPedigreeFunction  2000 non-null   float64\n",
      " 7   Age                       2000 non-null   int64  \n",
      " 8   Outcome                   2000 non-null   int64  \n",
      "dtypes: float64(6), int64(3)\n",
      "memory usage: 140.8 KB\n"
     ]
    }
   ],
   "source": [
    "diabetes_data.info() # summary of data and data types"
   ]
  },
  {
   "cell_type": "code",
   "execution_count": 14,
   "metadata": {},
   "outputs": [
    {
     "data": {
      "text/html": [
       "<div>\n",
       "<style scoped>\n",
       "    .dataframe tbody tr th:only-of-type {\n",
       "        vertical-align: middle;\n",
       "    }\n",
       "\n",
       "    .dataframe tbody tr th {\n",
       "        vertical-align: top;\n",
       "    }\n",
       "\n",
       "    .dataframe thead th {\n",
       "        text-align: right;\n",
       "    }\n",
       "</style>\n",
       "<table border=\"1\" class=\"dataframe\">\n",
       "  <thead>\n",
       "    <tr style=\"text-align: right;\">\n",
       "      <th></th>\n",
       "      <th>Pregnancies</th>\n",
       "      <th>Glucose</th>\n",
       "      <th>BloodPressure</th>\n",
       "      <th>SkinThickness</th>\n",
       "      <th>Insulin</th>\n",
       "      <th>BMI</th>\n",
       "      <th>DiabetesPedigreeFunction</th>\n",
       "      <th>Age</th>\n",
       "      <th>Outcome</th>\n",
       "    </tr>\n",
       "  </thead>\n",
       "  <tbody>\n",
       "    <tr>\n",
       "      <th>count</th>\n",
       "      <td>2000.000000</td>\n",
       "      <td>2000.000000</td>\n",
       "      <td>2000.000000</td>\n",
       "      <td>2000.000000</td>\n",
       "      <td>2000.000000</td>\n",
       "      <td>2000.000000</td>\n",
       "      <td>2000.000000</td>\n",
       "      <td>2000.000000</td>\n",
       "      <td>2000.000000</td>\n",
       "    </tr>\n",
       "    <tr>\n",
       "      <th>mean</th>\n",
       "      <td>3.703500</td>\n",
       "      <td>121.970186</td>\n",
       "      <td>72.257047</td>\n",
       "      <td>26.932877</td>\n",
       "      <td>118.615412</td>\n",
       "      <td>32.643702</td>\n",
       "      <td>0.470930</td>\n",
       "      <td>33.090500</td>\n",
       "      <td>0.342000</td>\n",
       "    </tr>\n",
       "    <tr>\n",
       "      <th>std</th>\n",
       "      <td>3.306063</td>\n",
       "      <td>30.533180</td>\n",
       "      <td>11.968614</td>\n",
       "      <td>9.884003</td>\n",
       "      <td>88.366170</td>\n",
       "      <td>7.190337</td>\n",
       "      <td>0.323553</td>\n",
       "      <td>11.786423</td>\n",
       "      <td>0.474498</td>\n",
       "    </tr>\n",
       "    <tr>\n",
       "      <th>min</th>\n",
       "      <td>0.000000</td>\n",
       "      <td>44.000000</td>\n",
       "      <td>24.000000</td>\n",
       "      <td>7.000000</td>\n",
       "      <td>14.000000</td>\n",
       "      <td>18.200000</td>\n",
       "      <td>0.078000</td>\n",
       "      <td>21.000000</td>\n",
       "      <td>0.000000</td>\n",
       "    </tr>\n",
       "    <tr>\n",
       "      <th>25%</th>\n",
       "      <td>1.000000</td>\n",
       "      <td>99.000000</td>\n",
       "      <td>64.000000</td>\n",
       "      <td>20.935000</td>\n",
       "      <td>80.254000</td>\n",
       "      <td>27.600000</td>\n",
       "      <td>0.244000</td>\n",
       "      <td>24.000000</td>\n",
       "      <td>0.000000</td>\n",
       "    </tr>\n",
       "    <tr>\n",
       "      <th>50%</th>\n",
       "      <td>3.000000</td>\n",
       "      <td>118.000000</td>\n",
       "      <td>72.000000</td>\n",
       "      <td>23.000000</td>\n",
       "      <td>80.254000</td>\n",
       "      <td>32.300000</td>\n",
       "      <td>0.376000</td>\n",
       "      <td>29.000000</td>\n",
       "      <td>0.000000</td>\n",
       "    </tr>\n",
       "    <tr>\n",
       "      <th>75%</th>\n",
       "      <td>6.000000</td>\n",
       "      <td>141.000000</td>\n",
       "      <td>80.000000</td>\n",
       "      <td>32.000000</td>\n",
       "      <td>130.000000</td>\n",
       "      <td>36.800000</td>\n",
       "      <td>0.624000</td>\n",
       "      <td>40.000000</td>\n",
       "      <td>1.000000</td>\n",
       "    </tr>\n",
       "    <tr>\n",
       "      <th>max</th>\n",
       "      <td>17.000000</td>\n",
       "      <td>199.000000</td>\n",
       "      <td>122.000000</td>\n",
       "      <td>110.000000</td>\n",
       "      <td>744.000000</td>\n",
       "      <td>80.600000</td>\n",
       "      <td>2.420000</td>\n",
       "      <td>81.000000</td>\n",
       "      <td>1.000000</td>\n",
       "    </tr>\n",
       "  </tbody>\n",
       "</table>\n",
       "</div>"
      ],
      "text/plain": [
       "       Pregnancies      Glucose  BloodPressure  SkinThickness      Insulin  \\\n",
       "count  2000.000000  2000.000000    2000.000000    2000.000000  2000.000000   \n",
       "mean      3.703500   121.970186      72.257047      26.932877   118.615412   \n",
       "std       3.306063    30.533180      11.968614       9.884003    88.366170   \n",
       "min       0.000000    44.000000      24.000000       7.000000    14.000000   \n",
       "25%       1.000000    99.000000      64.000000      20.935000    80.254000   \n",
       "50%       3.000000   118.000000      72.000000      23.000000    80.254000   \n",
       "75%       6.000000   141.000000      80.000000      32.000000   130.000000   \n",
       "max      17.000000   199.000000     122.000000     110.000000   744.000000   \n",
       "\n",
       "               BMI  DiabetesPedigreeFunction          Age      Outcome  \n",
       "count  2000.000000               2000.000000  2000.000000  2000.000000  \n",
       "mean     32.643702                  0.470930    33.090500     0.342000  \n",
       "std       7.190337                  0.323553    11.786423     0.474498  \n",
       "min      18.200000                  0.078000    21.000000     0.000000  \n",
       "25%      27.600000                  0.244000    24.000000     0.000000  \n",
       "50%      32.300000                  0.376000    29.000000     0.000000  \n",
       "75%      36.800000                  0.624000    40.000000     1.000000  \n",
       "max      80.600000                  2.420000    81.000000     1.000000  "
      ]
     },
     "execution_count": 14,
     "metadata": {},
     "output_type": "execute_result"
    }
   ],
   "source": [
    "diabetes_data.describe() # description of the data"
   ]
  },
  {
   "cell_type": "code",
   "execution_count": 15,
   "metadata": {
    "scrolled": true
   },
   "outputs": [
    {
     "data": {
      "text/html": [
       "<div>\n",
       "<style scoped>\n",
       "    .dataframe tbody tr th:only-of-type {\n",
       "        vertical-align: middle;\n",
       "    }\n",
       "\n",
       "    .dataframe tbody tr th {\n",
       "        vertical-align: top;\n",
       "    }\n",
       "\n",
       "    .dataframe thead th {\n",
       "        text-align: right;\n",
       "    }\n",
       "</style>\n",
       "<table border=\"1\" class=\"dataframe\">\n",
       "  <thead>\n",
       "    <tr style=\"text-align: right;\">\n",
       "      <th></th>\n",
       "      <th>Pregnancies</th>\n",
       "      <th>Glucose</th>\n",
       "      <th>BloodPressure</th>\n",
       "      <th>SkinThickness</th>\n",
       "      <th>Insulin</th>\n",
       "      <th>BMI</th>\n",
       "      <th>DiabetesPedigreeFunction</th>\n",
       "      <th>Age</th>\n",
       "      <th>Outcome</th>\n",
       "    </tr>\n",
       "  </thead>\n",
       "  <tbody>\n",
       "    <tr>\n",
       "      <th>Pregnancies</th>\n",
       "      <td>1.000000</td>\n",
       "      <td>0.121569</td>\n",
       "      <td>0.199471</td>\n",
       "      <td>0.028116</td>\n",
       "      <td>-0.020319</td>\n",
       "      <td>0.011439</td>\n",
       "      <td>-0.025453</td>\n",
       "      <td>0.539457</td>\n",
       "      <td>0.224437</td>\n",
       "    </tr>\n",
       "    <tr>\n",
       "      <th>Glucose</th>\n",
       "      <td>0.121569</td>\n",
       "      <td>1.000000</td>\n",
       "      <td>0.200509</td>\n",
       "      <td>0.175337</td>\n",
       "      <td>0.384706</td>\n",
       "      <td>0.233228</td>\n",
       "      <td>0.124176</td>\n",
       "      <td>0.259853</td>\n",
       "      <td>0.487977</td>\n",
       "    </tr>\n",
       "    <tr>\n",
       "      <th>BloodPressure</th>\n",
       "      <td>0.199471</td>\n",
       "      <td>0.200509</td>\n",
       "      <td>1.000000</td>\n",
       "      <td>0.154736</td>\n",
       "      <td>0.012714</td>\n",
       "      <td>0.259445</td>\n",
       "      <td>0.015216</td>\n",
       "      <td>0.325490</td>\n",
       "      <td>0.171844</td>\n",
       "    </tr>\n",
       "    <tr>\n",
       "      <th>SkinThickness</th>\n",
       "      <td>0.028116</td>\n",
       "      <td>0.175337</td>\n",
       "      <td>0.154736</td>\n",
       "      <td>1.000000</td>\n",
       "      <td>0.257060</td>\n",
       "      <td>0.520245</td>\n",
       "      <td>0.143700</td>\n",
       "      <td>0.035946</td>\n",
       "      <td>0.170856</td>\n",
       "    </tr>\n",
       "    <tr>\n",
       "      <th>Insulin</th>\n",
       "      <td>-0.020319</td>\n",
       "      <td>0.384706</td>\n",
       "      <td>0.012714</td>\n",
       "      <td>0.257060</td>\n",
       "      <td>1.000000</td>\n",
       "      <td>0.217047</td>\n",
       "      <td>0.161557</td>\n",
       "      <td>-0.009007</td>\n",
       "      <td>0.171339</td>\n",
       "    </tr>\n",
       "    <tr>\n",
       "      <th>BMI</th>\n",
       "      <td>0.011439</td>\n",
       "      <td>0.233228</td>\n",
       "      <td>0.259445</td>\n",
       "      <td>0.520245</td>\n",
       "      <td>0.217047</td>\n",
       "      <td>1.000000</td>\n",
       "      <td>0.142019</td>\n",
       "      <td>0.018815</td>\n",
       "      <td>0.282615</td>\n",
       "    </tr>\n",
       "    <tr>\n",
       "      <th>DiabetesPedigreeFunction</th>\n",
       "      <td>-0.025453</td>\n",
       "      <td>0.124176</td>\n",
       "      <td>0.015216</td>\n",
       "      <td>0.143700</td>\n",
       "      <td>0.161557</td>\n",
       "      <td>0.142019</td>\n",
       "      <td>1.000000</td>\n",
       "      <td>0.026569</td>\n",
       "      <td>0.155459</td>\n",
       "    </tr>\n",
       "    <tr>\n",
       "      <th>Age</th>\n",
       "      <td>0.539457</td>\n",
       "      <td>0.259853</td>\n",
       "      <td>0.325490</td>\n",
       "      <td>0.035946</td>\n",
       "      <td>-0.009007</td>\n",
       "      <td>0.018815</td>\n",
       "      <td>0.026569</td>\n",
       "      <td>1.000000</td>\n",
       "      <td>0.236509</td>\n",
       "    </tr>\n",
       "    <tr>\n",
       "      <th>Outcome</th>\n",
       "      <td>0.224437</td>\n",
       "      <td>0.487977</td>\n",
       "      <td>0.171844</td>\n",
       "      <td>0.170856</td>\n",
       "      <td>0.171339</td>\n",
       "      <td>0.282615</td>\n",
       "      <td>0.155459</td>\n",
       "      <td>0.236509</td>\n",
       "      <td>1.000000</td>\n",
       "    </tr>\n",
       "  </tbody>\n",
       "</table>\n",
       "</div>"
      ],
      "text/plain": [
       "                          Pregnancies   Glucose  BloodPressure  SkinThickness  \\\n",
       "Pregnancies                  1.000000  0.121569       0.199471       0.028116   \n",
       "Glucose                      0.121569  1.000000       0.200509       0.175337   \n",
       "BloodPressure                0.199471  0.200509       1.000000       0.154736   \n",
       "SkinThickness                0.028116  0.175337       0.154736       1.000000   \n",
       "Insulin                     -0.020319  0.384706       0.012714       0.257060   \n",
       "BMI                          0.011439  0.233228       0.259445       0.520245   \n",
       "DiabetesPedigreeFunction    -0.025453  0.124176       0.015216       0.143700   \n",
       "Age                          0.539457  0.259853       0.325490       0.035946   \n",
       "Outcome                      0.224437  0.487977       0.171844       0.170856   \n",
       "\n",
       "                           Insulin       BMI  DiabetesPedigreeFunction  \\\n",
       "Pregnancies              -0.020319  0.011439                 -0.025453   \n",
       "Glucose                   0.384706  0.233228                  0.124176   \n",
       "BloodPressure             0.012714  0.259445                  0.015216   \n",
       "SkinThickness             0.257060  0.520245                  0.143700   \n",
       "Insulin                   1.000000  0.217047                  0.161557   \n",
       "BMI                       0.217047  1.000000                  0.142019   \n",
       "DiabetesPedigreeFunction  0.161557  0.142019                  1.000000   \n",
       "Age                      -0.009007  0.018815                  0.026569   \n",
       "Outcome                   0.171339  0.282615                  0.155459   \n",
       "\n",
       "                               Age   Outcome  \n",
       "Pregnancies               0.539457  0.224437  \n",
       "Glucose                   0.259853  0.487977  \n",
       "BloodPressure             0.325490  0.171844  \n",
       "SkinThickness             0.035946  0.170856  \n",
       "Insulin                  -0.009007  0.171339  \n",
       "BMI                       0.018815  0.282615  \n",
       "DiabetesPedigreeFunction  0.026569  0.155459  \n",
       "Age                       1.000000  0.236509  \n",
       "Outcome                   0.236509  1.000000  "
      ]
     },
     "execution_count": 15,
     "metadata": {},
     "output_type": "execute_result"
    }
   ],
   "source": [
    "diabetes_data.corr() # correlation of the data"
   ]
  },
  {
   "cell_type": "code",
   "execution_count": 16,
   "metadata": {},
   "outputs": [
    {
     "data": {
      "image/png": "[encoded data removed]",
      "text/plain": [
       "<Figure size 1368x1080 with 2 Axes>"
      ]
     },
     "metadata": {
      "needs_background": "light"
     },
     "output_type": "display_data"
    }
   ],
   "source": [
    "# Correlation Matrix of Predictors\n",
    "correlation = plt.figure(figsize=(19, 15))\n",
    "plt.matshow(x.corr(), fignum=correlation.number)\n",
    "plt.xticks(range(x.select_dtypes(['number']).shape[1]), x.select_dtypes(['number']).columns, fontsize=14, rotation=45)\n",
    "plt.yticks(range(x.select_dtypes(['number']).shape[1]), x.select_dtypes(['number']).columns, fontsize=14)\n",
    "cb = plt.colorbar()\n",
    "cb.ax.tick_params(labelsize=14)\n",
    "plt.title('Correlation Matrix of Predictors', fontsize=16);"
   ]
  },
  {
   "cell_type": "code",
   "execution_count": 17,
   "metadata": {},
   "outputs": [
    {
     "data": {
      "image/png": "[encoded data removed]",
      "text/plain": [
       "<Figure size 864x720 with 9 Axes>"
      ]
     },
     "metadata": {
      "needs_background": "light"
     },
     "output_type": "display_data"
    }
   ],
   "source": [
    "fig, axes = plt.subplots(nrows=3, ncols=3, figsize=(12, 10))\n",
    "\n",
    "x.plot(kind=\"hist\", y=\"Pregnancies\", bins = 17, color=\"blueviolet\", ax=axes[0][0])\n",
    "x.plot(kind=\"hist\", y=\"BloodPressure\", bins = 120, color=\"lightpink\", ax=axes[0][1])\n",
    "x.plot(kind=\"hist\", y=\"SkinThickness\", bins=50, color=\"aquamarine\", ax=axes[0][2])\n",
    "x.plot(kind=\"hist\", y=\"Insulin\", bins=100, color=\"yellow\", ax=axes[1][0])\n",
    "x.plot(kind=\"hist\", y=\"BMI\", bins=50, color=\"royalblue\", ax=axes[1][1])\n",
    "x.plot(kind=\"hist\", y=\"DiabetesPedigreeFunction\", bins=50, color=\"palegreen\", ax=axes[1][2])\n",
    "x.plot(kind=\"hist\", y=\"Age\", bins=20, color=\"orangered\", ax=axes[2][0])\n",
    "plt.show()"
   ]
  },
  {
   "cell_type": "markdown",
   "metadata": {},
   "source": [
    "\n",
    "## Training the Data\n"
   ]
  },
  {
   "cell_type": "code",
   "execution_count": 18,
   "metadata": {},
   "outputs": [],
   "source": [
    "from sklearn.model_selection import train_test_split\n",
    "x_train, x_test, y_train, y_test = train_test_split(x,y,test_size=1/3,random_state=0) \n",
    "# splits data, 1/3 of data for testing, 2/3 of data for training"
   ]
  },
  {
   "cell_type": "code",
   "execution_count": 19,
   "metadata": {},
   "outputs": [
    {
     "data": {
      "text/plain": [
       "DecisionTreeRegressor()"
      ]
     },
     "execution_count": 19,
     "metadata": {},
     "output_type": "execute_result"
    }
   ],
   "source": [
    "from sklearn.tree import DecisionTreeRegressor\n",
    "\n",
    "regressor = DecisionTreeRegressor()\n",
    "regressor.fit(x_train, y_train)"
   ]
  },
  {
   "cell_type": "markdown",
   "metadata": {},
   "source": [
    "\n",
    "## Testing the Model\n"
   ]
  },
  {
   "cell_type": "code",
   "execution_count": 20,
   "metadata": {},
   "outputs": [],
   "source": [
    "# Predict glucose from test data\n",
    "y_pred = regressor.predict(x_test)"
   ]
  },
  {
   "cell_type": "code",
   "execution_count": 21,
   "metadata": {},
   "outputs": [
    {
     "data": {
      "text/plain": [
       "array([123.    , 106.    , 195.    , 120.    , 145.    , 114.    ,\n",
       "       114.    , 102.    , 138.    , 117.    , 111.    , 145.    ,\n",
       "       111.    , 123.    , 114.    , 121.1825,  91.    , 120.    ,\n",
       "       135.    , 187.    , 137.    , 128.    , 105.    ,  95.    ,\n",
       "        92.    , 148.    , 132.    , 158.    , 139.    , 171.    ,\n",
       "       122.    , 136.    ,  78.    , 167.    ,  96.    , 181.    ,\n",
       "       191.    ,  99.    ,  89.    , 114.    , 120.    , 110.    ,\n",
       "       155.    , 154.    , 133.    , 129.    , 158.    , 108.    ,\n",
       "       168.    , 121.    ,  83.    , 111.    ,  62.    , 197.    ,\n",
       "       101.    ,  93.    , 137.    , 127.    ,  99.    ,  81.    ,\n",
       "        84.    ,  88.    , 117.    , 151.    ,  71.    , 112.    ,\n",
       "       104.    , 101.    , 180.    ,  88.    , 106.    , 112.    ,\n",
       "        81.    , 106.    , 106.    , 146.    , 125.    ,  79.    ,\n",
       "       123.    , 117.    , 120.    , 144.    , 100.    , 164.    ,\n",
       "       106.    ,  95.    , 103.    , 191.    , 173.    , 115.    ,\n",
       "       186.    ,  95.    , 147.    , 108.    , 195.    ,  81.    ,\n",
       "        96.    ,  80.    , 126.    , 183.    ,  88.    , 146.    ,\n",
       "       114.    , 144.    , 125.    ,  94.    ,  68.    , 147.    ,\n",
       "        97.    , 197.    , 116.    , 174.    , 130.    ,  68.    ,\n",
       "       106.    , 136.    , 151.    ,  90.    , 144.    ,  89.    ,\n",
       "       166.    ,  99.    , 125.    , 102.    , 125.    , 120.    ,\n",
       "        99.    , 128.    , 120.    ,  94.    ,  88.    , 102.    ,\n",
       "        91.    , 151.    ,  74.    ,  93.    ,  91.    , 105.    ,\n",
       "        88.    ,  90.    , 107.    , 105.    , 128.    , 111.    ,\n",
       "       133.    ,  92.    , 182.    ,  97.    , 169.    , 139.    ,\n",
       "       108.    , 112.    , 145.    , 116.    , 150.    , 134.    ,\n",
       "       129.    ,  99.    ,  96.    , 163.    ,  89.    ,  89.    ,\n",
       "       115.    ,  85.    ,  71.    , 140.    , 109.    , 125.    ,\n",
       "       122.    ,  74.    , 128.    ,  90.    , 113.    , 128.    ,\n",
       "       165.    , 113.    , 130.    , 121.1825, 118.    , 134.    ,\n",
       "       142.    ,  91.    ,  84.    , 167.    , 101.    , 181.    ,\n",
       "        93.    , 144.    , 117.    , 126.    , 121.    ,  95.    ,\n",
       "       189.    , 138.    ,  95.    , 111.    , 151.    , 125.    ,\n",
       "       125.    , 137.    , 198.    , 155.    , 140.    , 134.    ,\n",
       "        79.    , 129.    , 129.    ,  81.    , 119.    ,  99.    ,\n",
       "        57.    , 153.    ,  80.    , 120.    , 177.    ,  98.    ,\n",
       "       124.    , 155.    ,  73.    , 127.    , 136.    , 115.    ,\n",
       "        95.    ,  91.    ,  91.    , 143.    ,  96.    , 158.    ,\n",
       "       134.    , 152.    , 106.    , 129.    ,  83.    , 131.    ,\n",
       "        94.    , 107.    , 111.    , 195.    ,  94.    , 105.    ,\n",
       "       150.    ,  89.    ,  90.    , 135.    , 106.    , 106.    ,\n",
       "       148.    , 119.    , 102.    , 179.    , 102.    , 132.    ,\n",
       "        98.    , 181.    , 101.    , 133.    , 146.    ,  93.    ,\n",
       "        76.    , 128.    , 104.    , 110.    , 139.    , 129.    ,\n",
       "        88.    , 152.    , 137.    , 100.    ,  99.    ,  99.    ,\n",
       "       143.    , 152.    , 133.    , 111.    , 154.    , 164.    ,\n",
       "       100.    , 142.    , 151.    ,  75.    , 139.    , 102.    ,\n",
       "       104.    , 156.    , 154.    , 140.    , 115.    ,  93.    ,\n",
       "       184.    , 139.    , 106.    , 166.    ,  93.    , 108.    ,\n",
       "        88.    , 119.    , 150.    ,  89.    , 135.    ,  87.    ,\n",
       "        57.    ,  96.    , 111.    ,  91.    , 140.    ,  80.    ,\n",
       "       116.    , 125.    , 117.    ,  90.    , 103.    , 102.    ,\n",
       "        89.    , 118.    , 100.    , 139.    , 196.    , 193.    ,\n",
       "       143.    ,  92.    , 117.    ,  94.    , 173.    , 146.    ,\n",
       "       107.    , 154.    , 135.    , 133.    , 134.    ,  81.    ,\n",
       "        88.    , 120.    , 137.    ,  82.    , 158.    , 114.    ,\n",
       "       152.    ,  84.    , 144.    , 154.    , 133.    , 197.    ,\n",
       "       106.    , 165.    , 157.    , 126.    , 104.    ,  88.    ,\n",
       "       108.    , 102.    , 150.    , 173.    , 101.    , 137.    ,\n",
       "       136.    , 174.    , 132.    , 111.    , 106.    ,  89.    ,\n",
       "       137.    ,  76.    , 121.    , 123.    ,  97.    , 129.    ,\n",
       "        83.    ,  93.    , 128.    ,  96.    , 122.    ,  95.    ,\n",
       "       124.    , 173.    , 107.    ,  81.    ,  71.    , 184.    ,\n",
       "       103.    , 107.    , 143.    , 100.    , 103.    , 120.    ,\n",
       "        96.    , 109.    , 126.    ,  94.    ,  96.    , 115.    ,\n",
       "       100.    ,  99.    ,  90.    , 130.    ,  67.    ,  97.    ,\n",
       "       189.    , 149.    , 155.    ,  99.    ,  75.    , 163.    ,\n",
       "       102.    , 115.    , 164.    ,  81.    , 135.    , 129.    ,\n",
       "        89.    , 100.    , 111.    , 162.    , 117.    , 184.    ,\n",
       "       133.    , 137.    , 170.    , 183.    , 100.    , 119.    ,\n",
       "       196.    ,  90.    , 173.    , 112.    , 178.    , 191.    ,\n",
       "       173.    , 121.    ,  95.    ,  95.    , 194.    , 108.    ,\n",
       "       112.    , 115.    ,  89.    , 105.    , 100.    , 112.    ,\n",
       "       111.    , 101.    ,  95.    , 128.    ,  82.    ,  68.    ,\n",
       "       139.    , 100.    ,  99.    , 197.    ,  90.    , 122.    ,\n",
       "       112.    ,  88.    ,  86.    , 197.    , 154.    , 110.    ,\n",
       "       163.    , 117.    , 112.    , 144.    , 106.    , 146.    ,\n",
       "       123.    , 121.    , 129.    ,  91.    , 130.    , 114.    ,\n",
       "        87.    ,  88.    , 168.    , 132.    , 129.    , 165.    ,\n",
       "       138.    , 125.    , 136.    , 129.    , 124.    , 141.    ,\n",
       "       134.    , 123.    , 138.    , 109.    , 194.    ,  92.    ,\n",
       "       110.    , 112.    ,  95.    , 136.    , 129.    , 105.    ,\n",
       "        81.    , 112.    , 134.    ,  74.    ,  93.    , 114.    ,\n",
       "       126.    , 194.    , 176.    ,  95.    , 123.    , 107.    ,\n",
       "       184.    , 105.    ,  99.    , 106.    ,  67.    ,  77.    ,\n",
       "       156.    , 188.    , 134.    , 143.    , 129.    , 179.    ,\n",
       "       138.    , 101.    ,  88.    ,  96.    , 156.    , 144.    ,\n",
       "       108.    , 181.    , 186.    , 173.    , 129.    , 137.    ,\n",
       "       101.    , 123.    , 156.    , 124.    , 132.    , 188.    ,\n",
       "       159.    , 154.    , 136.    ,  83.    ,  99.    , 110.    ,\n",
       "       128.    , 141.    , 105.    , 138.    , 105.    , 190.    ,\n",
       "        73.    , 138.    ,  95.    ,  74.    ,  99.    , 112.    ,\n",
       "        88.    , 121.    , 163.    , 105.    , 116.    ,  77.    ,\n",
       "       109.    , 108.    ,  81.    , 105.    ,  74.    , 112.    ,\n",
       "       120.    , 102.    , 173.    , 147.    ,  96.    , 180.    ,\n",
       "       105.    ,  95.    ,  88.    ,  91.    ,  75.    , 117.    ,\n",
       "       107.    , 137.    , 141.    , 135.    , 146.    , 145.    ,\n",
       "       106.    , 129.    , 103.    , 100.    , 124.    , 196.    ,\n",
       "        92.    ,  82.    , 111.    , 125.    , 137.    , 165.    ,\n",
       "        99.    , 118.    , 111.    , 112.    , 123.    , 145.    ,\n",
       "       102.    , 138.    , 105.    ,  85.    , 100.    ,  84.    ,\n",
       "       108.    , 151.    ,  95.    , 121.    , 111.    ,  88.    ,\n",
       "        87.    ,  92.    , 100.    ,  99.    , 127.    ,  92.    ,\n",
       "       107.    ,  67.    , 128.    , 122.    ,  92.    , 119.    ,\n",
       "        91.    , 173.    , 166.    ,  73.    , 187.    , 105.    ,\n",
       "       106.    , 103.    ,  92.    , 135.    ,  74.    , 136.    ,\n",
       "        75.    , 134.    , 129.    , 126.    ,  80.    , 126.    ,\n",
       "        98.    ,  56.    , 111.    , 167.    ,  90.    ,  92.    ,\n",
       "       181.    , 151.    , 142.    ,  88.    , 100.    , 101.    ,\n",
       "       100.    , 195.    ,  90.    , 101.    , 106.    , 167.    ,\n",
       "       151.    , 147.    , 131.    , 145.    , 184.    , 141.    ,\n",
       "        94.    ])"
      ]
     },
     "execution_count": 21,
     "metadata": {},
     "output_type": "execute_result"
    }
   ],
   "source": [
    "# Predicted Value\n",
    "y_pred"
   ]
  },
  {
   "cell_type": "code",
   "execution_count": 22,
   "metadata": {},
   "outputs": [
    {
     "data": {
      "text/plain": [
       "667"
      ]
     },
     "execution_count": 22,
     "metadata": {},
     "output_type": "execute_result"
    }
   ],
   "source": [
    "y_pred.size"
   ]
  },
  {
   "cell_type": "code",
   "execution_count": 37,
   "metadata": {},
   "outputs": [
    {
     "data": {
      "image/png": "[encoded data removed]",
      "text/plain": [
       "<Figure size 648x432 with 1 Axes>"
      ]
     },
     "metadata": {
      "needs_background": "light"
     },
     "output_type": "display_data"
    }
   ],
   "source": [
    "x_ax = np.linspace(0,200, num=667)\n",
    "s = 100\n",
    "\n",
    "plt.rcParams[\"figure.figsize\"] = (9, 6)\n",
    "plt.scatter(x_ax, y_test, s, color='cornflowerblue', label=f'Actual Value', marker='v')\n",
    "plt.scatter(x_ax, y_pred, s, color='lime', label=f'Predicted Value', marker='*')\n",
    "\n",
    "plt.title('Predicted Glucose Level vs Actual Glucose Level')\n",
    "plt.legend()\n",
    "plt.ylabel('Glucose Level')\n",
    "plt.show()"
   ]
  },
  {
   "cell_type": "code",
   "execution_count": 29,
   "metadata": {},
   "outputs": [],
   "source": [
    "from sklearn import metrics"
   ]
  },
  {
   "cell_type": "code",
   "execution_count": 30,
   "metadata": {},
   "outputs": [
    {
     "name": "stdout",
     "output_type": "stream",
     "text": [
      "4.819137931034483\n"
     ]
    }
   ],
   "source": [
    "# Mean Absolute Error\n",
    "print(metrics.mean_absolute_error(y_test, y_pred))"
   ]
  },
  {
   "cell_type": "code",
   "execution_count": 31,
   "metadata": {},
   "outputs": [
    {
     "name": "stdout",
     "output_type": "stream",
     "text": [
      "214.7327235569715\n"
     ]
    }
   ],
   "source": [
    "# Mean Squared Error\n",
    "print(metrics.mean_squared_error(y_test, y_pred))"
   ]
  },
  {
   "cell_type": "code",
   "execution_count": 32,
   "metadata": {},
   "outputs": [
    {
     "name": "stdout",
     "output_type": "stream",
     "text": [
      "14.653761413267636\n"
     ]
    }
   ],
   "source": [
    "# Square Root of Mean Squared Error\n",
    "print(np.sqrt(metrics.mean_squared_error(y_test, y_pred)))"
   ]
  },
  {
   "cell_type": "code",
   "execution_count": 34,
   "metadata": {},
   "outputs": [
    {
     "data": {
      "text/plain": [
       "0.7594805720381366"
      ]
     },
     "execution_count": 34,
     "metadata": {},
     "output_type": "execute_result"
    }
   ],
   "source": [
    "# R^2 Error\n",
    "from sklearn.metrics import r2_score\n",
    "r2_score(y_test, y_pred)"
   ]
  }
 ],
 "metadata": {
  "kernelspec": {
   "display_name": "Python 3 (ipykernel)",
   "language": "python",
   "name": "python3"
  },
  "language_info": {
   "codemirror_mode": {
    "name": "ipython",
    "version": 3
   },
   "file_extension": ".py",
   "mimetype": "text/x-python",
   "name": "python",
   "nbconvert_exporter": "python",
   "pygments_lexer": "ipython3",
   "version": "3.9.7"
  }
 },
 "nbformat": 4,
 "nbformat_minor": 1
}
