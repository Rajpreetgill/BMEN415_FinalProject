{
 "cells": [
  {
   "cell_type": "code",
   "execution_count": 1,
   "metadata": {},
   "outputs": [],
   "source": [
    "import pandas as pd\n",
    "import numpy as np \n",
    "import matplotlib.pyplot as plt\n",
    "import sklearn\n",
    "\n",
    "from sklearn.model_selection import train_test_split\n",
    "from sklearn.metrics import mean_squared_error\n",
    "from math import sqrt\n",
    "from sklearn.metrics import r2_score\n",
    "from sklearn.metrics import accuracy_score\n",
    "import math\n",
    "data = pd.read_csv(r\"C:\\Users\\rajpr\\Downloads\\archiveClass\\data-ori.csv\")\n",
    "\n",
    "from sklearn.datasets import load_iris\n",
    "from sklearn.linear_model import LogisticRegression\n",
    "\n",
    "from sklearn.metrics import confusion_matrix\n",
    "\n",
    "X = data[['HAEMOGLOBINS','ERYTHROCYTE','LEUCOCYTE','AGE','MCH']].values\n",
    "y = data['SOURCE'].values"
   ]
  },
  {
   "cell_type": "code",
   "execution_count": 2,
   "metadata": {},
   "outputs": [
    {
     "name": "stdout",
     "output_type": "stream",
     "text": [
      "[[203 391]\n",
      " [124 738]]\n",
      "0.6462912087912088\n"
     ]
    }
   ],
   "source": [
    "x_train, x_test, y_train, y_test = train_test_split(X, y, test_size=0.33, random_state=40)\n",
    "\n",
    "clf = LogisticRegression(random_state=40)\n",
    "clf = clf.fit(x_train, np.ravel(y_train))\n",
    "\n",
    "clfTrain_predictY = clf.predict(x_train)\n",
    "clfTest_predictY = clf.predict(x_test)\n",
    "\n",
    "#print(clf.score(x_test, y_test))\n",
    "#print(clf.score(x_train, y_train))\n",
    "\n",
    "print(confusion_matrix(y_test, clfTest_predictY))\n",
    "#print(\"Accuracy score: {:.2f}\".format(accuracy_score(clfTest_predictY, y_test)))\n",
    "\n",
    "print(clf.score(x_test, y_test))"
   ]
  },
  {
   "cell_type": "code",
   "execution_count": null,
   "metadata": {},
   "outputs": [],
   "source": []
  }
 ],
 "metadata": {
  "kernelspec": {
   "display_name": "Python 3",
   "language": "python",
   "name": "python3"
  },
  "language_info": {
   "codemirror_mode": {
    "name": "ipython",
    "version": 3
   },
   "file_extension": ".py",
   "mimetype": "text/x-python",
   "name": "python",
   "nbconvert_exporter": "python",
   "pygments_lexer": "ipython3",
   "version": "3.8.5"
  }
 },
 "nbformat": 4,
 "nbformat_minor": 4
}
