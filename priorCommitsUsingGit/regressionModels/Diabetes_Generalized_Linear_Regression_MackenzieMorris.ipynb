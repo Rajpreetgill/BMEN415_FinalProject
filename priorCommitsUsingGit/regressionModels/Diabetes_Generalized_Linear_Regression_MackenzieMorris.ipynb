{
 "cells": [
  {
   "cell_type": "markdown",
   "metadata": {},
   "source": [
    "\n",
    "# Generalized Linear Regression\n"
   ]
  },
  {
   "cell_type": "code",
   "execution_count": 3,
   "metadata": {},
   "outputs": [],
   "source": [
    "# Import the necessary modules and libraries\n",
    "import numpy as np\n",
    "import pandas as pd\n",
    "import matplotlib.pyplot as plt"
   ]
  },
  {
   "cell_type": "markdown",
   "metadata": {},
   "source": [
    "\n",
    "## Data Preprocesing\n"
   ]
  },
  {
   "cell_type": "code",
   "execution_count": 4,
   "metadata": {},
   "outputs": [
    {
     "data": {
      "text/html": [
       "<div>\n",
       "<style scoped>\n",
       "    .dataframe tbody tr th:only-of-type {\n",
       "        vertical-align: middle;\n",
       "    }\n",
       "\n",
       "    .dataframe tbody tr th {\n",
       "        vertical-align: top;\n",
       "    }\n",
       "\n",
       "    .dataframe thead th {\n",
       "        text-align: right;\n",
       "    }\n",
       "</style>\n",
       "<table border=\"1\" class=\"dataframe\">\n",
       "  <thead>\n",
       "    <tr style=\"text-align: right;\">\n",
       "      <th></th>\n",
       "      <th>Pregnancies</th>\n",
       "      <th>Glucose</th>\n",
       "      <th>BloodPressure</th>\n",
       "      <th>SkinThickness</th>\n",
       "      <th>Insulin</th>\n",
       "      <th>BMI</th>\n",
       "      <th>DiabetesPedigreeFunction</th>\n",
       "      <th>Age</th>\n",
       "      <th>Outcome</th>\n",
       "    </tr>\n",
       "  </thead>\n",
       "  <tbody>\n",
       "    <tr>\n",
       "      <th>0</th>\n",
       "      <td>2</td>\n",
       "      <td>138</td>\n",
       "      <td>62</td>\n",
       "      <td>35</td>\n",
       "      <td>0</td>\n",
       "      <td>33.6</td>\n",
       "      <td>0.127</td>\n",
       "      <td>47</td>\n",
       "      <td>1</td>\n",
       "    </tr>\n",
       "    <tr>\n",
       "      <th>1</th>\n",
       "      <td>0</td>\n",
       "      <td>84</td>\n",
       "      <td>82</td>\n",
       "      <td>31</td>\n",
       "      <td>125</td>\n",
       "      <td>38.2</td>\n",
       "      <td>0.233</td>\n",
       "      <td>23</td>\n",
       "      <td>0</td>\n",
       "    </tr>\n",
       "    <tr>\n",
       "      <th>2</th>\n",
       "      <td>0</td>\n",
       "      <td>145</td>\n",
       "      <td>0</td>\n",
       "      <td>0</td>\n",
       "      <td>0</td>\n",
       "      <td>44.2</td>\n",
       "      <td>0.630</td>\n",
       "      <td>31</td>\n",
       "      <td>1</td>\n",
       "    </tr>\n",
       "    <tr>\n",
       "      <th>3</th>\n",
       "      <td>0</td>\n",
       "      <td>135</td>\n",
       "      <td>68</td>\n",
       "      <td>42</td>\n",
       "      <td>250</td>\n",
       "      <td>42.3</td>\n",
       "      <td>0.365</td>\n",
       "      <td>24</td>\n",
       "      <td>1</td>\n",
       "    </tr>\n",
       "    <tr>\n",
       "      <th>4</th>\n",
       "      <td>1</td>\n",
       "      <td>139</td>\n",
       "      <td>62</td>\n",
       "      <td>41</td>\n",
       "      <td>480</td>\n",
       "      <td>40.7</td>\n",
       "      <td>0.536</td>\n",
       "      <td>21</td>\n",
       "      <td>0</td>\n",
       "    </tr>\n",
       "    <tr>\n",
       "      <th>...</th>\n",
       "      <td>...</td>\n",
       "      <td>...</td>\n",
       "      <td>...</td>\n",
       "      <td>...</td>\n",
       "      <td>...</td>\n",
       "      <td>...</td>\n",
       "      <td>...</td>\n",
       "      <td>...</td>\n",
       "      <td>...</td>\n",
       "    </tr>\n",
       "    <tr>\n",
       "      <th>1995</th>\n",
       "      <td>2</td>\n",
       "      <td>75</td>\n",
       "      <td>64</td>\n",
       "      <td>24</td>\n",
       "      <td>55</td>\n",
       "      <td>29.7</td>\n",
       "      <td>0.370</td>\n",
       "      <td>33</td>\n",
       "      <td>0</td>\n",
       "    </tr>\n",
       "    <tr>\n",
       "      <th>1996</th>\n",
       "      <td>8</td>\n",
       "      <td>179</td>\n",
       "      <td>72</td>\n",
       "      <td>42</td>\n",
       "      <td>130</td>\n",
       "      <td>32.7</td>\n",
       "      <td>0.719</td>\n",
       "      <td>36</td>\n",
       "      <td>1</td>\n",
       "    </tr>\n",
       "    <tr>\n",
       "      <th>1997</th>\n",
       "      <td>6</td>\n",
       "      <td>85</td>\n",
       "      <td>78</td>\n",
       "      <td>0</td>\n",
       "      <td>0</td>\n",
       "      <td>31.2</td>\n",
       "      <td>0.382</td>\n",
       "      <td>42</td>\n",
       "      <td>0</td>\n",
       "    </tr>\n",
       "    <tr>\n",
       "      <th>1998</th>\n",
       "      <td>0</td>\n",
       "      <td>129</td>\n",
       "      <td>110</td>\n",
       "      <td>46</td>\n",
       "      <td>130</td>\n",
       "      <td>67.1</td>\n",
       "      <td>0.319</td>\n",
       "      <td>26</td>\n",
       "      <td>1</td>\n",
       "    </tr>\n",
       "    <tr>\n",
       "      <th>1999</th>\n",
       "      <td>2</td>\n",
       "      <td>81</td>\n",
       "      <td>72</td>\n",
       "      <td>15</td>\n",
       "      <td>76</td>\n",
       "      <td>30.1</td>\n",
       "      <td>0.547</td>\n",
       "      <td>25</td>\n",
       "      <td>0</td>\n",
       "    </tr>\n",
       "  </tbody>\n",
       "</table>\n",
       "<p>2000 rows × 9 columns</p>\n",
       "</div>"
      ],
      "text/plain": [
       "      Pregnancies  Glucose  BloodPressure  SkinThickness  Insulin   BMI  \\\n",
       "0               2      138             62             35        0  33.6   \n",
       "1               0       84             82             31      125  38.2   \n",
       "2               0      145              0              0        0  44.2   \n",
       "3               0      135             68             42      250  42.3   \n",
       "4               1      139             62             41      480  40.7   \n",
       "...           ...      ...            ...            ...      ...   ...   \n",
       "1995            2       75             64             24       55  29.7   \n",
       "1996            8      179             72             42      130  32.7   \n",
       "1997            6       85             78              0        0  31.2   \n",
       "1998            0      129            110             46      130  67.1   \n",
       "1999            2       81             72             15       76  30.1   \n",
       "\n",
       "      DiabetesPedigreeFunction  Age  Outcome  \n",
       "0                        0.127   47        1  \n",
       "1                        0.233   23        0  \n",
       "2                        0.630   31        1  \n",
       "3                        0.365   24        1  \n",
       "4                        0.536   21        0  \n",
       "...                        ...  ...      ...  \n",
       "1995                     0.370   33        0  \n",
       "1996                     0.719   36        1  \n",
       "1997                     0.382   42        0  \n",
       "1998                     0.319   26        1  \n",
       "1999                     0.547   25        0  \n",
       "\n",
       "[2000 rows x 9 columns]"
      ]
     },
     "execution_count": 4,
     "metadata": {},
     "output_type": "execute_result"
    }
   ],
   "source": [
    "diabetes_data = pd.read_csv('C:/Users/USER/Documents/Engineering/BMEN415/regression_data/diabetes-dataset.csv')\n",
    "diabetes_data"
   ]
  },
  {
   "cell_type": "code",
   "execution_count": 5,
   "metadata": {},
   "outputs": [
    {
     "data": {
      "text/plain": [
       "Pregnancies                  301\n",
       "Glucose                       13\n",
       "BloodPressure                 90\n",
       "SkinThickness                573\n",
       "Insulin                      956\n",
       "BMI                           28\n",
       "DiabetesPedigreeFunction       0\n",
       "Age                            0\n",
       "Outcome                     1316\n",
       "dtype: int64"
      ]
     },
     "execution_count": 5,
     "metadata": {},
     "output_type": "execute_result"
    }
   ],
   "source": [
    "diabetes_data[diabetes_data==0].count()"
   ]
  },
  {
   "cell_type": "code",
   "execution_count": 6,
   "metadata": {},
   "outputs": [],
   "source": [
    "# Change Insulin null (0) values to mean value\n",
    "diabetes_data.Insulin = diabetes_data.Insulin.replace(0, diabetes_data.Insulin.mean())"
   ]
  },
  {
   "cell_type": "code",
   "execution_count": 7,
   "metadata": {},
   "outputs": [],
   "source": [
    "# Change Skin Thickness null (0) values to mean value\n",
    "diabetes_data.SkinThickness = diabetes_data.SkinThickness.replace(0, diabetes_data.SkinThickness.mean())"
   ]
  },
  {
   "cell_type": "code",
   "execution_count": 8,
   "metadata": {},
   "outputs": [],
   "source": [
    "# Change Glucose null (0) values to mean value\n",
    "diabetes_data.Glucose = diabetes_data.Glucose.replace(0, diabetes_data.Glucose.mean())"
   ]
  },
  {
   "cell_type": "code",
   "execution_count": 9,
   "metadata": {},
   "outputs": [],
   "source": [
    "# Change Skin Blood Pressure (0) values to mean value\n",
    "diabetes_data.BloodPressure = diabetes_data.BloodPressure.replace(0, diabetes_data.BloodPressure.mean())"
   ]
  },
  {
   "cell_type": "code",
   "execution_count": 10,
   "metadata": {},
   "outputs": [],
   "source": [
    "# Change BMI null (0) values to mean value\n",
    "diabetes_data.BMI = diabetes_data.BMI.replace(0, diabetes_data.BMI.mean())"
   ]
  },
  {
   "cell_type": "code",
   "execution_count": 11,
   "metadata": {},
   "outputs": [
    {
     "data": {
      "text/plain": [
       "Pregnancies                  301\n",
       "Glucose                        0\n",
       "BloodPressure                  0\n",
       "SkinThickness                  0\n",
       "Insulin                        0\n",
       "BMI                            0\n",
       "DiabetesPedigreeFunction       0\n",
       "Age                            0\n",
       "Outcome                     1316\n",
       "dtype: int64"
      ]
     },
     "execution_count": 11,
     "metadata": {},
     "output_type": "execute_result"
    }
   ],
   "source": [
    "# Updated\n",
    "diabetes_data[diabetes_data==0].count()"
   ]
  },
  {
   "cell_type": "code",
   "execution_count": 12,
   "metadata": {},
   "outputs": [],
   "source": [
    "x = diabetes_data.iloc[:,[0,2,3,4,5,6,7]]\n",
    "y = diabetes_data.iloc[:,1:2].values"
   ]
  },
  {
   "cell_type": "code",
   "execution_count": 13,
   "metadata": {},
   "outputs": [
    {
     "data": {
      "text/html": [
       "<div>\n",
       "<style scoped>\n",
       "    .dataframe tbody tr th:only-of-type {\n",
       "        vertical-align: middle;\n",
       "    }\n",
       "\n",
       "    .dataframe tbody tr th {\n",
       "        vertical-align: top;\n",
       "    }\n",
       "\n",
       "    .dataframe thead th {\n",
       "        text-align: right;\n",
       "    }\n",
       "</style>\n",
       "<table border=\"1\" class=\"dataframe\">\n",
       "  <thead>\n",
       "    <tr style=\"text-align: right;\">\n",
       "      <th></th>\n",
       "      <th>Pregnancies</th>\n",
       "      <th>BloodPressure</th>\n",
       "      <th>SkinThickness</th>\n",
       "      <th>Insulin</th>\n",
       "      <th>BMI</th>\n",
       "      <th>DiabetesPedigreeFunction</th>\n",
       "      <th>Age</th>\n",
       "    </tr>\n",
       "  </thead>\n",
       "  <tbody>\n",
       "    <tr>\n",
       "      <th>0</th>\n",
       "      <td>2</td>\n",
       "      <td>62.0000</td>\n",
       "      <td>35.000</td>\n",
       "      <td>80.254</td>\n",
       "      <td>33.6</td>\n",
       "      <td>0.127</td>\n",
       "      <td>47</td>\n",
       "    </tr>\n",
       "    <tr>\n",
       "      <th>1</th>\n",
       "      <td>0</td>\n",
       "      <td>82.0000</td>\n",
       "      <td>31.000</td>\n",
       "      <td>125.000</td>\n",
       "      <td>38.2</td>\n",
       "      <td>0.233</td>\n",
       "      <td>23</td>\n",
       "    </tr>\n",
       "    <tr>\n",
       "      <th>2</th>\n",
       "      <td>0</td>\n",
       "      <td>69.1455</td>\n",
       "      <td>20.935</td>\n",
       "      <td>80.254</td>\n",
       "      <td>44.2</td>\n",
       "      <td>0.630</td>\n",
       "      <td>31</td>\n",
       "    </tr>\n",
       "    <tr>\n",
       "      <th>3</th>\n",
       "      <td>0</td>\n",
       "      <td>68.0000</td>\n",
       "      <td>42.000</td>\n",
       "      <td>250.000</td>\n",
       "      <td>42.3</td>\n",
       "      <td>0.365</td>\n",
       "      <td>24</td>\n",
       "    </tr>\n",
       "    <tr>\n",
       "      <th>4</th>\n",
       "      <td>1</td>\n",
       "      <td>62.0000</td>\n",
       "      <td>41.000</td>\n",
       "      <td>480.000</td>\n",
       "      <td>40.7</td>\n",
       "      <td>0.536</td>\n",
       "      <td>21</td>\n",
       "    </tr>\n",
       "    <tr>\n",
       "      <th>...</th>\n",
       "      <td>...</td>\n",
       "      <td>...</td>\n",
       "      <td>...</td>\n",
       "      <td>...</td>\n",
       "      <td>...</td>\n",
       "      <td>...</td>\n",
       "      <td>...</td>\n",
       "    </tr>\n",
       "    <tr>\n",
       "      <th>1995</th>\n",
       "      <td>2</td>\n",
       "      <td>64.0000</td>\n",
       "      <td>24.000</td>\n",
       "      <td>55.000</td>\n",
       "      <td>29.7</td>\n",
       "      <td>0.370</td>\n",
       "      <td>33</td>\n",
       "    </tr>\n",
       "    <tr>\n",
       "      <th>1996</th>\n",
       "      <td>8</td>\n",
       "      <td>72.0000</td>\n",
       "      <td>42.000</td>\n",
       "      <td>130.000</td>\n",
       "      <td>32.7</td>\n",
       "      <td>0.719</td>\n",
       "      <td>36</td>\n",
       "    </tr>\n",
       "    <tr>\n",
       "      <th>1997</th>\n",
       "      <td>6</td>\n",
       "      <td>78.0000</td>\n",
       "      <td>20.935</td>\n",
       "      <td>80.254</td>\n",
       "      <td>31.2</td>\n",
       "      <td>0.382</td>\n",
       "      <td>42</td>\n",
       "    </tr>\n",
       "    <tr>\n",
       "      <th>1998</th>\n",
       "      <td>0</td>\n",
       "      <td>110.0000</td>\n",
       "      <td>46.000</td>\n",
       "      <td>130.000</td>\n",
       "      <td>67.1</td>\n",
       "      <td>0.319</td>\n",
       "      <td>26</td>\n",
       "    </tr>\n",
       "    <tr>\n",
       "      <th>1999</th>\n",
       "      <td>2</td>\n",
       "      <td>72.0000</td>\n",
       "      <td>15.000</td>\n",
       "      <td>76.000</td>\n",
       "      <td>30.1</td>\n",
       "      <td>0.547</td>\n",
       "      <td>25</td>\n",
       "    </tr>\n",
       "  </tbody>\n",
       "</table>\n",
       "<p>2000 rows × 7 columns</p>\n",
       "</div>"
      ],
      "text/plain": [
       "      Pregnancies  BloodPressure  SkinThickness  Insulin   BMI  \\\n",
       "0               2        62.0000         35.000   80.254  33.6   \n",
       "1               0        82.0000         31.000  125.000  38.2   \n",
       "2               0        69.1455         20.935   80.254  44.2   \n",
       "3               0        68.0000         42.000  250.000  42.3   \n",
       "4               1        62.0000         41.000  480.000  40.7   \n",
       "...           ...            ...            ...      ...   ...   \n",
       "1995            2        64.0000         24.000   55.000  29.7   \n",
       "1996            8        72.0000         42.000  130.000  32.7   \n",
       "1997            6        78.0000         20.935   80.254  31.2   \n",
       "1998            0       110.0000         46.000  130.000  67.1   \n",
       "1999            2        72.0000         15.000   76.000  30.1   \n",
       "\n",
       "      DiabetesPedigreeFunction  Age  \n",
       "0                        0.127   47  \n",
       "1                        0.233   23  \n",
       "2                        0.630   31  \n",
       "3                        0.365   24  \n",
       "4                        0.536   21  \n",
       "...                        ...  ...  \n",
       "1995                     0.370   33  \n",
       "1996                     0.719   36  \n",
       "1997                     0.382   42  \n",
       "1998                     0.319   26  \n",
       "1999                     0.547   25  \n",
       "\n",
       "[2000 rows x 7 columns]"
      ]
     },
     "execution_count": 13,
     "metadata": {},
     "output_type": "execute_result"
    }
   ],
   "source": [
    "x # Predictors"
   ]
  },
  {
   "cell_type": "code",
   "execution_count": 14,
   "metadata": {},
   "outputs": [
    {
     "data": {
      "text/plain": [
       "array([[138.],\n",
       "       [ 84.],\n",
       "       [145.],\n",
       "       ...,\n",
       "       [ 85.],\n",
       "       [129.],\n",
       "       [ 81.]])"
      ]
     },
     "execution_count": 14,
     "metadata": {},
     "output_type": "execute_result"
    }
   ],
   "source": [
    "y # Outcome - Glucose Levels"
   ]
  },
  {
   "cell_type": "code",
   "execution_count": 15,
   "metadata": {},
   "outputs": [
    {
     "name": "stdout",
     "output_type": "stream",
     "text": [
      "<class 'pandas.core.frame.DataFrame'>\n",
      "RangeIndex: 2000 entries, 0 to 1999\n",
      "Data columns (total 9 columns):\n",
      " #   Column                    Non-Null Count  Dtype  \n",
      "---  ------                    --------------  -----  \n",
      " 0   Pregnancies               2000 non-null   int64  \n",
      " 1   Glucose                   2000 non-null   float64\n",
      " 2   BloodPressure             2000 non-null   float64\n",
      " 3   SkinThickness             2000 non-null   float64\n",
      " 4   Insulin                   2000 non-null   float64\n",
      " 5   BMI                       2000 non-null   float64\n",
      " 6   DiabetesPedigreeFunction  2000 non-null   float64\n",
      " 7   Age                       2000 non-null   int64  \n",
      " 8   Outcome                   2000 non-null   int64  \n",
      "dtypes: float64(6), int64(3)\n",
      "memory usage: 140.8 KB\n"
     ]
    }
   ],
   "source": [
    "diabetes_data.info() # summary of data and data types"
   ]
  },
  {
   "cell_type": "code",
   "execution_count": 16,
   "metadata": {},
   "outputs": [
    {
     "data": {
      "text/html": [
       "<div>\n",
       "<style scoped>\n",
       "    .dataframe tbody tr th:only-of-type {\n",
       "        vertical-align: middle;\n",
       "    }\n",
       "\n",
       "    .dataframe tbody tr th {\n",
       "        vertical-align: top;\n",
       "    }\n",
       "\n",
       "    .dataframe thead th {\n",
       "        text-align: right;\n",
       "    }\n",
       "</style>\n",
       "<table border=\"1\" class=\"dataframe\">\n",
       "  <thead>\n",
       "    <tr style=\"text-align: right;\">\n",
       "      <th></th>\n",
       "      <th>Pregnancies</th>\n",
       "      <th>Glucose</th>\n",
       "      <th>BloodPressure</th>\n",
       "      <th>SkinThickness</th>\n",
       "      <th>Insulin</th>\n",
       "      <th>BMI</th>\n",
       "      <th>DiabetesPedigreeFunction</th>\n",
       "      <th>Age</th>\n",
       "      <th>Outcome</th>\n",
       "    </tr>\n",
       "  </thead>\n",
       "  <tbody>\n",
       "    <tr>\n",
       "      <th>count</th>\n",
       "      <td>2000.000000</td>\n",
       "      <td>2000.000000</td>\n",
       "      <td>2000.000000</td>\n",
       "      <td>2000.000000</td>\n",
       "      <td>2000.000000</td>\n",
       "      <td>2000.000000</td>\n",
       "      <td>2000.000000</td>\n",
       "      <td>2000.000000</td>\n",
       "      <td>2000.000000</td>\n",
       "    </tr>\n",
       "    <tr>\n",
       "      <th>mean</th>\n",
       "      <td>3.703500</td>\n",
       "      <td>121.970186</td>\n",
       "      <td>72.257047</td>\n",
       "      <td>26.932877</td>\n",
       "      <td>118.615412</td>\n",
       "      <td>32.643702</td>\n",
       "      <td>0.470930</td>\n",
       "      <td>33.090500</td>\n",
       "      <td>0.342000</td>\n",
       "    </tr>\n",
       "    <tr>\n",
       "      <th>std</th>\n",
       "      <td>3.306063</td>\n",
       "      <td>30.533180</td>\n",
       "      <td>11.968614</td>\n",
       "      <td>9.884003</td>\n",
       "      <td>88.366170</td>\n",
       "      <td>7.190337</td>\n",
       "      <td>0.323553</td>\n",
       "      <td>11.786423</td>\n",
       "      <td>0.474498</td>\n",
       "    </tr>\n",
       "    <tr>\n",
       "      <th>min</th>\n",
       "      <td>0.000000</td>\n",
       "      <td>44.000000</td>\n",
       "      <td>24.000000</td>\n",
       "      <td>7.000000</td>\n",
       "      <td>14.000000</td>\n",
       "      <td>18.200000</td>\n",
       "      <td>0.078000</td>\n",
       "      <td>21.000000</td>\n",
       "      <td>0.000000</td>\n",
       "    </tr>\n",
       "    <tr>\n",
       "      <th>25%</th>\n",
       "      <td>1.000000</td>\n",
       "      <td>99.000000</td>\n",
       "      <td>64.000000</td>\n",
       "      <td>20.935000</td>\n",
       "      <td>80.254000</td>\n",
       "      <td>27.600000</td>\n",
       "      <td>0.244000</td>\n",
       "      <td>24.000000</td>\n",
       "      <td>0.000000</td>\n",
       "    </tr>\n",
       "    <tr>\n",
       "      <th>50%</th>\n",
       "      <td>3.000000</td>\n",
       "      <td>118.000000</td>\n",
       "      <td>72.000000</td>\n",
       "      <td>23.000000</td>\n",
       "      <td>80.254000</td>\n",
       "      <td>32.300000</td>\n",
       "      <td>0.376000</td>\n",
       "      <td>29.000000</td>\n",
       "      <td>0.000000</td>\n",
       "    </tr>\n",
       "    <tr>\n",
       "      <th>75%</th>\n",
       "      <td>6.000000</td>\n",
       "      <td>141.000000</td>\n",
       "      <td>80.000000</td>\n",
       "      <td>32.000000</td>\n",
       "      <td>130.000000</td>\n",
       "      <td>36.800000</td>\n",
       "      <td>0.624000</td>\n",
       "      <td>40.000000</td>\n",
       "      <td>1.000000</td>\n",
       "    </tr>\n",
       "    <tr>\n",
       "      <th>max</th>\n",
       "      <td>17.000000</td>\n",
       "      <td>199.000000</td>\n",
       "      <td>122.000000</td>\n",
       "      <td>110.000000</td>\n",
       "      <td>744.000000</td>\n",
       "      <td>80.600000</td>\n",
       "      <td>2.420000</td>\n",
       "      <td>81.000000</td>\n",
       "      <td>1.000000</td>\n",
       "    </tr>\n",
       "  </tbody>\n",
       "</table>\n",
       "</div>"
      ],
      "text/plain": [
       "       Pregnancies      Glucose  BloodPressure  SkinThickness      Insulin  \\\n",
       "count  2000.000000  2000.000000    2000.000000    2000.000000  2000.000000   \n",
       "mean      3.703500   121.970186      72.257047      26.932877   118.615412   \n",
       "std       3.306063    30.533180      11.968614       9.884003    88.366170   \n",
       "min       0.000000    44.000000      24.000000       7.000000    14.000000   \n",
       "25%       1.000000    99.000000      64.000000      20.935000    80.254000   \n",
       "50%       3.000000   118.000000      72.000000      23.000000    80.254000   \n",
       "75%       6.000000   141.000000      80.000000      32.000000   130.000000   \n",
       "max      17.000000   199.000000     122.000000     110.000000   744.000000   \n",
       "\n",
       "               BMI  DiabetesPedigreeFunction          Age      Outcome  \n",
       "count  2000.000000               2000.000000  2000.000000  2000.000000  \n",
       "mean     32.643702                  0.470930    33.090500     0.342000  \n",
       "std       7.190337                  0.323553    11.786423     0.474498  \n",
       "min      18.200000                  0.078000    21.000000     0.000000  \n",
       "25%      27.600000                  0.244000    24.000000     0.000000  \n",
       "50%      32.300000                  0.376000    29.000000     0.000000  \n",
       "75%      36.800000                  0.624000    40.000000     1.000000  \n",
       "max      80.600000                  2.420000    81.000000     1.000000  "
      ]
     },
     "execution_count": 16,
     "metadata": {},
     "output_type": "execute_result"
    }
   ],
   "source": [
    "diabetes_data.describe() # description of the data"
   ]
  },
  {
   "cell_type": "code",
   "execution_count": 17,
   "metadata": {
    "scrolled": true
   },
   "outputs": [
    {
     "data": {
      "text/html": [
       "<div>\n",
       "<style scoped>\n",
       "    .dataframe tbody tr th:only-of-type {\n",
       "        vertical-align: middle;\n",
       "    }\n",
       "\n",
       "    .dataframe tbody tr th {\n",
       "        vertical-align: top;\n",
       "    }\n",
       "\n",
       "    .dataframe thead th {\n",
       "        text-align: right;\n",
       "    }\n",
       "</style>\n",
       "<table border=\"1\" class=\"dataframe\">\n",
       "  <thead>\n",
       "    <tr style=\"text-align: right;\">\n",
       "      <th></th>\n",
       "      <th>Pregnancies</th>\n",
       "      <th>Glucose</th>\n",
       "      <th>BloodPressure</th>\n",
       "      <th>SkinThickness</th>\n",
       "      <th>Insulin</th>\n",
       "      <th>BMI</th>\n",
       "      <th>DiabetesPedigreeFunction</th>\n",
       "      <th>Age</th>\n",
       "      <th>Outcome</th>\n",
       "    </tr>\n",
       "  </thead>\n",
       "  <tbody>\n",
       "    <tr>\n",
       "      <th>Pregnancies</th>\n",
       "      <td>1.000000</td>\n",
       "      <td>0.121569</td>\n",
       "      <td>0.199471</td>\n",
       "      <td>0.028116</td>\n",
       "      <td>-0.020319</td>\n",
       "      <td>0.011439</td>\n",
       "      <td>-0.025453</td>\n",
       "      <td>0.539457</td>\n",
       "      <td>0.224437</td>\n",
       "    </tr>\n",
       "    <tr>\n",
       "      <th>Glucose</th>\n",
       "      <td>0.121569</td>\n",
       "      <td>1.000000</td>\n",
       "      <td>0.200509</td>\n",
       "      <td>0.175337</td>\n",
       "      <td>0.384706</td>\n",
       "      <td>0.233228</td>\n",
       "      <td>0.124176</td>\n",
       "      <td>0.259853</td>\n",
       "      <td>0.487977</td>\n",
       "    </tr>\n",
       "    <tr>\n",
       "      <th>BloodPressure</th>\n",
       "      <td>0.199471</td>\n",
       "      <td>0.200509</td>\n",
       "      <td>1.000000</td>\n",
       "      <td>0.154736</td>\n",
       "      <td>0.012714</td>\n",
       "      <td>0.259445</td>\n",
       "      <td>0.015216</td>\n",
       "      <td>0.325490</td>\n",
       "      <td>0.171844</td>\n",
       "    </tr>\n",
       "    <tr>\n",
       "      <th>SkinThickness</th>\n",
       "      <td>0.028116</td>\n",
       "      <td>0.175337</td>\n",
       "      <td>0.154736</td>\n",
       "      <td>1.000000</td>\n",
       "      <td>0.257060</td>\n",
       "      <td>0.520245</td>\n",
       "      <td>0.143700</td>\n",
       "      <td>0.035946</td>\n",
       "      <td>0.170856</td>\n",
       "    </tr>\n",
       "    <tr>\n",
       "      <th>Insulin</th>\n",
       "      <td>-0.020319</td>\n",
       "      <td>0.384706</td>\n",
       "      <td>0.012714</td>\n",
       "      <td>0.257060</td>\n",
       "      <td>1.000000</td>\n",
       "      <td>0.217047</td>\n",
       "      <td>0.161557</td>\n",
       "      <td>-0.009007</td>\n",
       "      <td>0.171339</td>\n",
       "    </tr>\n",
       "    <tr>\n",
       "      <th>BMI</th>\n",
       "      <td>0.011439</td>\n",
       "      <td>0.233228</td>\n",
       "      <td>0.259445</td>\n",
       "      <td>0.520245</td>\n",
       "      <td>0.217047</td>\n",
       "      <td>1.000000</td>\n",
       "      <td>0.142019</td>\n",
       "      <td>0.018815</td>\n",
       "      <td>0.282615</td>\n",
       "    </tr>\n",
       "    <tr>\n",
       "      <th>DiabetesPedigreeFunction</th>\n",
       "      <td>-0.025453</td>\n",
       "      <td>0.124176</td>\n",
       "      <td>0.015216</td>\n",
       "      <td>0.143700</td>\n",
       "      <td>0.161557</td>\n",
       "      <td>0.142019</td>\n",
       "      <td>1.000000</td>\n",
       "      <td>0.026569</td>\n",
       "      <td>0.155459</td>\n",
       "    </tr>\n",
       "    <tr>\n",
       "      <th>Age</th>\n",
       "      <td>0.539457</td>\n",
       "      <td>0.259853</td>\n",
       "      <td>0.325490</td>\n",
       "      <td>0.035946</td>\n",
       "      <td>-0.009007</td>\n",
       "      <td>0.018815</td>\n",
       "      <td>0.026569</td>\n",
       "      <td>1.000000</td>\n",
       "      <td>0.236509</td>\n",
       "    </tr>\n",
       "    <tr>\n",
       "      <th>Outcome</th>\n",
       "      <td>0.224437</td>\n",
       "      <td>0.487977</td>\n",
       "      <td>0.171844</td>\n",
       "      <td>0.170856</td>\n",
       "      <td>0.171339</td>\n",
       "      <td>0.282615</td>\n",
       "      <td>0.155459</td>\n",
       "      <td>0.236509</td>\n",
       "      <td>1.000000</td>\n",
       "    </tr>\n",
       "  </tbody>\n",
       "</table>\n",
       "</div>"
      ],
      "text/plain": [
       "                          Pregnancies   Glucose  BloodPressure  SkinThickness  \\\n",
       "Pregnancies                  1.000000  0.121569       0.199471       0.028116   \n",
       "Glucose                      0.121569  1.000000       0.200509       0.175337   \n",
       "BloodPressure                0.199471  0.200509       1.000000       0.154736   \n",
       "SkinThickness                0.028116  0.175337       0.154736       1.000000   \n",
       "Insulin                     -0.020319  0.384706       0.012714       0.257060   \n",
       "BMI                          0.011439  0.233228       0.259445       0.520245   \n",
       "DiabetesPedigreeFunction    -0.025453  0.124176       0.015216       0.143700   \n",
       "Age                          0.539457  0.259853       0.325490       0.035946   \n",
       "Outcome                      0.224437  0.487977       0.171844       0.170856   \n",
       "\n",
       "                           Insulin       BMI  DiabetesPedigreeFunction  \\\n",
       "Pregnancies              -0.020319  0.011439                 -0.025453   \n",
       "Glucose                   0.384706  0.233228                  0.124176   \n",
       "BloodPressure             0.012714  0.259445                  0.015216   \n",
       "SkinThickness             0.257060  0.520245                  0.143700   \n",
       "Insulin                   1.000000  0.217047                  0.161557   \n",
       "BMI                       0.217047  1.000000                  0.142019   \n",
       "DiabetesPedigreeFunction  0.161557  0.142019                  1.000000   \n",
       "Age                      -0.009007  0.018815                  0.026569   \n",
       "Outcome                   0.171339  0.282615                  0.155459   \n",
       "\n",
       "                               Age   Outcome  \n",
       "Pregnancies               0.539457  0.224437  \n",
       "Glucose                   0.259853  0.487977  \n",
       "BloodPressure             0.325490  0.171844  \n",
       "SkinThickness             0.035946  0.170856  \n",
       "Insulin                  -0.009007  0.171339  \n",
       "BMI                       0.018815  0.282615  \n",
       "DiabetesPedigreeFunction  0.026569  0.155459  \n",
       "Age                       1.000000  0.236509  \n",
       "Outcome                   0.236509  1.000000  "
      ]
     },
     "execution_count": 17,
     "metadata": {},
     "output_type": "execute_result"
    }
   ],
   "source": [
    "diabetes_data.corr() # correlation of the data"
   ]
  },
  {
   "cell_type": "code",
   "execution_count": 18,
   "metadata": {},
   "outputs": [
    {
     "data": {
      "image/png": "[encoded data removed]",
      "text/plain": [
       "<Figure size 1368x1080 with 2 Axes>"
      ]
     },
     "metadata": {
      "needs_background": "light"
     },
     "output_type": "display_data"
    }
   ],
   "source": [
    "# Correlation Matrix of Predictors\n",
    "correlation = plt.figure(figsize=(19, 15))\n",
    "plt.matshow(x.corr(), fignum=correlation.number)\n",
    "plt.xticks(range(x.select_dtypes(['number']).shape[1]), x.select_dtypes(['number']).columns, fontsize=14, rotation=45)\n",
    "plt.yticks(range(x.select_dtypes(['number']).shape[1]), x.select_dtypes(['number']).columns, fontsize=14)\n",
    "cb = plt.colorbar()\n",
    "cb.ax.tick_params(labelsize=14)\n",
    "plt.title('Correlation Matrix of Predictors', fontsize=16);"
   ]
  },
  {
   "cell_type": "code",
   "execution_count": 19,
   "metadata": {},
   "outputs": [
    {
     "data": {
      "image/png": "[encoded data removed]",
      "text/plain": [
       "<Figure size 864x720 with 9 Axes>"
      ]
     },
     "metadata": {
      "needs_background": "light"
     },
     "output_type": "display_data"
    }
   ],
   "source": [
    "fig, axes = plt.subplots(nrows=3, ncols=3, figsize=(12, 10))\n",
    "\n",
    "x.plot(kind=\"hist\", y=\"Pregnancies\", bins = 17, color=\"blueviolet\", ax=axes[0][0])\n",
    "x.plot(kind=\"hist\", y=\"BloodPressure\", bins = 120, color=\"lightpink\", ax=axes[0][1])\n",
    "x.plot(kind=\"hist\", y=\"SkinThickness\", bins=50, color=\"aquamarine\", ax=axes[0][2])\n",
    "x.plot(kind=\"hist\", y=\"Insulin\", bins=100, color=\"yellow\", ax=axes[1][0])\n",
    "x.plot(kind=\"hist\", y=\"BMI\", bins=50, color=\"royalblue\", ax=axes[1][1])\n",
    "x.plot(kind=\"hist\", y=\"DiabetesPedigreeFunction\", bins=50, color=\"palegreen\", ax=axes[1][2])\n",
    "x.plot(kind=\"hist\", y=\"Age\", bins=20, color=\"orangered\", ax=axes[2][0])\n",
    "plt.show()"
   ]
  },
  {
   "cell_type": "markdown",
   "metadata": {},
   "source": [
    "\n",
    "## Training the Data\n"
   ]
  },
  {
   "cell_type": "code",
   "execution_count": 20,
   "metadata": {},
   "outputs": [],
   "source": [
    "from sklearn.model_selection import train_test_split\n",
    "x_train, x_test, y_train, y_test = train_test_split(x,y,test_size=1/3,random_state=0) \n",
    "# splits data, 1/3 of data for testing, 2/3 of data for training"
   ]
  },
  {
   "cell_type": "code",
   "execution_count": 21,
   "metadata": {},
   "outputs": [
    {
     "name": "stderr",
     "output_type": "stream",
     "text": [
      "C:\\Users\\USER\\anaconda3\\lib\\site-packages\\sklearn\\linear_model\\_glm\\glm.py:287: ConvergenceWarning: lbfgs failed to converge (status=1):\n",
      "STOP: TOTAL NO. of ITERATIONS REACHED LIMIT.\n",
      "\n",
      "Increase the number of iterations (max_iter) or scale the data as shown in:\n",
      "    https://scikit-learn.org/stable/modules/preprocessing.html\n",
      "  self.n_iter_ = _check_optimize_result(\"lbfgs\", opt_res)\n"
     ]
    },
    {
     "data": {
      "text/plain": [
       "TweedieRegressor()"
      ]
     },
     "execution_count": 21,
     "metadata": {},
     "output_type": "execute_result"
    }
   ],
   "source": [
    "from sklearn.linear_model import TweedieRegressor\n",
    "\n",
    "regressor = TweedieRegressor()\n",
    "\n",
    "regressor.fit(x_train, y_train.ravel())"
   ]
  },
  {
   "cell_type": "markdown",
   "metadata": {},
   "source": [
    "\n",
    "## Testing the Model\n"
   ]
  },
  {
   "cell_type": "code",
   "execution_count": 22,
   "metadata": {},
   "outputs": [],
   "source": [
    "# Predict glucose from test data\n",
    "y_pred = regressor.predict(x_test)"
   ]
  },
  {
   "cell_type": "code",
   "execution_count": 23,
   "metadata": {},
   "outputs": [
    {
     "data": {
      "text/plain": [
       "array([124.10181934, 115.65501418, 115.09230445, 112.13108481,\n",
       "       139.77503459, 126.49840242, 108.57875719, 111.27672028,\n",
       "       120.26394165, 109.18363191, 103.22280898, 123.15826848,\n",
       "       113.47925621, 121.70496142, 126.49840242, 101.35762117,\n",
       "       131.6637262 , 128.01636645, 136.7865856 , 135.40959741,\n",
       "       137.63948855, 123.44045712, 116.01498406, 114.54976032,\n",
       "       110.34349498, 139.74592571, 133.28321806, 138.99365416,\n",
       "       117.85199098, 118.83985085, 145.80917001, 127.65447394,\n",
       "       109.02834495, 149.95783694, 108.68291419, 130.73424275,\n",
       "       123.88800808, 103.8475282 , 126.17026004, 130.76207939,\n",
       "       131.03743477, 113.76221831, 113.06347636, 132.28912105,\n",
       "       137.10509424, 158.27571246, 131.57957772, 117.79218562,\n",
       "       132.39713374, 110.98860491, 111.7723878 , 116.93177369,\n",
       "       123.35101475, 129.27744528, 129.39301924, 104.19376942,\n",
       "       130.22655311, 129.17730255, 106.76687328, 111.55148034,\n",
       "       109.54898604, 117.31211024, 115.40466511, 119.68835839,\n",
       "       107.9557321 , 112.81872313, 107.50719452, 145.26714675,\n",
       "       125.61283019, 103.25806437, 108.94243083, 125.22544601,\n",
       "       122.29117664, 109.94305127, 119.8376789 , 141.03628813,\n",
       "       121.68641288, 101.48924824, 151.62569794, 115.71289152,\n",
       "       115.69903527, 121.47659519, 134.02807206, 125.61702045,\n",
       "       117.02891929, 111.41574549, 119.33752873, 122.45006083,\n",
       "       162.7318636 , 133.22059786, 161.32964029, 129.20407187,\n",
       "       136.83259253, 125.88944888, 131.35395591, 111.55148034,\n",
       "       118.3775681 ,  99.58557876, 120.86992115, 116.09632535,\n",
       "       106.51296499, 136.18865467, 130.76207939, 121.29590121,\n",
       "       125.03309004, 112.16710408, 130.62319989, 143.04476973,\n",
       "       106.22411361, 117.61756737, 118.59534833, 127.4400141 ,\n",
       "       116.64350386,  94.72348181, 122.32879716, 127.65447394,\n",
       "       104.76216098, 116.86499437, 145.46845138, 126.17026004,\n",
       "       123.505255  , 110.69176728, 105.01234495, 129.23617396,\n",
       "       105.71292515, 106.80176366, 115.69500179, 110.38623794,\n",
       "       122.55409008, 124.60313609, 103.25806437, 111.27672028,\n",
       "       106.84537185, 147.84165211,  99.08173734, 104.19376942,\n",
       "       110.66007152, 122.53483289,  98.11159061, 106.53440598,\n",
       "       111.31422275, 122.53483289, 124.66320371, 101.72827098,\n",
       "       119.56369315, 110.34349498, 114.48004244, 106.22411361,\n",
       "       120.61677061, 100.84918696, 116.31199241, 106.47075204,\n",
       "       140.10701951, 114.54551932, 125.10527525, 129.27618642,\n",
       "       141.01702009, 104.80837883, 108.95802443, 133.99917413,\n",
       "       123.12447042, 131.92927362, 118.4153294 , 122.95675895,\n",
       "        98.34888556, 127.28383593, 117.11967536, 125.03309004,\n",
       "       124.22130743, 111.70296472, 112.95862185, 113.49653354,\n",
       "       113.25856661, 119.16175167, 133.57273679, 113.25856661,\n",
       "       103.88229342, 109.41038246, 121.14764701, 112.17285374,\n",
       "       135.62777321, 131.6637262 , 124.46039941, 116.10781312,\n",
       "       102.09295493, 178.70409148, 107.67221059, 125.00858056,\n",
       "       118.17974037, 133.6384582 , 101.78849774, 119.15376927,\n",
       "       129.40948294, 129.05387246, 138.11298238, 108.49178092,\n",
       "       120.12723183, 110.7668668 , 123.92435471, 117.59945445,\n",
       "       141.45004523, 167.28946002, 127.28383593, 109.42222346,\n",
       "       101.48924824, 129.63450247, 127.48572422, 109.95431743,\n",
       "       129.98035687, 102.05042918, 123.19445489, 136.24362018,\n",
       "       116.10150533, 112.13108481, 157.01227789, 109.71978781,\n",
       "       157.38637361, 137.30942184, 108.13545528, 138.85971413,\n",
       "       122.43080263, 115.34219235, 133.45370482, 110.66007152,\n",
       "       115.85862556, 104.94125563, 102.50571724, 147.23602267,\n",
       "       136.82877067, 128.18227992, 118.09170804, 121.92726717,\n",
       "       119.14066209, 119.82998146, 104.46654252, 115.21875855,\n",
       "       117.5300362 , 131.35395591, 104.46654252, 114.54757066,\n",
       "       125.10527525,  91.30403219, 134.0533606 , 136.7865856 ,\n",
       "       117.02891929, 126.22474491, 150.66595116,  99.05653305,\n",
       "       112.48601955, 124.26491179, 120.22152735, 112.09203758,\n",
       "       133.38347843, 142.00226403, 101.94415786, 121.16890396,\n",
       "       110.14256286, 129.46871562, 112.03420075, 110.38623794,\n",
       "       123.67451804, 110.97052004, 121.01726295, 129.63450247,\n",
       "       117.00919985, 128.18227992, 127.16340001, 105.53751746,\n",
       "       113.01194592, 106.00853588, 143.00771289, 128.18227992,\n",
       "       137.10509424, 117.04754444, 151.32962046, 125.92019318,\n",
       "       128.17858508, 140.42293992, 142.07387608, 131.26701165,\n",
       "       111.47150894, 127.05958857, 107.50719452, 135.63892574,\n",
       "       151.32962046, 118.94663971, 133.22059786, 112.17775938,\n",
       "       125.68874251, 100.84918696, 126.22474491, 123.505255  ,\n",
       "       102.61658426, 112.92803954, 117.31211024, 105.24952094,\n",
       "       125.10527525, 131.92927362, 129.50143377, 107.08993678,\n",
       "       123.19445489, 108.95802443, 110.94885598, 140.82179652,\n",
       "       129.24720712,  99.58557876, 114.54551932, 118.88747648,\n",
       "       118.63362005, 117.29454301, 146.86672871, 114.93577792,\n",
       "       123.12447042, 119.37790679, 113.59916184, 117.85199098,\n",
       "       158.18456292, 113.56138987, 147.93213244,  97.84271787,\n",
       "       115.40466511, 105.76994988, 162.7318636 , 131.13660956,\n",
       "       107.91831033, 130.22923635, 129.50143377, 132.44634839,\n",
       "       112.17285374, 127.67277639,  98.11159061, 106.80176366,\n",
       "       121.8257108 , 111.04430957, 131.57957772, 126.35654486,\n",
       "       116.89579668, 124.46039941, 125.00858056, 133.85573488,\n",
       "       119.56369315, 197.83722082, 117.53681261, 136.40974273,\n",
       "       118.54978279, 113.37667618, 123.67451804, 117.00919985,\n",
       "       116.31199241, 119.80197151, 152.78742481, 115.91574715,\n",
       "       129.39301924, 127.16340001, 128.98547302, 127.4400141 ,\n",
       "       135.05322453, 103.22280898, 122.32879716, 109.22042951,\n",
       "       121.8257108 , 112.03420075, 115.59483255, 135.43356782,\n",
       "       101.73035338, 112.8094322 , 117.32363406, 129.46871562,\n",
       "       128.24350813,  99.45343032, 124.22130743, 114.54976032,\n",
       "       115.32605319, 130.18567723, 100.68197305, 111.55148034,\n",
       "       104.75013987, 142.91669753, 119.33752873, 114.96866197,\n",
       "       104.94125563, 109.62041408, 118.77250347, 141.38655755,\n",
       "       116.00225305, 117.84777684, 113.37667618, 120.56417109,\n",
       "       110.03302538, 118.4153294 , 141.06529678, 102.7083334 ,\n",
       "       115.68476419, 126.31721153, 134.22307802, 124.11731424,\n",
       "       141.502959  , 124.45685158, 167.28946002, 108.03708941,\n",
       "       131.26701165, 133.99917413, 127.05958857, 122.94624918,\n",
       "       125.61702045, 115.99274146, 136.7865856 , 113.88149354,\n",
       "       120.25250932, 113.15820102, 102.51829625, 119.41417264,\n",
       "       118.63362005, 142.91669753, 115.05590818, 117.59945445,\n",
       "       130.23766966, 116.09632535, 145.20000448, 113.6640323 ,\n",
       "       138.08200095, 113.49653354, 123.09881409, 125.83694477,\n",
       "       129.20746815, 123.88800808, 164.16891508, 117.08915386,\n",
       "       115.55566938, 105.15847492, 133.84597865, 100.51183397,\n",
       "       133.18157414, 122.28884387, 131.92927362, 126.29911023,\n",
       "       115.5989568 , 126.61633924, 117.5300362 , 100.4800694 ,\n",
       "       113.36760111, 128.24350813, 107.42496443, 130.62319989,\n",
       "       160.56773105, 145.20000448, 110.69176728, 117.61756737,\n",
       "       114.28732492, 116.09013746, 123.91306944, 117.00919985,\n",
       "       108.86393056, 117.61756737, 124.76496461, 114.86123348,\n",
       "       113.59090659, 109.18363191, 124.611127  , 145.46845138,\n",
       "       109.94305127, 144.37933202, 119.21578184, 101.78849774,\n",
       "       122.96155435, 106.15714782, 110.36499228, 111.54466621,\n",
       "       110.30045244, 115.43359935, 120.33597679, 111.74320468,\n",
       "       141.01702009, 128.47170191, 119.19594833, 105.71292515,\n",
       "       110.73043908, 128.6903937 , 121.58417192, 120.74117497,\n",
       "       122.7703823 , 114.68656442, 129.05387246, 105.378656  ,\n",
       "       133.84597865, 107.91696732, 110.97052004, 125.83694477,\n",
       "       114.33174169, 122.43080263, 147.85348189, 122.53483289,\n",
       "       115.99274146, 129.60672208, 129.27618642,  99.51503823,\n",
       "       104.19376942, 109.66951797, 120.86992115, 133.84597865,\n",
       "       140.2924223 , 115.55566938, 124.10181934, 109.92585965,\n",
       "       142.91669753, 123.17140761, 104.21423499, 122.32879716,\n",
       "       133.21115679, 116.94665136, 126.6394189 , 126.32911351,\n",
       "       122.7703823 , 147.93213244, 122.96155435, 119.8178548 ,\n",
       "       119.19594833, 131.12670633, 115.43359935, 102.50571724,\n",
       "       135.63892574, 139.52451476, 121.28860368, 142.00226403,\n",
       "       161.32964029, 130.18567723, 128.56335227, 121.8257108 ,\n",
       "       126.26653449, 129.9523894 , 127.53694133, 112.16404431,\n",
       "       133.28321806, 134.00783472, 116.69722611, 126.2199895 ,\n",
       "       128.98547302, 104.39919703, 103.8475282 , 114.86123348,\n",
       "       123.44045712, 112.24529417, 115.35382159, 121.55626176,\n",
       "       102.53580678, 141.57216972, 106.63844077, 119.19594833,\n",
       "       129.20407187, 111.70296472, 102.84437024, 125.22544601,\n",
       "       103.71448395, 118.14219735, 121.896158  , 114.54757066,\n",
       "       128.10411001, 106.57060215, 110.32563895, 104.82399638,\n",
       "       109.95431743, 102.66358918, 111.70296472, 115.36477871,\n",
       "       115.55224508, 120.22152735, 126.26273647, 126.53618533,\n",
       "       124.38335098, 117.32648719, 146.31480241, 115.55566938,\n",
       "       103.25806437, 111.81357533, 110.75480716, 115.71289152,\n",
       "       121.5605613 , 127.16340001, 118.59223786, 125.70761161,\n",
       "       132.4288397 , 139.77503459, 117.54726672, 131.14038413,\n",
       "       122.50054248, 141.06529678, 115.32605319, 138.08200095,\n",
       "       107.91696732, 107.42496443, 105.49033954, 105.71292515,\n",
       "       130.22655311, 143.59158454, 102.7083334 , 110.52380918,\n",
       "       103.22280898, 120.29812367, 129.9523894 , 123.15826848,\n",
       "       114.93577792, 137.13865474, 132.84682554, 105.04658916,\n",
       "       141.06529678, 109.54898604, 113.58757429, 119.68835839,\n",
       "       105.47777076, 126.68646786, 116.93177369, 115.43359935,\n",
       "       110.30045244, 111.04615199, 105.53751746, 110.69176728,\n",
       "       138.85971413, 109.32011636, 107.91831033, 134.22307802,\n",
       "       113.34923893, 121.91955712, 111.04615199, 129.98035687,\n",
       "       106.15714782, 115.91574715, 132.12889488, 106.63844077,\n",
       "       135.40959741, 129.64114856, 122.32879716, 146.86672871,\n",
       "        97.84271787, 125.70761161,  99.08173734, 131.0599364 ,\n",
       "       110.75480716, 168.57575485, 121.92726717, 113.50224014,\n",
       "       108.57537451, 113.50224014, 133.38347843,  98.17229635,\n",
       "       134.99725188, 119.9850255 , 118.80849374, 126.84310402,\n",
       "       173.66178924, 120.12723183, 173.08593575, 123.87878941,\n",
       "       104.3291783 , 126.26653449, 115.5989568 , 131.35395591,\n",
       "       116.86499437, 102.09295493, 128.81106876, 116.10781312,\n",
       "       118.96034425, 143.04476973, 144.12078418, 131.17096092,\n",
       "       128.38232633, 113.61500045, 124.60313609])"
      ]
     },
     "execution_count": 23,
     "metadata": {},
     "output_type": "execute_result"
    }
   ],
   "source": [
    "# Predicted Value\n",
    "y_pred"
   ]
  },
  {
   "cell_type": "code",
   "execution_count": 24,
   "metadata": {},
   "outputs": [
    {
     "data": {
      "text/plain": [
       "667"
      ]
     },
     "execution_count": 24,
     "metadata": {},
     "output_type": "execute_result"
    }
   ],
   "source": [
    "y_pred.size"
   ]
  },
  {
   "cell_type": "code",
   "execution_count": 46,
   "metadata": {},
   "outputs": [
    {
     "data": {
      "image/png": "[encoded data removed]",
      "text/plain": [
       "<Figure size 648x432 with 1 Axes>"
      ]
     },
     "metadata": {
      "needs_background": "light"
     },
     "output_type": "display_data"
    }
   ],
   "source": [
    "x_ax = np.linspace(0,200, num=667)\n",
    "s = 100\n",
    "\n",
    "plt.rcParams[\"figure.figsize\"] = (9, 6)\n",
    "plt.scatter(x_ax, y_test, s, color='cornflowerblue', label=f'Actual Value', marker='o')\n",
    "plt.scatter(x_ax, y_pred, s, color='lime', label=f'Predicted Value', marker='*')\n",
    "\n",
    "plt.title('Predicted Glucose Level vs Actual Glucose Level')\n",
    "plt.legend()\n",
    "plt.ylabel('Glucose Level')\n",
    "plt.show()"
   ]
  },
  {
   "cell_type": "code",
   "execution_count": 39,
   "metadata": {},
   "outputs": [],
   "source": [
    "from sklearn import metrics"
   ]
  },
  {
   "cell_type": "code",
   "execution_count": 40,
   "metadata": {},
   "outputs": [
    {
     "name": "stdout",
     "output_type": "stream",
     "text": [
      "19.67716313739475\n"
     ]
    }
   ],
   "source": [
    "# Mean Absolute Error\n",
    "print(metrics.mean_absolute_error(y_test, y_pred))"
   ]
  },
  {
   "cell_type": "code",
   "execution_count": 41,
   "metadata": {},
   "outputs": [
    {
     "name": "stdout",
     "output_type": "stream",
     "text": [
      "657.9501151282452\n"
     ]
    }
   ],
   "source": [
    "# Mean Squared Error\n",
    "print(metrics.mean_squared_error(y_test, y_pred))"
   ]
  },
  {
   "cell_type": "code",
   "execution_count": 42,
   "metadata": {},
   "outputs": [
    {
     "name": "stdout",
     "output_type": "stream",
     "text": [
      "25.650538300944977\n"
     ]
    }
   ],
   "source": [
    "# Square Root of Mean Squared Error\n",
    "print(np.sqrt(metrics.mean_squared_error(y_test, y_pred)))"
   ]
  },
  {
   "cell_type": "code",
   "execution_count": 45,
   "metadata": {},
   "outputs": [
    {
     "data": {
      "text/plain": [
       "0.2630383357658017"
      ]
     },
     "execution_count": 45,
     "metadata": {},
     "output_type": "execute_result"
    }
   ],
   "source": [
    "# R^2 Error\n",
    "from sklearn.metrics import r2_score\n",
    "r2_score(y_test, y_pred)"
   ]
  }
 ],
 "metadata": {
  "kernelspec": {
   "display_name": "Python 3 (ipykernel)",
   "language": "python",
   "name": "python3"
  },
  "language_info": {
   "codemirror_mode": {
    "name": "ipython",
    "version": 3
   },
   "file_extension": ".py",
   "mimetype": "text/x-python",
   "name": "python",
   "nbconvert_exporter": "python",
   "pygments_lexer": "ipython3",
   "version": "3.9.7"
  }
 },
 "nbformat": 4,
 "nbformat_minor": 1
}
