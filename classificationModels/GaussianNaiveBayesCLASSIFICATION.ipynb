{
 "cells": [
  {
   "cell_type": "code",
   "execution_count": 51,
   "metadata": {},
   "outputs": [],
   "source": [
    "import pandas as pd\n",
    "import numpy as np \n",
    "import matplotlib.pyplot as plt\n",
    "import sklearn\n",
    "\n",
    "from sklearn.model_selection import train_test_split\n",
    "from sklearn.metrics import mean_squared_error\n",
    "from math import sqrt\n",
    "from sklearn.metrics import r2_score\n",
    "from sklearn.metrics import accuracy_score\n",
    "import math\n",
    "data = pd.read_csv(r\"C:\\Users\\rajpr\\Downloads\\archiveClass\\data-ori.csv\")\n",
    "from sklearn.naive_bayes import GaussianNB\n",
    "\n",
    "#GaussianNaiveBayesCLASSIFICATION\n",
    "from sklearn.metrics import confusion_matrix\n",
    "\n",
    "X = data[['HAEMOGLOBINS','ERYTHROCYTE','LEUCOCYTE','AGE','MCH']].values\n",
    "y = data['SOURCE'].values"
   ]
  },
  {
   "cell_type": "code",
   "execution_count": 56,
   "metadata": {},
   "outputs": [
    {
     "name": "stdout",
     "output_type": "stream",
     "text": [
      "[[142 223]\n",
      " [ 90 428]]\n",
      "0.6455266138165345\n"
     ]
    }
   ],
   "source": [
    "x_train, x_test, y_train, y_test = train_test_split(X, y, test_size=0.20, random_state=40)\n",
    "  \n",
    "gnb = GaussianNB() \n",
    "gnb = gnb.fit(x_train, np.ravel(y_train))\n",
    "\n",
    "gnbTrain_predictY = gnb.predict(x_train)\n",
    "gnbTest_predictY = gnb.predict(x_test)\n",
    "\n",
    "# print(confusion_matrix(y_test, gnbTest_predictY))\n",
    "# #print(\"Accuracy score: {:.2f}\".format(accuracy_score(gnbTest_predictY, y_test)))\n",
    "\n",
    "# print(gnb.score(x_test, y_test))\n",
    "\n",
    "print(confusion_matrix(y_test, gnbTest_predictY))\n",
    "print(gnb.score(x_test, y_test))\n",
    "#print(gnb.score(x_train, y_train))"
   ]
  },
  {
   "cell_type": "code",
   "execution_count": null,
   "metadata": {},
   "outputs": [],
   "source": []
  },
  {
   "cell_type": "code",
   "execution_count": null,
   "metadata": {},
   "outputs": [],
   "source": []
  }
 ],
 "metadata": {
  "kernelspec": {
   "display_name": "Python 3",
   "language": "python",
   "name": "python3"
  },
  "language_info": {
   "codemirror_mode": {
    "name": "ipython",
    "version": 3
   },
   "file_extension": ".py",
   "mimetype": "text/x-python",
   "name": "python",
   "nbconvert_exporter": "python",
   "pygments_lexer": "ipython3",
   "version": "3.8.5"
  }
 },
 "nbformat": 4,
 "nbformat_minor": 4
}
