{
 "cells": [
  {
   "cell_type": "code",
   "execution_count": 13,
   "metadata": {},
   "outputs": [],
   "source": [
    "from sklearn.neighbors import NearestCentroid\n",
    "import pandas as pd\n",
    "import numpy as np\n",
    "import matplotlib.pyplot as plt\n",
    "from sklearn.model_selection import train_test_split\n",
    "\n",
    "# Read in the data and save\n",
    "dia = pd.read_csv('C:/Users/Kirsten Korsrud/Documents/diabetes data/data-ori.csv')"
   ]
  },
  {
   "cell_type": "code",
   "execution_count": 14,
   "metadata": {},
   "outputs": [],
   "source": [
    "# Preprocess Data. All strings must be converted to a number (float) for model training\n",
    "dia.SEX = dia.replace('F',float(0))\n",
    "dia.SEX = dia.replace('M',float(1))\n",
    "\n",
    "# Sort the data based on the features (X) and the classes (y)\n",
    "X=dia.iloc[:,0:10].values \n",
    "y=dia.iloc[:,10].values \n",
    "\n",
    "# train_test_split splits the data according to a test size of 1/3 into data for training the model, and testing the model\n",
    "X_train, X_test, y_train, y_test = train_test_split(X, y, test_size=(1/3))"
   ]
  },
  {
   "cell_type": "code",
   "execution_count": 15,
   "metadata": {},
   "outputs": [
    {
     "name": "stdout",
     "output_type": "stream",
     "text": [
      "Accuracy of training set = 0.6161169670180211\n",
      "Accuracy of test set = 0.6206662134602311\n"
     ]
    }
   ],
   "source": [
    "n_neighbors = 15 # number of nearest neighbors it will be searching for and using\n",
    "\n",
    "h = 0.02  # step size in the mesh\n",
    "\n",
    "# create an instance of Neighbours Classifier and fit the data.\n",
    "clf = NearestCentroid(shrink_threshold=0.2)\n",
    "clf.fit(X_train, y_train)\n",
    "y_pred = clf.predict(X_test)\n",
    "\n",
    "print('Accuracy of training set =', clf.score(X_train,y_train))\n",
    "print('Accuracy of test set =', clf.score(X_test,y_test))\n"
   ]
  },
  {
   "cell_type": "code",
   "execution_count": 16,
   "metadata": {},
   "outputs": [
    {
     "data": {
      "image/png": "[encoded data removed]",
      "text/plain": [
       "<Figure size 432x288 with 2 Axes>"
      ]
     },
     "metadata": {
      "needs_background": "light"
     },
     "output_type": "display_data"
    }
   ],
   "source": [
    "import numpy as np\n",
    "import matplotlib.pyplot as plt\n",
    "from sklearn.metrics import ConfusionMatrixDisplay, confusion_matrix\n",
    "from sklearn.svm import SVC\n",
    "\n",
    "clf = SVC(random_state=0)\n",
    "clf.fit(X_train, y_train)\n",
    "\n",
    "predictions = clf.predict(X_test)\n",
    "cm = confusion_matrix(y_test, predictions, labels=clf.classes_)\n",
    "disp = ConfusionMatrixDisplay(confusion_matrix=cm,\n",
    "                              display_labels=clf.classes_)\n",
    "disp.plot()\n",
    "\n",
    "plt.show()"
   ]
  },
  {
   "cell_type": "code",
   "execution_count": 17,
   "metadata": {},
   "outputs": [
    {
     "data": {
      "text/plain": [
       "array(['out'], dtype=object)"
      ]
     },
     "execution_count": 17,
     "metadata": {},
     "output_type": "execute_result"
    }
   ],
   "source": [
    "new = [34,10.2,5.27,16.2,570,19.5,33.3,69.5,40,1]\n",
    "\n",
    "#predict which class the new observation belongs to. Each value in 'new' corresponds to the features defined in 'X' initially\n",
    "#the model predicts that this patient, based on these values, will require 'out'-patient care\n",
    "clf.predict([new])"
   ]
  },
  {
   "cell_type": "code",
   "execution_count": null,
   "metadata": {},
   "outputs": [],
   "source": []
  }
 ],
 "metadata": {
  "kernelspec": {
   "display_name": "Python 3",
   "language": "python",
   "name": "python3"
  },
  "language_info": {
   "codemirror_mode": {
    "name": "ipython",
    "version": 3
   },
   "file_extension": ".py",
   "mimetype": "text/x-python",
   "name": "python",
   "nbconvert_exporter": "python",
   "pygments_lexer": "ipython3",
   "version": "3.8.5"
  }
 },
 "nbformat": 4,
 "nbformat_minor": 4
}
