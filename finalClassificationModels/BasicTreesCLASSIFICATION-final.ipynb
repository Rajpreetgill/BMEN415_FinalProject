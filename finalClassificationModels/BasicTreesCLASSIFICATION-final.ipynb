{
 "cells": [
  {
   "cell_type": "code",
   "execution_count": 18,
   "metadata": {},
   "outputs": [],
   "source": [
    "import pandas as pd\n",
    "import numpy as np \n",
    "import matplotlib.pyplot as plt\n",
    "import sklearn\n",
    "\n",
    "from sklearn.model_selection import train_test_split\n",
    "from sklearn.metrics import mean_squared_error\n",
    "from math import sqrt\n",
    "from sklearn.metrics import r2_score\n",
    "from sklearn.metrics import accuracy_score\n",
    "import math\n",
    "from sklearn import tree\n",
    "from sklearn.metrics import confusion_matrix\n",
    "\n",
    "data = pd.read_csv(r\"C:\\Users\\rajpr\\Downloads\\archiveClass\\data-ori.csv\")\n",
    "\n",
    "X = data[['HAEMOGLOBINS','ERYTHROCYTE','LEUCOCYTE','AGE','MCH']].values\n",
    "y = data['SOURCE'].values\n",
    "\n",
    "#print(X)\n",
    "#print(y)"
   ]
  },
  {
   "cell_type": "code",
   "execution_count": 17,
   "metadata": {},
   "outputs": [
    {
     "name": "stdout",
     "output_type": "stream",
     "text": [
      "[[312 282]\n",
      " [288 574]]\n",
      "0.6085164835164835\n"
     ]
    }
   ],
   "source": [
    "x_train, x_test, y_train, y_test = train_test_split(X, y, test_size=0.33, random_state=40)\n",
    "\n",
    "btc = tree.DecisionTreeClassifier()\n",
    "btc = btc.fit(x_train, y_train)\n",
    "\n",
    "btcTrain_predictY = btc.predict(x_train)\n",
    "btcTest_predictY = btc.predict(x_test)\n",
    "\n",
    "\n",
    "print(confusion_matrix(y_test, btcTest_predictY))\n",
    "print(btc.score(x_test, y_test))"
   ]
  },
  {
   "cell_type": "code",
   "execution_count": null,
   "metadata": {},
   "outputs": [],
   "source": []
  }
 ],
 "metadata": {
  "kernelspec": {
   "display_name": "Python 3",
   "language": "python",
   "name": "python3"
  },
  "language_info": {
   "codemirror_mode": {
    "name": "ipython",
    "version": 3
   },
   "file_extension": ".py",
   "mimetype": "text/x-python",
   "name": "python",
   "nbconvert_exporter": "python",
   "pygments_lexer": "ipython3",
   "version": "3.8.5"
  }
 },
 "nbformat": 4,
 "nbformat_minor": 4
}
